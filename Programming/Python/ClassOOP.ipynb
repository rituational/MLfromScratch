{
 "metadata": {
  "language_info": {
   "codemirror_mode": {
    "name": "ipython",
    "version": 3
   },
   "file_extension": ".py",
   "mimetype": "text/x-python",
   "name": "python",
   "nbconvert_exporter": "python",
   "pygments_lexer": "ipython3",
   "version": "3.8.3"
  },
  "orig_nbformat": 4,
  "kernelspec": {
   "name": "python3",
   "display_name": "Python 3.8.3 64-bit ('base': conda)"
  },
  "interpreter": {
   "hash": "5290d49bf49c861d1e1b9142ef1e6b5b192d9fd7271105af6336aae767748867"
  }
 },
 "nbformat": 4,
 "nbformat_minor": 2,
 "cells": [
  {
   "source": [
    "###Global attributes\n",
    "Assigned before the __init__\n",
    "self hold all attributes and methods for an instance. So a good practice to call global attributes using ClassName.global attribute. Eg. Dog.species in the example below"
   ],
   "cell_type": "markdown",
   "metadata": {}
  },
  {
   "cell_type": "code",
   "execution_count": 14,
   "metadata": {},
   "outputs": [],
   "source": [
    "class Dog():\n",
    "\n",
    "    species = 'mammal' # This is common for all instances. No self (self stores atrributes and method for specific instance)\n",
    "\n",
    "    def __init__(self, breed):\n",
    "\n",
    "        self.attribute_breed = breed #attribute assigned to that particular instance of class (everything for a particular instance stored in class)\n",
    "    \n",
    "    def print_global(self):\n",
    "        print(f\"Global attribute is {Dog.species}\")"
   ]
  },
  {
   "cell_type": "code",
   "execution_count": 7,
   "metadata": {},
   "outputs": [],
   "source": [
    "lab = Dog('lab') # creates one instance of class"
   ]
  },
  {
   "cell_type": "code",
   "execution_count": 3,
   "metadata": {},
   "outputs": [
    {
     "output_type": "execute_result",
     "data": {
      "text/plain": [
       "'lab'"
      ]
     },
     "metadata": {},
     "execution_count": 3
    }
   ],
   "source": [
    "lab.attribute_breed"
   ]
  },
  {
   "cell_type": "code",
   "execution_count": 15,
   "metadata": {},
   "outputs": [
    {
     "output_type": "stream",
     "name": "stdout",
     "text": [
      "Attributes for heman\nheman\nmammal\nAttributes for lab\nlab\nmammal\nWe see species same in both the class instances \n"
     ]
    }
   ],
   "source": [
    "heman = Dog('heman')\n",
    "\n",
    "print('Attributes for heman')\n",
    "print(heman.attribute_breed)\n",
    "print(heman.species)\n",
    "\n",
    "lab = Dog('lab')\n",
    "\n",
    "print('Attributes for lab')\n",
    "print(lab.attribute_breed)\n",
    "print(lab.species)\n",
    "\n",
    "print('We see species same in both the class instances ')"
   ]
  },
  {
   "cell_type": "code",
   "execution_count": 16,
   "metadata": {},
   "outputs": [
    {
     "output_type": "stream",
     "name": "stdout",
     "text": [
      "Global attribute is mammal\n"
     ]
    }
   ],
   "source": [
    "lab.print_global()"
   ]
  },
  {
   "source": [
    "## Inheritance "
   ],
   "cell_type": "markdown",
   "metadata": {}
  },
  {
   "source": [
    "### Polymorphism \n",
    "\n"
   ],
   "cell_type": "markdown",
   "metadata": {}
  }
 ]
}