{
 "cells": [
  {
   "cell_type": "markdown",
   "metadata": {},
   "source": [
    "* Binary Numbers \n",
    "* Subtract: Add 2's complement (invert all bits: Add 1 to it) \n",
    "* * 0011: 2s complement: 1100+1: 1101\n",
    "* * 6-3: 110 + 2s(011): 0110+ (1100+1): 0110 + 1101 : 0011: 3 \n",
    "* \\>> 1: divide by 2: can be used instead of i//2 in loops \n",
    "* << 1: multiply by 2 \n",
    "* number && 0001: if 1: odd else even \n",
    "* Swapping using xor:\n",
    "* * a = 5 (101), b = 7 (111) \n",
    "* * a = a^b (101^111) = 010 \n",
    "* * b = a^b (010^111) = 101 \n",
    "* * a = a^b (010^101) = 111\n",
    "\n",
    "* find MSB: $log_2(n)$"
   ]
  },
  {
   "cell_type": "markdown",
   "metadata": {},
   "source": [
    "* Bit Masking:\n",
    "* find ith bit: \n",
    "* * i = 4  mask: 00000001 shifted to left 4 times (1<<4)\n",
    "* * mask = 00001000\n",
    "* * mask and number: \n",
    "* * * if 00000000: ith bit zero \n",
    "* * * if 00001000: ith bit 1 \n",
    "\n",
    "* set ith bit \n",
    "* * mask: 1<< i times\n",
    "* * mask or number \n",
    "\n",
    "* clear ith bit \n",
    "* * mask: 1<< i times\n",
    "* * invert mask \n",
    "* * mask and number\n",
    "\n",
    "* find number of bits to change a to b \n",
    "* * a^b\n",
    "* * Count 1s in a number \n",
    "* * * right shift by 1, keep adding last number \n",
    "* * * 5()   |$log_2$(5)| = 2 ???? (This gives the position of MSB??)\n",
    "* * * n & (n-1):\n",
    "* * * * Makes the LSB 0 \n",
    "* * * * Count how many time we perform this to get to zero: thats the count of 1s in n\n"
   ]
  },
  {
   "cell_type": "markdown",
   "metadata": {},
   "source": [
    "### Advanced \n",
    "* n^n = 0 (101^101 = 000)\n",
    "* n^0 = n (101 ^ 000 = 101)"
   ]
  },
  {
   "cell_type": "markdown",
   "metadata": {},
   "source": []
  },
  {
   "cell_type": "code",
   "execution_count": 4,
   "metadata": {},
   "outputs": [
    {
     "name": "stdout",
     "output_type": "stream",
     "text": [
      "0b1000\n"
     ]
    }
   ],
   "source": [
    "####### Turn off the rightmost set bit\n",
    "n = 0b001100\n",
    "print(bin(n & (n-1)))"
   ]
  },
  {
   "cell_type": "code",
   "execution_count": 32,
   "metadata": {},
   "outputs": [
    {
     "name": "stdout",
     "output_type": "stream",
     "text": [
      "5\n"
     ]
    }
   ],
   "source": [
    "n = 16 \n",
    "ans = True\n",
    "while n != 0:\n",
    "    if ((n & 0b0111)| 0b100) != 0b100:\n",
    "        print((n & 0b0111)| 0b100)\n",
    "    n = n>>2 \n"
   ]
  },
  {
   "cell_type": "code",
   "execution_count": 8,
   "metadata": {},
   "outputs": [
    {
     "data": {
      "text/plain": [
       "' if right is greater than left, such that MSB right > MSB of left... when we increment by 1 and AND, the result will eventually be zero. \\nTo have a non zero result, the MSB of left and right needs to be same. Then we actually increment and and and get the result. \\nTo get MSB: take $log_2(n)$ '"
      ]
     },
     "execution_count": 8,
     "metadata": {},
     "output_type": "execute_result"
    }
   ],
   "source": [
    "###### bitwise-and-of-numbers-range #######\n",
    "# LC: https://leetcode.com/problems/bitwise-and-of-numbers-range\n",
    "class Solution(object):\n",
    "    def rangeBitwiseAnd(self, left, right):\n",
    "        \"\"\"\n",
    "        :type left: int\n",
    "        :type right: int\n",
    "        :rtype: int\n",
    "        \"\"\"\n",
    "        import math \n",
    "        \n",
    "        if left == 0: \n",
    "            return 0 \n",
    "        \n",
    "        l_msb = int(math.log(left, 2))\n",
    "        r_msb = int(math.log(right, 2))\n",
    "        \n",
    "        if r_msb > l_msb: \n",
    "            return 0 \n",
    "        else: \n",
    "            out = left \n",
    "            while left != right:\n",
    "                left = left + 1\n",
    "                out = out & left\n",
    "            return out \n",
    "\n",
    "''' if right is greater than left, such that MSB right > MSB of left... when we increment by 1 and AND, the result will eventually be zero. \n",
    "To have a non zero result, the MSB of left and right needs to be same. Then we actually increment and and and get the result. \n",
    "To get MSB: take $log_2(n)$ '''\n",
    "\n",
    "# LC: Concise \n",
    "# We need to find the common prefix between left and right \n",
    "class Solution(object):\n",
    "    def rangeBitwiseAnd(self, left, right):\n",
    "        \"\"\"\n",
    "        :type left: int\n",
    "        :type right: int\n",
    "        :rtype: int\n",
    "        \"\"\"\n",
    "        if left == 0: \n",
    "            return 0 \n",
    "        if left == right: \n",
    "            return left \n",
    "        \n",
    "        count = 0\n",
    "        while left != right:\n",
    "            left = left >> 1 \n",
    "            right = right >> 1\n",
    "            count += 1\n",
    "        \n",
    "        return right << count\n",
    "\n",
    "'''\n",
    "For example, for number 26 to 30\n",
    "Their binary form are:\n",
    "11010\n",
    "11011\n",
    "11100　　\n",
    "11101　　\n",
    "11110\n",
    "\n",
    "Because we are trying to find bitwise AND, so if any bit there are at least one 0 and one 1, it always 0. In this case, it is 11000.\n",
    "So we are go to cut all these bit that they are different. In this case we cut the right 3 bit.\n",
    "'''"
   ]
  },
  {
   "cell_type": "code",
   "execution_count": null,
   "metadata": {},
   "outputs": [],
   "source": []
  }
 ],
 "metadata": {
  "interpreter": {
   "hash": "6a33784d2e02aee83e49ac6533fd5586adcd80ae4d6db07a7c73263e9bf81256"
  },
  "kernelspec": {
   "display_name": "Python 3.6.12 64-bit (conda)",
   "name": "python3"
  },
  "language_info": {
   "codemirror_mode": {
    "name": "ipython",
    "version": 3
   },
   "file_extension": ".py",
   "mimetype": "text/x-python",
   "name": "python",
   "nbconvert_exporter": "python",
   "pygments_lexer": "ipython3",
   "version": "3.6.12"
  },
  "orig_nbformat": 4
 },
 "nbformat": 4,
 "nbformat_minor": 2
}
