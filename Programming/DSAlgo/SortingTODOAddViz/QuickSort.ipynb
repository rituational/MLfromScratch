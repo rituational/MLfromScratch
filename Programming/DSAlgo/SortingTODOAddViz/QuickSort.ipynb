{
 "cells": [
  {
   "cell_type": "code",
   "execution_count": null,
   "source": [],
   "outputs": [],
   "metadata": {}
  },
  {
   "cell_type": "code",
   "execution_count": null,
   "source": [],
   "outputs": [],
   "metadata": {}
  },
  {
   "cell_type": "code",
   "execution_count": null,
   "source": [
    "arr = [100, 4, 10, 6 , 1, 35, 65]\r\n",
    "\r\n",
    "quick_sort(arr)"
   ],
   "outputs": [],
   "metadata": {}
  },
  {
   "cell_type": "code",
   "execution_count": 1,
   "source": [
    "class Solution(object):\r\n",
    "    def find132pattern(self, nums):\r\n",
    "        s3 = float('-inf') # very low value\r\n",
    "        stack = []\r\n",
    "\r\n",
    "        for s1_s2 in reversed(nums): # Traverse the list from right to left\r\n",
    "            # Depending on the code-block executed, s1_s2 is a candidate for either s1 (BLOCK-1) or s2 (BLOCK-2) \r\n",
    "\r\n",
    "            # BLOCK-1: s1_s2 = s1 candidate\r\n",
    "            if s1_s2 < s3:\r\n",
    "                # CHECK CONDITION s1 < s3\r\n",
    "                # 1ST RUN: BLOCK SKIPPED => because last element in stack is greater than the \"very low value\" \r\n",
    "                # 2ND RUN: BLOCK SKIPPED => because last element in stack is greater than the \"very low value\"\r\n",
    "                # 3RD RUN: 1st TIME THIS BLOCK CAN POTENTIALLY BE EXECUTED\r\n",
    "                return True\r\n",
    "\r\n",
    "            # BLOCK-2: s1_s2 = s2 candidate\r\n",
    "            while stack and stack[-1] < s1_s2:\r\n",
    "                # CHECK CONDITION s3 < s2\r\n",
    "                # 1ST RUN: BLOCK SKIPPED => because stack is empty\r\n",
    "                # 2ND RUN: 1st TIME THIS BLOCK CAN POTENTIALLY BE EXECUTED => stack is not empty (contains last element of num, candidate for s3). If last element of stack (s3 candidate) is smaller than 2nd-last element of num (s2 candidate), i.e., we satisfy the condition s3 < s2, we update the \"very low value\" in s3 with such small element from the stack. This s3 value (i.e., s3 candidate) will be compared to the next element in num (candidate for s1) in the BLOCK-1 \"if s1_s2 < s3:\"\r\n",
    "                s3 = stack.pop()\r\n",
    "\r\n",
    "            # 1ST RUN: CODE EXECUTED => append last element of num to stack\r\n",
    "            stack.append(s1_s2)\r\n",
    "        return False"
   ],
   "outputs": [],
   "metadata": {}
  },
  {
   "cell_type": "code",
   "execution_count": 3,
   "source": [
    "nums = [3,1,2]\r\n",
    "Solution().find132pattern(nums)"
   ],
   "outputs": [
    {
     "output_type": "execute_result",
     "data": {
      "text/plain": [
       "False"
      ]
     },
     "metadata": {},
     "execution_count": 3
    }
   ],
   "metadata": {}
  },
  {
   "cell_type": "code",
   "execution_count": null,
   "source": [],
   "outputs": [],
   "metadata": {}
  }
 ],
 "metadata": {
  "orig_nbformat": 4,
  "language_info": {
   "name": "python",
   "version": "3.6.12",
   "mimetype": "text/x-python",
   "codemirror_mode": {
    "name": "ipython",
    "version": 3
   },
   "pygments_lexer": "ipython3",
   "nbconvert_exporter": "python",
   "file_extension": ".py"
  },
  "kernelspec": {
   "name": "python3",
   "display_name": "Python 3.6.12 64-bit (conda)"
  },
  "interpreter": {
   "hash": "6a33784d2e02aee83e49ac6533fd5586adcd80ae4d6db07a7c73263e9bf81256"
  }
 },
 "nbformat": 4,
 "nbformat_minor": 2
}