{
 "cells": [
  {
   "cell_type": "code",
   "execution_count": 13,
   "source": [
    "def merge_sort(arr):\r\n",
    "\r\n",
    "    if len(arr) > 1:\r\n",
    "\r\n",
    "        mid = len(arr)//2 \r\n",
    "\r\n",
    "        lefthalf = arr[:mid]\r\n",
    "        righthalf = arr[mid:]\r\n",
    "        merge_sort(lefthalf)\r\n",
    "        merge_sort(righthalf)\r\n",
    "\r\n",
    "        i = 0\r\n",
    "        j = 0\r\n",
    "        k = 0\r\n",
    "\r\n",
    "        while i<len(lefthalf) and j< len(righthalf):\r\n",
    "\r\n",
    "            if lefthalf[i] < righthalf[j]:\r\n",
    "                arr[k] = lefthalf[i]\r\n",
    "                i += 1 \r\n",
    "\r\n",
    "            else: \r\n",
    "                arr[k] = righthalf[j]\r\n",
    "                j += 1 \r\n",
    "\r\n",
    "            k += 1\r\n",
    "        \r\n",
    "        while i<len(lefthalf):\r\n",
    "            arr[k] = lefthalf[i]\r\n",
    "            i += 1\r\n",
    "            k += 1\r\n",
    "        \r\n",
    "        while j< len(righthalf):\r\n",
    "            arr[k] = righthalf[j]\r\n",
    "            j += 1\r\n",
    "            k += 1\r\n"
   ],
   "outputs": [],
   "metadata": {}
  },
  {
   "cell_type": "code",
   "execution_count": 14,
   "source": [
    "arr = [100, 4, 10, 6 , 1, 35, 65]\r\n",
    "\r\n",
    "merge_sort(arr)"
   ],
   "outputs": [],
   "metadata": {}
  },
  {
   "cell_type": "code",
   "execution_count": 16,
   "source": [
    "arr"
   ],
   "outputs": [
    {
     "output_type": "execute_result",
     "data": {
      "text/plain": [
       "[1, 4, 6, 10, 35, 65, 100]"
      ]
     },
     "metadata": {},
     "execution_count": 16
    }
   ],
   "metadata": {}
  },
  {
   "cell_type": "code",
   "execution_count": null,
   "source": [],
   "outputs": [],
   "metadata": {}
  }
 ],
 "metadata": {
  "orig_nbformat": 4,
  "language_info": {
   "name": "python",
   "version": "3.6.12",
   "mimetype": "text/x-python",
   "codemirror_mode": {
    "name": "ipython",
    "version": 3
   },
   "pygments_lexer": "ipython3",
   "nbconvert_exporter": "python",
   "file_extension": ".py"
  },
  "kernelspec": {
   "name": "python3",
   "display_name": "Python 3.6.12 64-bit (conda)"
  },
  "interpreter": {
   "hash": "6a33784d2e02aee83e49ac6533fd5586adcd80ae4d6db07a7c73263e9bf81256"
  }
 },
 "nbformat": 4,
 "nbformat_minor": 2
}