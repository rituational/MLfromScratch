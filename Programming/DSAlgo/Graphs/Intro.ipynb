{
 "cells": [
  {
   "cell_type": "markdown",
   "metadata": {},
   "source": [
    "# Graphs\n",
    "Connection of vertices with edges. G = (V, E)\n",
    "* vertex: key , can have payload attached \n",
    "* directed graph: all edges pointing in one way.\n",
    "* * In degree: No. of edges directed toward a vertex\n",
    "* * Out degree: No. of edges going out of a vertex.\n",
    "* Undirected graph(graph): No direction to edges \n",
    "* * edge considered in both directions \n",
    "* * Degree rather than in, out degree \n",
    "*\n",
    "* self loop: edge pointing to the same vertex. \n",
    "* Parallel edges: Multiple edges connecting same pair of vertices \n",
    "* Simple digraph: No self loop, parallel edges \n",
    "* Non connected: Two disjoint connected graphs (islands?)\n",
    "* * Articulation points: Vertices whose removal will make graph non connected \n",
    "* Bi connected componenets: Removal of one vertex doesnt make them non connected. \n",
    "* Stongly connected: Directed graph which has a path between each pair of vertices \n",
    "* Path: All edges between a pair of vertices \n",
    "* Cyclic : A path that leads to the same vertex \n",
    "* DAG (Directed acyclic graph): \n",
    "* * Topological arrangement: All vertices can be arranged linearly, edges directed forward.\n",
    "\n",
    "\n"
   ]
  },
  {
   "cell_type": "markdown",
   "metadata": {},
   "source": [
    "## Graph Representation\n",
    "\n",
    "### Adjacency Matrix \n",
    "\n",
    "* Adv: Simple \n",
    "* Disadv:\n",
    "* *  Sparse\n",
    "* * Space complexity: O($n^2$)\n",
    "* * We need to search the whole space, time complexity: O($n^2$) \n",
    "* * If weighted graph the matrix elements gives the edge weight. k.as cost adjacency matrix.\n",
    "* Directed: \n",
    "* * Out degree: Check non zero elements in corresponding row \n",
    "* * In degree: Check non zero elements in corresponding column\n",
    "![](./../helper/2.JPG)\n",
    "\n",
    "\n",
    "### Adjacency List \n",
    "\n",
    "* Easy to find what all vertices connected to a vertex\n",
    "* No sparsity\n",
    "* Non Directed: List of size n, linked to all vertices (we represent each vertex twice) Space complexity: O(|V| + 2|E|)\n",
    "* Directed: \n",
    "* * Space complexity: O(|V| + |E|) ~ O(n)\n",
    "* * Out degree: No. of linked list corresponding to that vertex. \n",
    "* * In degree: Cant be found directly. Need to look for thta vertex in all linked lists.\n",
    "* * If in degree is important, we can have inverse adjacency list (it has links to all incoming edges for each vertex.) \n",
    "* For weighted graph, the links also have the weights stored (dict)\n",
    "* Usually for algorithm analysis, we take AL \n",
    "\n",
    "![](./../helper/3.JPG)\n",
    "\n",
    "## Compact list representation \n",
    "array size = 1(we skip zeroth) + no. of vertices +1 (denotes end of array) + 2* no. of edges \n",
    "![](helper/1.JPG)"
   ]
  },
  {
   "cell_type": "markdown",
   "metadata": {},
   "source": [
    "## BFS \n",
    "* Equivalent to level order of a tree.\n",
    "* * We can start with any vertex\n",
    "* * Explore all edges connected to that vertex, in any order. \n",
    "* * BFS may give different results depending on the order in which we consider the edges. \n",
    "* Other definition: We visit a node: Then explore it completely until we are left with none \n",
    "* BFS Spanning Tree: \n",
    "* * The tree made from BFS \n",
    "* * Cross edges: Dotted lines, Will connect vetrices in adjacent levels, there wont be a big jump\n",
    "* Time complexity: We are visiting all vertices once O(n)"
   ]
  },
  {
   "cell_type": "markdown",
   "metadata": {},
   "source": [
    "## DFS \n",
    "* Similar to pre order of a tree. \n",
    "* * Visit a vertex. \n",
    "* * Explore a neighbour edge. Push the previous edge in stack \n",
    "* * Continur exploring this new vertex. \n",
    "* * Dotted lines: Back edges (going back/up)\n",
    "* Analytical time: O(n) \n",
    "\n",
    "![](helper/2.JPG)"
   ]
  },
  {
   "cell_type": "markdown",
   "metadata": {},
   "source": []
  }
 ],
 "metadata": {
  "language_info": {
   "name": "python"
  },
  "orig_nbformat": 4
 },
 "nbformat": 4,
 "nbformat_minor": 2
}
