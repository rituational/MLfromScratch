{
 "cells": [
  {
   "cell_type": "markdown",
   "source": [
    "# Graphs\r\n",
    "\r\n",
    "* vertex: key , can hav epayload attached \r\n",
    "* directed graph: all edges pointing in one way.\r\n",
    "* edges may be weighted. Eg: weight shows the distance between two cities."
   ],
   "metadata": {}
  },
  {
   "cell_type": "markdown",
   "source": [
    "## Graph Representation\r\n",
    "\r\n",
    "### Adjacency Matrix \r\n",
    "\r\n",
    "* Adv: Simple \r\n",
    "* Disadv: Sparse\r\n",
    "\r\n",
    "![](./../helper/2.JPG)\r\n",
    "\r\n",
    "\r\n",
    "### Adjacency List \r\n",
    "\r\n",
    "* Easy to find what all vertices connected to a vertex\r\n",
    "* No sparsity\r\n",
    "\r\n",
    "![](./../helper/3.JPG)"
   ],
   "metadata": {}
  },
  {
   "cell_type": "markdown",
   "source": [],
   "metadata": {}
  }
 ],
 "metadata": {
  "orig_nbformat": 4,
  "language_info": {
   "name": "python"
  }
 },
 "nbformat": 4,
 "nbformat_minor": 2
}