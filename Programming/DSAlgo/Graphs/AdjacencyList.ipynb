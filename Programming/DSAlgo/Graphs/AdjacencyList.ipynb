{
 "cells": [
  {
   "cell_type": "code",
   "execution_count": 2,
   "source": [
    "class Vertex:\r\n",
    "\r\n",
    "    def __init__(self, key):\r\n",
    "        self.id = key \r\n",
    "        self.connectedTo = {}\r\n",
    "\r\n",
    "    def addNeighbour(self, nbr, weight = 0):\r\n",
    "        self.connectedTo[nbr] = weight\r\n",
    "\r\n",
    "    def getConnections(self):\r\n",
    "        return self.connectedTo.keys()\r\n",
    "\r\n",
    "    def getId(self):\r\n",
    "        self.id\r\n",
    "    \r\n",
    "    def getWeight(self, nbr):\r\n",
    "        if nbr not in self.connectedTo.keys(): #my extra \r\n",
    "            return 'Doesnt exist'\r\n",
    "        else:\r\n",
    "            return self.connectedTo[nbr]\r\n",
    "\r\n",
    "    def __str__(self):\r\n",
    "\r\n",
    "        return str(self.id) + 'connected_to' + str(x.id for x in self.connectedTo)\r\n"
   ],
   "outputs": [],
   "metadata": {}
  },
  {
   "cell_type": "code",
   "execution_count": 3,
   "source": [
    "class Graph():\r\n",
    "\r\n",
    "    def __init__(self):\r\n",
    "        self.vertList = {}\r\n",
    "        self.numVertices = 0 \r\n",
    "\r\n",
    "    def addVertex(self, key):\r\n",
    "        \r\n",
    "        self.numVertices += 1\r\n",
    "        newVertex = Vertex(key)\r\n",
    "        self.vertList[key] = newVertex\r\n",
    "        return newVertex\r\n",
    "\r\n",
    "    def getVertex(self, n):\r\n",
    "        if n in self.vertices: #default search the keys\r\n",
    "            return self.vertList[n]\r\n",
    "\r\n",
    "    def addEdge(self, f, t , cost =0):\r\n",
    "        if f not in self.vertList:\r\n",
    "            nv = self.addVertex(f)\r\n",
    "\r\n",
    "        if t not in self.vertList:\r\n",
    "            nv = self.addVertex(t)\r\n",
    "\r\n",
    "        self.vertList[f].addNeighbour(self.vertList[t], cost)\r\n",
    "\r\n",
    "    def getVertices(self):\r\n",
    "        return self.vertList.keys() \r\n",
    "\r\n",
    "    def __iter__(self):\r\n",
    "        return iter(self.vertList.values())  \r\n",
    "\r\n",
    "    def __contains__(self, n):\r\n",
    "        return n in self.vertList #default finds key\r\n",
    "\r\n"
   ],
   "outputs": [],
   "metadata": {}
  },
  {
   "cell_type": "code",
   "execution_count": 4,
   "source": [
    "g = Graph()"
   ],
   "outputs": [],
   "metadata": {}
  },
  {
   "cell_type": "code",
   "execution_count": 5,
   "source": [
    "for i in range(6):\r\n",
    "    g.addVertex(i)\r\n",
    "    "
   ],
   "outputs": [],
   "metadata": {}
  },
  {
   "cell_type": "code",
   "execution_count": 6,
   "source": [
    "g.vertList"
   ],
   "outputs": [
    {
     "output_type": "execute_result",
     "data": {
      "text/plain": [
       "{0: <__main__.Vertex at 0x1b1224a9b38>,\n",
       " 1: <__main__.Vertex at 0x1b1224a9ac8>,\n",
       " 2: <__main__.Vertex at 0x1b1224a9198>,\n",
       " 3: <__main__.Vertex at 0x1b1224a90f0>,\n",
       " 4: <__main__.Vertex at 0x1b1224a9cc0>,\n",
       " 5: <__main__.Vertex at 0x1b1224a99b0>}"
      ]
     },
     "metadata": {},
     "execution_count": 6
    }
   ],
   "metadata": {}
  },
  {
   "cell_type": "code",
   "execution_count": 7,
   "source": [
    "g.addEdge(0 ,1, 4)"
   ],
   "outputs": [],
   "metadata": {}
  },
  {
   "cell_type": "code",
   "execution_count": 9,
   "source": [
    "for vertex in g: \r\n",
    "    print(vertex)\r\n",
    "    print(vertex.getConnections())"
   ],
   "outputs": [
    {
     "output_type": "stream",
     "name": "stdout",
     "text": [
      "0connected_to<generator object Vertex.__str__.<locals>.<genexpr> at 0x000001B122946FC0>\n",
      "0connected_to<generator object Vertex.__str__.<locals>.<genexpr> at 0x000001B122946FC0>\n",
      "1connected_to<generator object Vertex.__str__.<locals>.<genexpr> at 0x000001B122946FC0>\n",
      "1connected_to<generator object Vertex.__str__.<locals>.<genexpr> at 0x000001B122946FC0>\n",
      "2connected_to<generator object Vertex.__str__.<locals>.<genexpr> at 0x000001B122946FC0>\n",
      "2connected_to<generator object Vertex.__str__.<locals>.<genexpr> at 0x000001B122946FC0>\n",
      "3connected_to<generator object Vertex.__str__.<locals>.<genexpr> at 0x000001B122946FC0>\n",
      "3connected_to<generator object Vertex.__str__.<locals>.<genexpr> at 0x000001B122946FC0>\n",
      "4connected_to<generator object Vertex.__str__.<locals>.<genexpr> at 0x000001B122946FC0>\n",
      "4connected_to<generator object Vertex.__str__.<locals>.<genexpr> at 0x000001B122946FC0>\n",
      "5connected_to<generator object Vertex.__str__.<locals>.<genexpr> at 0x000001B122946FC0>\n",
      "5connected_to<generator object Vertex.__str__.<locals>.<genexpr> at 0x000001B122946FC0>\n"
     ]
    }
   ],
   "metadata": {}
  },
  {
   "cell_type": "code",
   "execution_count": null,
   "source": [],
   "outputs": [],
   "metadata": {}
  }
 ],
 "metadata": {
  "orig_nbformat": 4,
  "language_info": {
   "name": "python",
   "version": "3.6.12",
   "mimetype": "text/x-python",
   "codemirror_mode": {
    "name": "ipython",
    "version": 3
   },
   "pygments_lexer": "ipython3",
   "nbconvert_exporter": "python",
   "file_extension": ".py"
  },
  "kernelspec": {
   "name": "python3",
   "display_name": "Python 3.6.12 64-bit (conda)"
  },
  "interpreter": {
   "hash": "6a33784d2e02aee83e49ac6533fd5586adcd80ae4d6db07a7c73263e9bf81256"
  }
 },
 "nbformat": 4,
 "nbformat_minor": 2
}