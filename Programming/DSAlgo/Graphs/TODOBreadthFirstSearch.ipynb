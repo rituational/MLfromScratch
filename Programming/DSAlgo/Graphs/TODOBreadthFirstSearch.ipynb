{
 "cells": [
  {
   "cell_type": "markdown",
   "source": [
    "#### Note\r\n",
    "* A graph stored as an adjacency list requires: (no. of vertices + no. of edges) space \r\n",
    "vs adjacency matrix which needs (no. of vertices * no. of edges) space \r\n",
    "* In directed graphs, an edge can go back to a vertex in previous stage and we need to make sure we dont consider that (so black out the vertices we already checked)\r\n",
    "\r\n",
    "\r\n",
    "Ref: https://www.youtube.com/watch?v=s-CYnVz-uh4 "
   ],
   "metadata": {}
  },
  {
   "cell_type": "code",
   "execution_count": 1,
   "source": [
    "graph = {'A': set(['B', 'C']),\r\n",
    "         'B': set(['A', 'D', 'E']),\r\n",
    "         'C': set(['A', 'F']),\r\n",
    "         'D': set(['B']),\r\n",
    "         'E': set(['B', 'F']),\r\n",
    "         'F': set(['C', 'E'])}"
   ],
   "outputs": [],
   "metadata": {}
  },
  {
   "cell_type": "code",
   "execution_count": null,
   "source": [
    "# my initial approach\r\n",
    "def bfs(graph, start):\r\n",
    "\r\n",
    "    visited = set()\r\n",
    "    queue = [start]\r\n",
    "\r\n",
    "    while queue:\r\n",
    "        current = queue.pop(0)\r\n",
    "\r\n",
    "        for node in graph[current]: \r\n",
    "\r\n",
    "            if node not in visited:\r\n",
    "                if node not in queue:\r\n",
    "                    queue.append(node) \r\n",
    "            \r\n",
    "        visited.add(current)\r\n"
   ],
   "outputs": [],
   "metadata": {}
  },
  {
   "cell_type": "code",
   "execution_count": null,
   "source": [
    "# add parent later \r\n",
    "def bfs(graph, start):\r\n",
    "\r\n",
    "    visited = set()\r\n",
    "    queue = [start]\r\n",
    "\r\n",
    "    while queue:\r\n",
    "        vertex = queue.pop(0)\r\n",
    "\r\n",
    "        if vertex not in visited:\r\n",
    "            visited.add(vertex)\r\n",
    "            queue.extend(graph[vertex]- visited) \r\n",
    "            \r\n",
    "        return visited"
   ],
   "outputs": [],
   "metadata": {}
  },
  {
   "cell_type": "code",
   "execution_count": null,
   "source": [],
   "outputs": [],
   "metadata": {}
  },
  {
   "cell_type": "code",
   "execution_count": null,
   "source": [],
   "outputs": [],
   "metadata": {}
  },
  {
   "cell_type": "code",
   "execution_count": null,
   "source": [],
   "outputs": [],
   "metadata": {}
  },
  {
   "cell_type": "code",
   "execution_count": 1,
   "source": [
    "trust = [[1,3],[1,4],[2,3],[2,4],[4,3]]\r\n",
    "adj = {}\r\n",
    "for pair in trust:\r\n",
    "    adj[pair[0]] = \r\n",
    "    "
   ],
   "outputs": [
    {
     "output_type": "stream",
     "name": "stdout",
     "text": [
      "[1, 3]\n",
      "[1, 4]\n",
      "[2, 3]\n",
      "[2, 4]\n",
      "[4, 3]\n"
     ]
    }
   ],
   "metadata": {}
  },
  {
   "cell_type": "code",
   "execution_count": null,
   "source": [],
   "outputs": [],
   "metadata": {}
  }
 ],
 "metadata": {
  "orig_nbformat": 4,
  "language_info": {
   "name": "python",
   "version": "3.6.12",
   "mimetype": "text/x-python",
   "codemirror_mode": {
    "name": "ipython",
    "version": 3
   },
   "pygments_lexer": "ipython3",
   "nbconvert_exporter": "python",
   "file_extension": ".py"
  },
  "kernelspec": {
   "name": "python3",
   "display_name": "Python 3.6.12 64-bit (conda)"
  },
  "interpreter": {
   "hash": "6a33784d2e02aee83e49ac6533fd5586adcd80ae4d6db07a7c73263e9bf81256"
  }
 },
 "nbformat": 4,
 "nbformat_minor": 2
}