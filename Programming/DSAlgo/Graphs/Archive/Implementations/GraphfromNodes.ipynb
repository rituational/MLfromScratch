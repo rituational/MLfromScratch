{
 "cells": [
  {
   "cell_type": "code",
   "execution_count": 4,
   "source": [
    "from enum import Enum\r\n",
    "from collections import OrderedDict"
   ],
   "outputs": [],
   "metadata": {}
  },
  {
   "cell_type": "code",
   "execution_count": 5,
   "source": [
    "class State(Enum):\r\n",
    "    unvisited = 1 \r\n",
    "    visited = 2\r\n",
    "    visiting = 3"
   ],
   "outputs": [],
   "metadata": {}
  },
  {
   "cell_type": "code",
   "execution_count": 3,
   "source": [
    "class Node:\r\n",
    "\r\n",
    "    def __init__(self, num):\r\n",
    "\r\n",
    "        self.num = num\r\n",
    "        self.visit_state = State.unvisited \r\n",
    "        self.adjacent = OrderedDict() # key: Node value: weight\r\n",
    "\r\n",
    "    def __str__(self):\r\n",
    "        return str(self.num) "
   ],
   "outputs": [],
   "metadata": {}
  },
  {
   "cell_type": "code",
   "execution_count": null,
   "source": [
    "class Graph: \r\n",
    "\r\n",
    "    def __init__(self):\r\n",
    "       self.nodes = OrderedDict()\r\n",
    "\r\n",
    "    def add_node(self, num):\r\n",
    "        node = Node[num]\r\n",
    "        self.nodes[num] = node\r\n",
    "        return node \r\n",
    "\r\n",
    "    def add_edge(self, s, f, cost = 0): # start, finish\r\n",
    "        # this implementation will make sure if we have directed graph we put an edge only to source \r\n",
    "        # what for bi directional??? \r\n",
    "        if s not in self.nodes:\r\n",
    "            self.add_node(s)\r\n",
    "\r\n",
    "        if f not in self.nodes:\r\n",
    "            self.add_node(f)\r\n",
    "\r\n",
    "        self.nodes[s].adjacent[self.nodes[f]] = cost\r\n",
    "\r\n",
    "        \r\n",
    "\r\n",
    "    \r\n"
   ],
   "outputs": [],
   "metadata": {}
  }
 ],
 "metadata": {
  "orig_nbformat": 4,
  "language_info": {
   "name": "python",
   "version": "3.6.12",
   "mimetype": "text/x-python",
   "codemirror_mode": {
    "name": "ipython",
    "version": 3
   },
   "pygments_lexer": "ipython3",
   "nbconvert_exporter": "python",
   "file_extension": ".py"
  },
  "kernelspec": {
   "name": "python3",
   "display_name": "Python 3.6.12 64-bit (conda)"
  },
  "interpreter": {
   "hash": "6a33784d2e02aee83e49ac6533fd5586adcd80ae4d6db07a7c73263e9bf81256"
  }
 },
 "nbformat": 4,
 "nbformat_minor": 2
}