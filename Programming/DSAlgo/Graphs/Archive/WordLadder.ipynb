{
 "cells": [
  {
   "cell_type": "code",
   "execution_count": 1,
   "source": [
    " class Vertex:\r\n",
    "\r\n",
    "    def __init__(self, key):\r\n",
    "        self.id = key \r\n",
    "        self.connectedTo = {}\r\n",
    "\r\n",
    "    def addNeighbour(self, nbr, weight = 0):\r\n",
    "        self.connectedTo[nbr] = weight\r\n",
    "\r\n",
    "    def getConnections(self):\r\n",
    "        return self.connectedTo.keys()\r\n",
    "\r\n",
    "    def getId(self):\r\n",
    "        self.id\r\n",
    "    \r\n",
    "    def getWeight(self, nbr):\r\n",
    "        if nbr not in self.connectedTo.keys(): #my extra \r\n",
    "            return 'Doesnt exist'\r\n",
    "        else:\r\n",
    "            return self.connectedTo[nbr]\r\n",
    "\r\n",
    "    def __str__(self):\r\n",
    "\r\n",
    "        return str(self.id) + 'connected_to' + str(x.id for x in self.connectedTo)\r\n"
   ],
   "outputs": [],
   "metadata": {}
  },
  {
   "cell_type": "code",
   "execution_count": 2,
   "source": [
    "class Graph():\r\n",
    "\r\n",
    "    def __init__(self):\r\n",
    "        self.vertList = {}\r\n",
    "        self.numVertices = 0 \r\n",
    "\r\n",
    "    def addVertex(self, key):\r\n",
    "        \r\n",
    "        self.numVertices += 1\r\n",
    "        newVertex = Vertex(key)\r\n",
    "        self.vertList[key] = newVertex\r\n",
    "        return newVertex\r\n",
    "\r\n",
    "    def getVertex(self, n):\r\n",
    "        if n in self.vertices: #default search the keys\r\n",
    "            return self.vertList[n]\r\n",
    "\r\n",
    "    def addEdge(self, f, t , cost =0):\r\n",
    "        if f not in self.vertList:\r\n",
    "            nv = self.addVertex(f)\r\n",
    "\r\n",
    "        if t not in self.vertList:\r\n",
    "            nv = self.addVertex(t)\r\n",
    "\r\n",
    "        self.vertList[f].addNeighbour(self.vertList[t], cost)\r\n",
    "\r\n",
    "    def getVertices(self):\r\n",
    "        return self.vertList.keys() \r\n",
    "\r\n",
    "    def __iter__(self):\r\n",
    "        return iter(self.vertList.values())  \r\n",
    "\r\n",
    "    def __contains__(self, n):\r\n",
    "        return n in self.vertList #default finds key\r\n"
   ],
   "outputs": [],
   "metadata": {}
  },
  {
   "cell_type": "code",
   "execution_count": null,
   "source": [
    "def  buildGraph(wordFile):\r\n",
    "\r\n",
    "    d = {}\r\n",
    "    g = Graph()\r\n",
    "\r\n",
    "    wfile = open(wordFile, 'r')\r\n",
    "\r\n",
    "    for line in wfile:\r\n",
    "        word = line[:-1]\r\n",
    "\r\n",
    "        for i in range(len(word)):\r\n",
    "            bucket = word[:i] + '_' + word[i+1:]\r\n",
    "\r\n",
    "            if bucket in d:\r\n",
    "                d[bucket].append(word)\r\n",
    "            else:\r\n",
    "                d[bucket] = word\r\n",
    "\r\n",
    "    for bucket in d.keys():\r\n",
    "        for word1 in d[bucket]:\r\n",
    "            for word2 in d[bucket]:\r\n",
    "                if word1 != word2:\r\n",
    "                    g.addEdge(word1, word2)\r\n",
    "\r\n",
    "    return g \r\n",
    "        \r\n",
    "        \r\n",
    "        \r\n",
    "    "
   ],
   "outputs": [],
   "metadata": {}
  }
 ],
 "metadata": {
  "orig_nbformat": 4,
  "language_info": {
   "name": "python",
   "version": "3.6.12",
   "mimetype": "text/x-python",
   "codemirror_mode": {
    "name": "ipython",
    "version": 3
   },
   "pygments_lexer": "ipython3",
   "nbconvert_exporter": "python",
   "file_extension": ".py"
  },
  "kernelspec": {
   "name": "python3",
   "display_name": "Python 3.6.12 64-bit (conda)"
  },
  "interpreter": {
   "hash": "6a33784d2e02aee83e49ac6533fd5586adcd80ae4d6db07a7c73263e9bf81256"
  }
 },
 "nbformat": 4,
 "nbformat_minor": 2
}