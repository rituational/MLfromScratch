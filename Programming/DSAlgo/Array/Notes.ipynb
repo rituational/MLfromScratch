{
 "cells": [
  {
   "cell_type": "markdown",
   "source": [
    "## Arrays \r\n",
    "Elements stored in a continuous block of memory. \r\n",
    "\r\n",
    "## Array declaration \r\n",
    "### C++\r\n"
   ],
   "metadata": {}
  },
  {
   "cell_type": "code",
   "execution_count": null,
   "source": [
    "\tint A[10];\r\n",
    "\tint B[] = { 1,2,3,4,5 };\r\n",
    "\tcout << size(B)<<endl;\r\n",
    "\tint C[10] = { 1,2,3,4,5 };\r\n",
    "\tcout << size(C) << endl;\r\n",
    "\tcout << C[11] << endl; //reads invalid data, but doesnt throw error. So we should ake care of this in our code.\r\n",
    "    cout << 2[C] << endl; //index outside, array inside\r\n",
    "    cout << *(C+4) << endl; //using pointer arithematic"
   ],
   "outputs": [],
   "metadata": {}
  },
  {
   "cell_type": "markdown",
   "source": [
    "## Static vs Dynamic array\r\n",
    "\r\n",
    "We always need to initialize a pointer to access heap memory (dynamic memory)\r\n",
    "\r\n",
    "    int main()\r\n",
    "    {\r\n",
    "        int A[10];\r\n",
    "        int* p = new int[10]; \r\n",
    "        for (int i = 0; i < 10;i++)\r\n",
    "        {\r\n",
    "            p[i] = i;\r\n",
    "        }\r\n",
    "        cout << *(p + 4) << endl;\t\r\n",
    "\r\n",
    "        return 0;\r\n",
    "    }"
   ],
   "metadata": {}
  },
  {
   "cell_type": "markdown",
   "source": [],
   "metadata": {}
  }
 ],
 "metadata": {
  "orig_nbformat": 4,
  "language_info": {
   "name": "python"
  }
 },
 "nbformat": 4,
 "nbformat_minor": 2
}