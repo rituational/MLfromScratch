{
 "cells": [
  {
   "cell_type": "code",
   "execution_count": null,
   "metadata": {},
   "outputs": [],
   "source": [
    "############### Interval Intersection ############################ \n",
    "# LC: \n",
    "\n",
    "\n",
    "class Solution(object):\n",
    "    def intervalIntersection(self, firstList, secondList):\n",
    "        \"\"\"\n",
    "        :type firstList: List[List[int]]\n",
    "        :type secondList: List[List[int]]\n",
    "        :rtype: List[List[int]]\n",
    "        \"\"\"\n",
    "        \n",
    "        i1 = 0 \n",
    "        i2 = 0\n",
    "        self.out = []\n",
    "        \n",
    "        while (i1 < len(firstList)) and (i2 < len(secondList)):\n",
    "            left = max(firstList[i1][0], secondList[i2][0])\n",
    "            right = min(firstList[i1][1], secondList[i2][1])\n",
    "\n",
    "            if left <= right: \n",
    "                self.out.append([left, right])\n",
    "\n",
    "            if firstList[i1][1] <= secondList[i2][1]: \n",
    "                i1 += 1\n",
    "            else: \n",
    "                i2 += 1\n",
    "            \n",
    "        return self.out"
   ]
  },
  {
   "cell_type": "markdown",
   "metadata": {},
   "source": [
    "![](helper/4.JPG)"
   ]
  },
  {
   "cell_type": "code",
   "execution_count": null,
   "metadata": {},
   "outputs": [],
   "source": [
    "########### Container with most water ################ \n",
    "\n",
    "class Solution(object):\n",
    "    def maxArea(self, height):\n",
    "        \"\"\"\n",
    "        :type height: List[int]\n",
    "        :rtype: int\n",
    "        \"\"\"\n",
    "        max_vol = 0\n",
    "        left = 0 \n",
    "        right = len(height) - 1\n",
    "        \n",
    "        while left < right:\n",
    "            vol = (right-left)*min(height[left], height[right])\n",
    "            if vol > max_vol: \n",
    "                max_vol = vol \n",
    "            if height[left] > height[right]:\n",
    "                right = right - 1\n",
    "            else: \n",
    "                left = left + 1\n",
    "                \n",
    "        return max_vol\n",
    "''' \n",
    "2 pointers. \n",
    "* We start with the 2 pointer at opposite ends (because that maximizes our breadth\n",
    "* We retain the pointer with greater height, move the other one. \n",
    "* continue until the pointers collide.\n",
    "'''              "
   ]
  },
  {
   "cell_type": "code",
   "execution_count": null,
   "metadata": {},
   "outputs": [],
   "source": []
  }
 ],
 "metadata": {
  "language_info": {
   "name": "python"
  },
  "orig_nbformat": 4
 },
 "nbformat": 4,
 "nbformat_minor": 2
}
