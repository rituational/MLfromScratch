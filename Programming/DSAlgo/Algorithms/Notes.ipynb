{
 "cells": [
  {
   "cell_type": "markdown",
   "metadata": {},
   "source": [
    "### Backtracking\n",
    "* Follow brute force approach. \n",
    "* Generate state space tree of all possible states \n",
    "* Using bounding function, kill the nodes which dont satisfy the criteria \n",
    "* Backtracking vs Branch and cound: backtracking is DFS, while b and b is BFS \n",
    "* Backtracking vs DP: DP we are optimizing something. Here we are generating all possible situations "
   ]
  }
 ],
 "metadata": {
  "language_info": {
   "name": "python"
  },
  "orig_nbformat": 4
 },
 "nbformat": 4,
 "nbformat_minor": 2
}
