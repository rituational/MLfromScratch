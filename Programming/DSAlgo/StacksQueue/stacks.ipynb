{
 "cells": [
  {
   "cell_type": "markdown",
   "source": [
    "## Implemented \r\n",
    "* Stacks using arrays \r\n",
    "* Stacks using LL \r\n",
    "* Matching paranthesis"
   ],
   "metadata": {}
  },
  {
   "cell_type": "markdown",
   "source": [
    "## Tips: \r\n",
    "* Stacks are LIFO \r\n",
    "* * Array implementation: like python list, append at the last, pop from last \r\n",
    "* * LL: Add new element in the head, remove from head \r\n",
    "\r\n"
   ],
   "metadata": {}
  },
  {
   "cell_type": "markdown",
   "source": [
    "## Stacks \r\n",
    "\r\n",
    "* ordered collection of items \r\n",
    "* items near base are the one which have been stored the longest\r\n",
    "* LIFO\r\n",
    "* can be used to reverse order of items Eg: Back button in browser\r\n",
    "\r\n",
    "\r\n",
    "\r\n",
    "TODO: \r\n",
    "Implement using :\r\n",
    "* Queue \r\n",
    "* Dequeue \r\n",
    "* linked lists "
   ],
   "metadata": {}
  },
  {
   "cell_type": "code",
   "execution_count": 2,
   "source": [
    "class Stack(object):\r\n",
    "    \r\n",
    "    def __init__(self):\r\n",
    "        self.stack = []\r\n",
    "\r\n",
    "    def isEmpty(self):\r\n",
    "        if self.stack == None:\r\n",
    "            print(\"empty stack\")\r\n",
    "    \r\n",
    "    def push(self, item):\r\n",
    "        self.stack.append(item)\r\n",
    "    \r\n",
    "    def pop(self):\r\n",
    "        return self.stack.pop()\r\n",
    "\r\n",
    "    def peek(self):\r\n",
    "        return self.stack[len(self.stack) - 1]  # We need to show the last item\r\n"
   ],
   "outputs": [],
   "metadata": {}
  },
  {
   "cell_type": "code",
   "execution_count": 1,
   "source": [
    "class Stack:\r\n",
    "\r\n",
    "\tdef __init__(self):\r\n",
    "\t\tself.cap = 5 \r\n",
    "\t\tself.A = [-1]*self.cap\r\n",
    "\t\tself.last = 0\r\n",
    "\r\n",
    "\tdef push(self, value):\r\n",
    "\t\tself.A[self.last] = value\r\n",
    "\t\tself.last += 1\r\n",
    "\t\t\r\n",
    "\t\tif self.last==self.cap:\r\n",
    "\t\t\ttemp = [-1]*(2*self.cap)\r\n",
    "\t\t\tfor i in range(len(self.A)):\r\n",
    "\t\t\t\ttemp[i] = self.A[i]\r\n",
    "\t\t\tself.A = temp\r\n",
    "\t\t\tself.cap = 2*self.cap\r\n",
    "\r\n",
    "\tdef pop(self):\r\n",
    "\t\tif self.last==0:\r\n",
    "\t\t\tprint(\"Empty\")\r\n",
    "\t\t\treturn -1\r\n",
    "\t\telse:\r\n",
    "\t\t\tself.last -= 1\r\n",
    "\t\t\tpopped = self.A[self.last]\r\n",
    "\t\t\treturn popped\r\n",
    "\t\r\n",
    "\tdef peek(self, position):\r\n",
    "\t\t'''1 indexed position from top of stack'''\r\n",
    "\t\tif self.last-position>=0: \r\n",
    "\t\t\treturn self.A[self.last-position]\r\n",
    "\t\telse:\r\n",
    "\t\t\tprint(\"Reached end of stack\")\r\n",
    "\t\t\treturn -1\r\n",
    "\r\n",
    "\tdef is_empty(self):\r\n",
    "\t\treturn self.last==0\r\n"
   ],
   "outputs": [],
   "metadata": {}
  },
  {
   "cell_type": "code",
   "execution_count": 2,
   "source": [
    "S = Stack()\r\n",
    "\r\n",
    "S.push(1)\r\n",
    "S.push(2)\r\n",
    "S.push(3)\r\n",
    "\r\n",
    "print(S.peek(1))\r\n",
    "\r\n",
    "S.pop()\r\n",
    "\r\n",
    "print(S.peek(1))\r\n",
    "print(S.peek(2))\r\n",
    "print(S.peek(3))\r\n",
    "# S.push(4)\r\n",
    "# S.push(5)\r\n",
    "# print(S.pop())\r\n",
    "# print(S.pop())\r\n",
    "# print(S.pop())\r\n",
    "# print(S.pop())\r\n",
    "# print(S.pop())"
   ],
   "outputs": [
    {
     "output_type": "stream",
     "name": "stdout",
     "text": [
      "3\n",
      "2\n",
      "1\n",
      "Reached end of stack\n",
      "-1\n"
     ]
    }
   ],
   "metadata": {}
  },
  {
   "cell_type": "code",
   "execution_count": 3,
   "source": [
    "class Node:\r\n",
    "\tdef __init__(self,value):\r\n",
    "\t\tself.value = value \r\n",
    "\t\tself.next = next\r\n",
    "\r\n",
    "class StackUsingLL:\r\n",
    "\r\n",
    "\tdef __init__(self):\r\n",
    "\t\tself.first = None\r\n",
    "\r\n",
    "\tdef push(self, value):\r\n",
    "\t\ttemp = Node(value)\r\n",
    "\t\ttemp.next = self.first\r\n",
    "\t\tself.first = temp\r\n",
    "\r\n",
    "\tdef pop(self):\r\n",
    "\t\tif self.first != None:\r\n",
    "\t\t    popped = self.first.value\r\n",
    "\t\t    self.first = self.first.next\r\n",
    "\t\telse:\r\n",
    "\t\t    print(\"Reached end\")\r\n",
    "\r\n",
    "\tdef peek(self, position):\r\n",
    "\t\t'''1 indexed position from stack top'''\r\n",
    "\t\tcurr = self.first\r\n",
    "\t\twhile(position>1):\r\n",
    "\t\t\tcurr = curr.next\r\n",
    "\t\t\tposition -= 1\r\n",
    "\t\t\tif curr == None: \r\n",
    "\t\t\t\tprint(\"reached end\")\r\n",
    "\t\t\t\treturn -1\r\n",
    "\t\t\t\tbreak\r\n",
    "\r\n",
    "\t\tif curr != None:\r\n",
    "\t\t\treturn curr.value\r\n"
   ],
   "outputs": [],
   "metadata": {}
  },
  {
   "cell_type": "code",
   "execution_count": 4,
   "source": [
    "S = StackUsingLL()\r\n",
    "\r\n",
    "S.push(1)\r\n",
    "S.push(2)\r\n",
    "S.push(3)\r\n",
    "\r\n",
    "print(S.peek(1))\r\n",
    "\r\n",
    "S.pop()\r\n",
    "\r\n",
    "print(S.peek(1))\r\n",
    "print(S.peek(2))\r\n",
    "print(S.peek(3))"
   ],
   "outputs": [
    {
     "output_type": "stream",
     "name": "stdout",
     "text": [
      "3\n",
      "2\n",
      "1\n",
      "reached end\n",
      "-1\n"
     ]
    }
   ],
   "metadata": {}
  },
  {
   "cell_type": "code",
   "execution_count": 5,
   "source": [
    "###################### parenthesis matched: input is just list of paranthesis #######################################################################\r\n",
    "#bracket_dict = {'}':'{', ')':'(', ']':'['}\r\n",
    "bracket_dict = {']':'['}\r\n",
    "\r\n",
    "def match_parenthesis(brackets, pending = []):\r\n",
    "\r\n",
    "\tif len(brackets) == 0:\r\n",
    "\t\tif len(pending) == 0:\r\n",
    "\t\t\tprint(\"Valid\")\r\n",
    "\t\t\treturn 1\r\n",
    "\t\telse:\r\n",
    "\t\t\tprint(\"Invalid\")\r\n",
    "\t\t\treturn -1\r\n",
    "\telse:\r\n",
    "\t\tcurr = brackets.pop()\r\n",
    "\t\t\r\n",
    "\t\tif curr in bracket_dict.keys():\r\n",
    "\t\t\tpending.append(bracket_dict[curr])\r\n",
    "\t\t\tmatch_parenthesis(brackets, pending)\r\n",
    "\t\t\r\n",
    "\t\telif len(pending) != 0:\r\n",
    "\t\t\tprev = pending.pop()\r\n",
    "\t\t\tif curr == prev:\r\n",
    "\t\t\t\tmatch_parenthesis(brackets, pending)\r\n",
    "\t\t\telse: \r\n",
    "\t\t\t\tprint(\"Invalid\")\r\n",
    "\t\t\t\treturn -1\r\n",
    "\r\n",
    "\t\telse:\r\n",
    "\t\t\tprint(\"Invalid\")\r\n",
    "\t\t\treturn -1"
   ],
   "outputs": [],
   "metadata": {}
  },
  {
   "cell_type": "code",
   "execution_count": 6,
   "source": [
    "to_search = list('[[[]]][]]')\r\n",
    "match_parenthesis(to_search)"
   ],
   "outputs": [
    {
     "output_type": "stream",
     "name": "stdout",
     "text": [
      "Invalid\n"
     ]
    }
   ],
   "metadata": {}
  },
  {
   "cell_type": "code",
   "execution_count": 7,
   "source": [
    "###################### parenthesis matched: input is expression with paranthesis #####################################################################\r\n",
    "### Option 1: Recursive  \r\n",
    "# bracket_dict = {')':'('}\r\n",
    "bracket_dict = {'}':'{', ')':'(', ']':'['}\r\n",
    "\r\n",
    "def match_parenthesis(brackets, pending = []):\r\n",
    "\r\n",
    "\tif len(brackets) == 0:\r\n",
    "\t\tif len(pending) == 0:\r\n",
    "\t\t\tprint(\"Valid\")\r\n",
    "\t\t\treturn 1\r\n",
    "\t\telse:\r\n",
    "\t\t\tprint(\"Invalid\")\r\n",
    "\t\t\treturn -1\r\n",
    "\telse:\r\n",
    "\t\tcurr = brackets.pop()\r\n",
    "\r\n",
    "\t\tif (curr in bracket_dict.keys()) or (curr in bracket_dict.values()):\r\n",
    "\t\t\r\n",
    "\t\t\tif curr in bracket_dict.keys():\r\n",
    "\t\t\t\tpending.append(bracket_dict[curr])\r\n",
    "\t\t\t\r\n",
    "\t\t\telif len(pending) != 0:\r\n",
    "\t\t\t\tprev = pending.pop()\r\n",
    "\t\t\t\tif curr != prev:\r\n",
    "\t\t\t\t\tprint(\"Invalid\")\r\n",
    "\t\t\t\t\treturn -1\r\n",
    "\t\t\t\r\n",
    "\t\t\telse:\r\n",
    "\t\t\t\tprint(\"Invalid\")\r\n",
    "\t\t\t\treturn -1\r\n",
    "        \r\n",
    "\t\tmatch_parenthesis(brackets, pending)\r\n",
    "### Option 2: Iterative\r\n",
    "\r\n",
    "def valid_parenthesis_iter(expression):\r\n",
    "    expression  = list(expression)\r\n",
    "    pending = []\r\n",
    "    for curr in expression:\r\n",
    "        if curr in bracket_dict.keys():\r\n",
    "            pending.append(bracket_dict[curr])\r\n",
    "        elif curr in bracket_dict.values():\r\n",
    "            if pending:\r\n",
    "                if curr != pending.pop():\r\n",
    "                    return -1\r\n",
    "            else: \r\n",
    "                return  -1\r\n",
    "    if pending:\r\n",
    "        return -1 \r\n",
    "    else: \r\n",
    "        return 1\r\n",
    "        \r\n",
    "expression = \"()\"\r\n",
    "valid_parenthesis_iter(expression)\r\n",
    "\r\n",
    "### Logic ######### \r\n",
    "'''\r\n",
    "* dict of brackets have keys as opening brackets, values as closing bracket \r\n",
    "* Iterate through expression\r\n",
    "* * if opening bracket: push equivalent closing bracket to stack\r\n",
    "* * if closing bracket: pop from stack, it should match \r\n",
    "* * If brackets dont match or stack not empty st th end: Not valid \r\n",
    "\r\n",
    "'''"
   ],
   "outputs": [],
   "metadata": {}
  },
  {
   "cell_type": "code",
   "execution_count": 8,
   "source": [
    "to_search = list('(a+{b+c})*2**[2/4]+9')\r\n",
    "match_parenthesis(to_search)"
   ],
   "outputs": [
    {
     "output_type": "stream",
     "name": "stdout",
     "text": [
      "Valid\n"
     ]
    }
   ],
   "metadata": {}
  },
  {
   "cell_type": "code",
   "execution_count": 13,
   "source": [
    "############### Queue using 2 stacks ##############################################\r\n",
    "\r\n",
    "# []                    push_A\r\n",
    "# [1 2 3]    [3 2 1]    pop_B\r\n",
    "# [2 3]    [3 2]\r\n",
    "# [3]      [3] \r\n",
    "# [3]      []    pop: if A empty: error else: copy to B, pop_B, copy back to A\r\n",
    "\r\n",
    "\r\n",
    "class Queue2Stacks:\r\n",
    "\r\n",
    "    def __init__(self):\r\n",
    "        self.A = [] \r\n",
    "    \r\n",
    "    def push(self, value):\r\n",
    "        self.A.append(value)\r\n",
    "    \r\n",
    "    def pop(self):\r\n",
    "        popped = -1\r\n",
    "        if len(self.A) == 0:\r\n",
    "            print(\"Empty\")\r\n",
    "        else:\r\n",
    "            B = []\r\n",
    "            while (len(self.A) != 0):\r\n",
    "                B.append(self.A.pop())\r\n",
    "            popped = B.pop()\r\n",
    "            while (len(B) != 0):\r\n",
    "                self.A.append(B.pop())\r\n",
    "        return popped"
   ],
   "outputs": [],
   "metadata": {}
  },
  {
   "cell_type": "code",
   "execution_count": 15,
   "source": [
    "Q = Queue2Stacks()\r\n",
    "\r\n",
    "Q.push(1)\r\n",
    "Q.push(2)\r\n",
    "Q.push(3)\r\n",
    "\r\n",
    "print(Q.pop())\r\n",
    "print(Q.pop())"
   ],
   "outputs": [
    {
     "output_type": "stream",
     "name": "stdout",
     "text": [
      "1\n",
      "2\n"
     ]
    }
   ],
   "metadata": {}
  },
  {
   "cell_type": "code",
   "execution_count": null,
   "source": [],
   "outputs": [],
   "metadata": {}
  }
 ],
 "metadata": {
  "orig_nbformat": 4,
  "language_info": {
   "name": "python",
   "version": "3.6.12",
   "mimetype": "text/x-python",
   "codemirror_mode": {
    "name": "ipython",
    "version": 3
   },
   "pygments_lexer": "ipython3",
   "nbconvert_exporter": "python",
   "file_extension": ".py"
  },
  "kernelspec": {
   "name": "python3",
   "display_name": "Python 3.6.12 64-bit (conda)"
  },
  "interpreter": {
   "hash": "6a33784d2e02aee83e49ac6533fd5586adcd80ae4d6db07a7c73263e9bf81256"
  }
 },
 "nbformat": 4,
 "nbformat_minor": 2
}