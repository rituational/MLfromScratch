{
 "cells": [
  {
   "cell_type": "markdown",
   "metadata": {},
   "source": [
    "## Implemented \n",
    "* Stacks using arrays \n",
    "* Stacks using LL \n",
    "* Matching paranthesis"
   ]
  },
  {
   "cell_type": "markdown",
   "metadata": {},
   "source": [
    "## Tips: \n",
    "* Stacks are LIFO \n",
    "* * Array implementation: like python list, append at the last, pop from last \n",
    "* * LL: Add new element in the head, remove from head \n",
    "\n"
   ]
  },
  {
   "cell_type": "markdown",
   "metadata": {},
   "source": [
    "## Stacks \n",
    "\n",
    "* ordered collection of items \n",
    "* items near base are the one which have been stored the longest\n",
    "* LIFO\n",
    "* can be used to reverse order of items Eg: Back button in browser\n",
    "\n",
    "\n",
    "\n",
    "TODO: \n",
    "Implement using :\n",
    "* Queue \n",
    "* Dequeue \n",
    "* linked lists "
   ]
  },
  {
   "cell_type": "code",
   "execution_count": 2,
   "metadata": {},
   "outputs": [],
   "source": [
    "class Stack(object):\n",
    "    \n",
    "    def __init__(self):\n",
    "        self.stack = []\n",
    "\n",
    "    def isEmpty(self):\n",
    "        if self.stack == None:\n",
    "            print(\"empty stack\")\n",
    "    \n",
    "    def push(self, item):\n",
    "        self.stack.append(item)\n",
    "    \n",
    "    def pop(self):\n",
    "        return self.stack.pop()\n",
    "\n",
    "    def peek(self):\n",
    "        return self.stack[len(self.stack) - 1]  # We need to show the last item\n"
   ]
  },
  {
   "cell_type": "code",
   "execution_count": 1,
   "metadata": {},
   "outputs": [],
   "source": [
    "class Stack:\n",
    "\n",
    "\tdef __init__(self):\n",
    "\t\tself.cap = 5 \n",
    "\t\tself.A = [-1]*self.cap\n",
    "\t\tself.last = 0\n",
    "\n",
    "\tdef push(self, value):\n",
    "\t\tself.A[self.last] = value\n",
    "\t\tself.last += 1\n",
    "\t\t\n",
    "\t\tif self.last==self.cap:\n",
    "\t\t\ttemp = [-1]*(2*self.cap)\n",
    "\t\t\tfor i in range(len(self.A)):\n",
    "\t\t\t\ttemp[i] = self.A[i]\n",
    "\t\t\tself.A = temp\n",
    "\t\t\tself.cap = 2*self.cap\n",
    "\n",
    "\tdef pop(self):\n",
    "\t\tif self.last==0:\n",
    "\t\t\tprint(\"Empty\")\n",
    "\t\t\treturn -1\n",
    "\t\telse:\n",
    "\t\t\tself.last -= 1\n",
    "\t\t\tpopped = self.A[self.last]\n",
    "\t\t\treturn popped\n",
    "\t\n",
    "\tdef peek(self, position):\n",
    "\t\t'''1 indexed position from top of stack'''\n",
    "\t\tif self.last-position>=0: \n",
    "\t\t\treturn self.A[self.last-position]\n",
    "\t\telse:\n",
    "\t\t\tprint(\"Reached end of stack\")\n",
    "\t\t\treturn -1\n",
    "\n",
    "\tdef is_empty(self):\n",
    "\t\treturn self.last==0\n"
   ]
  },
  {
   "cell_type": "code",
   "execution_count": 2,
   "metadata": {},
   "outputs": [
    {
     "name": "stdout",
     "output_type": "stream",
     "text": [
      "3\n",
      "2\n",
      "1\n",
      "Reached end of stack\n",
      "-1\n"
     ]
    }
   ],
   "source": [
    "S = Stack()\n",
    "\n",
    "S.push(1)\n",
    "S.push(2)\n",
    "S.push(3)\n",
    "\n",
    "print(S.peek(1))\n",
    "\n",
    "S.pop()\n",
    "\n",
    "print(S.peek(1))\n",
    "print(S.peek(2))\n",
    "print(S.peek(3))\n",
    "# S.push(4)\n",
    "# S.push(5)\n",
    "# print(S.pop())\n",
    "# print(S.pop())\n",
    "# print(S.pop())\n",
    "# print(S.pop())\n",
    "# print(S.pop())"
   ]
  },
  {
   "cell_type": "code",
   "execution_count": 3,
   "metadata": {},
   "outputs": [],
   "source": [
    "class Node:\n",
    "\tdef __init__(self,value):\n",
    "\t\tself.value = value \n",
    "\t\tself.next = next\n",
    "\n",
    "class StackUsingLL:\n",
    "\n",
    "\tdef __init__(self):\n",
    "\t\tself.first = None\n",
    "\n",
    "\tdef push(self, value):\n",
    "\t\ttemp = Node(value)\n",
    "\t\ttemp.next = self.first\n",
    "\t\tself.first = temp\n",
    "\n",
    "\tdef pop(self):\n",
    "\t\tif self.first != None:\n",
    "\t\t    popped = self.first.value\n",
    "\t\t    self.first = self.first.next\n",
    "\t\telse:\n",
    "\t\t    print(\"Reached end\")\n",
    "\n",
    "\tdef peek(self, position):\n",
    "\t\t'''1 indexed position from stack top'''\n",
    "\t\tcurr = self.first\n",
    "\t\twhile(position>1):\n",
    "\t\t\tcurr = curr.next\n",
    "\t\t\tposition -= 1\n",
    "\t\t\tif curr == None: \n",
    "\t\t\t\tprint(\"reached end\")\n",
    "\t\t\t\treturn -1\n",
    "\t\t\t\tbreak\n",
    "\n",
    "\t\tif curr != None:\n",
    "\t\t\treturn curr.value\n"
   ]
  },
  {
   "cell_type": "code",
   "execution_count": 4,
   "metadata": {},
   "outputs": [
    {
     "name": "stdout",
     "output_type": "stream",
     "text": [
      "3\n",
      "2\n",
      "1\n",
      "reached end\n",
      "-1\n"
     ]
    }
   ],
   "source": [
    "S = StackUsingLL()\n",
    "\n",
    "S.push(1)\n",
    "S.push(2)\n",
    "S.push(3)\n",
    "\n",
    "print(S.peek(1))\n",
    "\n",
    "S.pop()\n",
    "\n",
    "print(S.peek(1))\n",
    "print(S.peek(2))\n",
    "print(S.peek(3))"
   ]
  },
  {
   "cell_type": "code",
   "execution_count": 5,
   "metadata": {},
   "outputs": [],
   "source": [
    "###################### parenthesis matched: input is just list of paranthesis #######################################################################\n",
    "#bracket_dict = {'}':'{', ')':'(', ']':'['}\n",
    "bracket_dict = {']':'['}\n",
    "\n",
    "def match_parenthesis(brackets, pending = []):\n",
    "\n",
    "\tif len(brackets) == 0:\n",
    "\t\tif len(pending) == 0:\n",
    "\t\t\tprint(\"Valid\")\n",
    "\t\t\treturn 1\n",
    "\t\telse:\n",
    "\t\t\tprint(\"Invalid\")\n",
    "\t\t\treturn -1\n",
    "\telse:\n",
    "\t\tcurr = brackets.pop()\n",
    "\t\t\n",
    "\t\tif curr in bracket_dict.keys():\n",
    "\t\t\tpending.append(bracket_dict[curr])\n",
    "\t\t\tmatch_parenthesis(brackets, pending)\n",
    "\t\t\n",
    "\t\telif len(pending) != 0:\n",
    "\t\t\tprev = pending.pop()\n",
    "\t\t\tif curr == prev:\n",
    "\t\t\t\tmatch_parenthesis(brackets, pending)\n",
    "\t\t\telse: \n",
    "\t\t\t\tprint(\"Invalid\")\n",
    "\t\t\t\treturn -1\n",
    "\n",
    "\t\telse:\n",
    "\t\t\tprint(\"Invalid\")\n",
    "\t\t\treturn -1"
   ]
  },
  {
   "cell_type": "code",
   "execution_count": 6,
   "metadata": {},
   "outputs": [
    {
     "name": "stdout",
     "output_type": "stream",
     "text": [
      "Invalid\n"
     ]
    }
   ],
   "source": [
    "to_search = list('[[[]]][]]')\n",
    "match_parenthesis(to_search)"
   ]
  },
  {
   "cell_type": "code",
   "execution_count": 7,
   "metadata": {},
   "outputs": [],
   "source": [
    "###################### parenthesis matched: input is expression with paranthesis #####################################################################\n",
    "### Option 1: Recursive  \n",
    "# bracket_dict = {')':'('}\n",
    "bracket_dict = {'}':'{', ')':'(', ']':'['}\n",
    "\n",
    "def match_parenthesis(brackets, pending = []):\n",
    "\n",
    "\tif len(brackets) == 0:\n",
    "\t\tif len(pending) == 0:\n",
    "\t\t\tprint(\"Valid\")\n",
    "\t\t\treturn 1\n",
    "\t\telse:\n",
    "\t\t\tprint(\"Invalid\")\n",
    "\t\t\treturn -1\n",
    "\telse:\n",
    "\t\tcurr = brackets.pop()\n",
    "\n",
    "\t\tif (curr in bracket_dict.keys()) or (curr in bracket_dict.values()):\n",
    "\t\t\n",
    "\t\t\tif curr in bracket_dict.keys():\n",
    "\t\t\t\tpending.append(bracket_dict[curr])\n",
    "\t\t\t\n",
    "\t\t\telif len(pending) != 0:\n",
    "\t\t\t\tprev = pending.pop()\n",
    "\t\t\t\tif curr != prev:\n",
    "\t\t\t\t\tprint(\"Invalid\")\n",
    "\t\t\t\t\treturn -1\n",
    "\t\t\t\n",
    "\t\t\telse:\n",
    "\t\t\t\tprint(\"Invalid\")\n",
    "\t\t\t\treturn -1\n",
    "        \n",
    "\t\tmatch_parenthesis(brackets, pending)\n",
    "### Option 2: Iterative\n",
    "\n",
    "def valid_parenthesis_iter(expression):\n",
    "    expression  = list(expression)\n",
    "    pending = []\n",
    "    for curr in expression:\n",
    "        if curr in bracket_dict.keys():\n",
    "            pending.append(bracket_dict[curr])\n",
    "        elif curr in bracket_dict.values():\n",
    "            if pending:\n",
    "                if curr != pending.pop():\n",
    "                    return -1\n",
    "            else: \n",
    "                return  -1\n",
    "    if pending:\n",
    "        return -1 \n",
    "    else: \n",
    "        return 1\n",
    "        \n",
    "expression = \"()\"\n",
    "valid_parenthesis_iter(expression)\n",
    "\n",
    "### Logic ######### \n",
    "'''\n",
    "* dict of brackets have keys as opening brackets, values as closing bracket \n",
    "* Iterate through expression\n",
    "* * if opening bracket: push equivalent closing bracket to stack\n",
    "* * if closing bracket: pop from stack, it should match \n",
    "* * If brackets dont match or stack not empty st th end: Not valid \n",
    "\n",
    "'''"
   ]
  },
  {
   "cell_type": "code",
   "execution_count": 8,
   "metadata": {},
   "outputs": [
    {
     "name": "stdout",
     "output_type": "stream",
     "text": [
      "Valid\n"
     ]
    }
   ],
   "source": [
    "to_search = list('(a+{b+c})*2**[2/4]+9')\n",
    "match_parenthesis(to_search)"
   ]
  },
  {
   "cell_type": "code",
   "execution_count": 13,
   "metadata": {},
   "outputs": [],
   "source": [
    "############### Queue using 2 stacks ##############################################\n",
    "\n",
    "# []                    push_A\n",
    "# [1 2 3]    [3 2 1]    pop_B\n",
    "# [2 3]    [3 2]\n",
    "# [3]      [3] \n",
    "# [3]      []    pop: if A empty: error else: copy to B, pop_B, copy back to A\n",
    "\n",
    "\n",
    "class Queue2Stacks:\n",
    "\n",
    "    def __init__(self):\n",
    "        self.A = [] \n",
    "    \n",
    "    def push(self, value):\n",
    "        self.A.append(value)\n",
    "    \n",
    "    def pop(self):\n",
    "        popped = -1\n",
    "        if len(self.A) == 0:\n",
    "            print(\"Empty\")\n",
    "        else:\n",
    "            B = []\n",
    "            while (len(self.A) != 0):\n",
    "                B.append(self.A.pop())\n",
    "            popped = B.pop()\n",
    "            while (len(B) != 0):\n",
    "                self.A.append(B.pop())\n",
    "        return popped"
   ]
  },
  {
   "cell_type": "code",
   "execution_count": 15,
   "metadata": {},
   "outputs": [
    {
     "name": "stdout",
     "output_type": "stream",
     "text": [
      "1\n",
      "2\n"
     ]
    }
   ],
   "source": [
    "Q = Queue2Stacks()\n",
    "\n",
    "Q.push(1)\n",
    "Q.push(2)\n",
    "Q.push(3)\n",
    "\n",
    "print(Q.pop())\n",
    "print(Q.pop())"
   ]
  },
  {
   "cell_type": "code",
   "execution_count": null,
   "metadata": {},
   "outputs": [],
   "source": [
    "######################Backstring compare##############################\n",
    "# LC: https://leetcode.com/problems/backspace-string-compare/\n",
    "\n",
    "# Option1 : Memory O(n)\n",
    "class Solution(object):\n",
    "    def get_actual(self, s):\n",
    "        new = []\n",
    "        for char in s: \n",
    "            if char == '#':\n",
    "                if len(new) != 0:\n",
    "                    new.pop()\n",
    "            else: \n",
    "                new.append(char)\n",
    "        return new\n",
    "    \n",
    "    def backspaceCompare(self, s, t):\n",
    "        \"\"\"\n",
    "        :type s: str\n",
    "        :type t: str\n",
    "        :rtype: bool\n",
    "        \"\"\"\n",
    "        s = self.get_actual(s)\n",
    "        t = self.get_actual(t)\n",
    "        \n",
    "        if s == t:\n",
    "            return True\n",
    "        else:\n",
    "            return False"
   ]
  },
  {
   "cell_type": "code",
   "execution_count": null,
   "metadata": {},
   "outputs": [],
   "source": [
    "############# Make parenthesis string valid ########################\n",
    "\n",
    "class Solution(object):\n",
    "    def minRemoveToMakeValid(self, s):\n",
    "        out = s\n",
    "        b_open = deque()\n",
    "        b_close = deque()\n",
    "        \n",
    "        for i, char in enumerate(s):\n",
    "            if char == '(':\n",
    "                b_open.append(i)\n",
    "            elif char == ')':\n",
    "                if len(b_open) != 0:\n",
    "                    b_open.pop()\n",
    "                else:\n",
    "                    b_close.append(i)\n",
    "        # print(b_open, b_close)\n",
    "        if (len(b_open) != 0) or (len(b_close) != 0):\n",
    "            # for i in range(len(s)):\n",
    "            #     if (i not in b_open) and (i not in b_close):\n",
    "            out = ''.join(s[i] for i in range(len(s)) if ((i not in b_open) and (i not in b_close)))\n",
    "        return out \n",
    "\n",
    "\n",
    "\n",
    "#LC: No need for stack, use count  https://leetcode.com/problems/minimum-remove-to-make-valid-parentheses/discuss/1073189/C%2B%2B-or-2-Approaches-or-O(n)-Beats-100-or-No-Extra-Space-(Best)-or-Explanation"
   ]
  }
 ],
 "metadata": {
  "interpreter": {
   "hash": "6a33784d2e02aee83e49ac6533fd5586adcd80ae4d6db07a7c73263e9bf81256"
  },
  "kernelspec": {
   "display_name": "Python 3.6.12 64-bit (conda)",
   "name": "python3"
  },
  "language_info": {
   "codemirror_mode": {
    "name": "ipython",
    "version": 3
   },
   "file_extension": ".py",
   "mimetype": "text/x-python",
   "name": "python",
   "nbconvert_exporter": "python",
   "pygments_lexer": "ipython3",
   "version": "3.6.12"
  },
  "orig_nbformat": 4
 },
 "nbformat": 4,
 "nbformat_minor": 2
}
