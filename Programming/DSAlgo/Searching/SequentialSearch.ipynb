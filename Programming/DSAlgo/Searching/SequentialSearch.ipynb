{
 "cells": [
  {
   "cell_type": "markdown",
   "source": [
    "# Sequential Search\r\n",
    "\r\n",
    "* UnorderedList: We need to go through all elements whether the query present or not \r\n",
    "* Ordered List: We need to search until we find an element> query and we stop searching then. \r\n",
    "* * Worst case: n/2"
   ],
   "metadata": {}
  },
  {
   "cell_type": "code",
   "execution_count": 4,
   "source": [
    "def seq_search(array, to_find):\r\n",
    "    ''' Assuming unsorted array'''\r\n",
    "\r\n",
    "    for index, element in enumerate(array):\r\n",
    "\r\n",
    "        if to_find == element: \r\n",
    "            return index\r\n",
    "    \r\n",
    "    return 'Not Found'"
   ],
   "outputs": [],
   "metadata": {}
  },
  {
   "cell_type": "code",
   "execution_count": 6,
   "source": [
    "arr = [1, 2, 3, 4, 5]\r\n",
    "\r\n",
    "seq_search(arr, 3)"
   ],
   "outputs": [
    {
     "output_type": "execute_result",
     "data": {
      "text/plain": [
       "2"
      ]
     },
     "metadata": {},
     "execution_count": 6
    }
   ],
   "metadata": {}
  },
  {
   "cell_type": "code",
   "execution_count": 7,
   "source": [
    "def ordered_seq_search(array, to_find):\r\n",
    "    ''' Assuming sorted array'''\r\n",
    "\r\n",
    "    for index, element in enumerate(array):\r\n",
    "\r\n",
    "        if to_find == element: \r\n",
    "            return index\r\n",
    "        \r\n",
    "        if to_find < element:\r\n",
    "            return 'Not Found'\r\n",
    "            break\r\n",
    "\r\n",
    "    \r\n",
    "    "
   ],
   "outputs": [],
   "metadata": {}
  },
  {
   "cell_type": "code",
   "execution_count": 9,
   "source": [
    "arr = [1, 2, 3, 6, 8]\r\n",
    "\r\n",
    "ordered_seq_search(arr, 5)"
   ],
   "outputs": [
    {
     "output_type": "execute_result",
     "data": {
      "text/plain": [
       "'Not Found'"
      ]
     },
     "metadata": {},
     "execution_count": 9
    }
   ],
   "metadata": {}
  },
  {
   "cell_type": "code",
   "execution_count": null,
   "source": [],
   "outputs": [],
   "metadata": {}
  }
 ],
 "metadata": {
  "orig_nbformat": 4,
  "language_info": {
   "name": "python",
   "version": "3.6.12",
   "mimetype": "text/x-python",
   "codemirror_mode": {
    "name": "ipython",
    "version": 3
   },
   "pygments_lexer": "ipython3",
   "nbconvert_exporter": "python",
   "file_extension": ".py"
  },
  "kernelspec": {
   "name": "python3",
   "display_name": "Python 3.6.12 64-bit (conda)"
  },
  "interpreter": {
   "hash": "6a33784d2e02aee83e49ac6533fd5586adcd80ae4d6db07a7c73263e9bf81256"
  }
 },
 "nbformat": 4,
 "nbformat_minor": 2
}