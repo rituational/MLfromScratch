{
 "cells": [
  {
   "cell_type": "markdown",
   "source": [
    "* Assuming sorted array, you check the middle element. Depending on which half your query belongs to, you discard the rest. \r\n",
    "* divide and conquer\r\n",
    "* Big O: O(logn) [time goes up linearly when n goes up exponentially]\r\n",
    "* * Lets see the elements remaining at every iteration: n/2, n/4, n/8,.... \r\n",
    "* * At k we have the element: $n/2^k = 1$\r\n",
    "* * $$n = 2^k$$\r\n",
    "* * k = logn $$\r\n"
   ],
   "metadata": {}
  },
  {
   "cell_type": "code",
   "execution_count": 13,
   "source": [
    "def binary_search(array, element):\r\n",
    " \r\n",
    "    found = False\r\n",
    "    i_start = 0\r\n",
    "    i_end =len(array) - 1\r\n",
    "\r\n",
    "    \r\n",
    "\r\n",
    "    while i_start <= i_end and found == False :\r\n",
    "        \r\n",
    "        i_mid = (i_start + i_end)//2\r\n",
    "\r\n",
    "        if element == array[i_mid]:\r\n",
    "            found  = True\r\n",
    "\r\n",
    "        if element > array[i_mid]:\r\n",
    "            i_start = i_mid + 1\r\n",
    "\r\n",
    "        if element < array[i_mid]:\r\n",
    "            i_end = i_mid -1\r\n",
    "\r\n",
    "    return found \r\n",
    "          "
   ],
   "outputs": [],
   "metadata": {}
  },
  {
   "cell_type": "code",
   "execution_count": 15,
   "source": [
    "arr = [1, 2, 3, 6, 8]\r\n",
    "\r\n",
    "binary_search(arr, 7)"
   ],
   "outputs": [
    {
     "output_type": "execute_result",
     "data": {
      "text/plain": [
       "False"
      ]
     },
     "metadata": {},
     "execution_count": 15
    }
   ],
   "metadata": {}
  },
  {
   "cell_type": "code",
   "execution_count": 1,
   "source": [
    "## My first implementation i just added recursion call, kept everything same. \r\n",
    "# But the advantage is at every step we can reduce the array size we pass as seen below\r\n",
    "\r\n",
    "def binary_search_recursive(arr, ele):\r\n",
    "    \r\n",
    "    if len(arr) == 0:\r\n",
    "        return False \r\n",
    "    \r\n",
    "    else:\r\n",
    "        mid = len(arr) //2 \r\n",
    "        # print(len(arr), arr, mid)\r\n",
    "\r\n",
    "        if arr[mid] == ele:\r\n",
    "            print('Found')\r\n",
    "            return 'Found' #(not working for some reason ) \r\n",
    "        \r\n",
    "        elif arr[mid] < ele:\r\n",
    "            arr = arr[mid+1:]\r\n",
    "        \r\n",
    "        else:\r\n",
    "            arr = arr[:mid]\r\n",
    "        \r\n",
    "        \r\n",
    "        \r\n",
    "        binary_search_recursive(arr, ele)\r\n",
    "\r\n",
    "        \r\n",
    "\r\n"
   ],
   "outputs": [],
   "metadata": {}
  },
  {
   "cell_type": "code",
   "execution_count": 2,
   "source": [
    "arr = [1, 2, 3, 6, 8]\r\n",
    "\r\n",
    "result = binary_search_recursive(arr, 6)\r\n",
    "\r\n",
    "result"
   ],
   "outputs": [
    {
     "output_type": "stream",
     "name": "stdout",
     "text": [
      "5 [1, 2, 3, 6, 8] 2\n",
      "2 [6, 8] 1\n",
      "1 [6] 0\n",
      "Found\n"
     ]
    }
   ],
   "metadata": {}
  },
  {
   "cell_type": "code",
   "execution_count": null,
   "source": [],
   "outputs": [],
   "metadata": {}
  },
  {
   "cell_type": "code",
   "execution_count": null,
   "source": [],
   "outputs": [],
   "metadata": {}
  }
 ],
 "metadata": {
  "orig_nbformat": 4,
  "language_info": {
   "name": "python",
   "version": "3.6.12",
   "mimetype": "text/x-python",
   "codemirror_mode": {
    "name": "ipython",
    "version": 3
   },
   "pygments_lexer": "ipython3",
   "nbconvert_exporter": "python",
   "file_extension": ".py"
  },
  "kernelspec": {
   "name": "python3",
   "display_name": "Python 3.6.12 64-bit (conda)"
  },
  "interpreter": {
   "hash": "6a33784d2e02aee83e49ac6533fd5586adcd80ae4d6db07a7c73263e9bf81256"
  }
 },
 "nbformat": 4,
 "nbformat_minor": 2
}