{
 "cells": [
  {
   "cell_type": "code",
   "execution_count": null,
   "source": [
    "## Binary search \r\n",
    "\r\n",
    "def binary_iterative(nums, target):\r\n",
    "    len_nums = len(nums)\r\n",
    "\r\n",
    "    start = 0\r\n",
    "    stop = len_nums-1 # if i took stop = len_nums, it wasnt running for len(nums) = 0, 1 \r\n",
    "    \r\n",
    "    \r\n",
    "    while(start<=stop):\r\n",
    "        \r\n",
    "        mid = (start+stop)//2\r\n",
    "        # print(\"mid\", mid)\r\n",
    "        \r\n",
    "        if (target==nums[mid]):\r\n",
    "            return mid\r\n",
    "        \r\n",
    "        elif (target<nums[mid]):\r\n",
    "            stop = mid-1\r\n",
    "            \r\n",
    "        elif (target>nums[mid]):\r\n",
    "            start = mid+1\r\n",
    "\r\n",
    "    return -1"
   ],
   "outputs": [],
   "metadata": {}
  },
  {
   "cell_type": "code",
   "execution_count": 22,
   "source": [
    "## Binary Search Recursive\r\n",
    "\r\n",
    "def binary_recursive(nums, target, start = -10, stop = -10):\r\n",
    "    \r\n",
    "    if (start ==-10):\r\n",
    "        start = 0\r\n",
    "        stop = len(nums)-1\r\n",
    "\r\n",
    "    mid = (start+stop)//2\r\n",
    "\r\n",
    "    if (start>stop):\r\n",
    "        # print(-1)\r\n",
    "        return -1\r\n",
    "    elif(target == nums[mid]):\r\n",
    "        # print(mid)\r\n",
    "        return mid\r\n",
    "    elif(target < nums[mid]):\r\n",
    "        return binary_recursive(nums, target, start = start, stop = mid-1)\r\n",
    "    else:\r\n",
    "        return binary_recursive(nums, target, start = mid+1, stop = stop)\r\n",
    "    \r\n",
    "        \r\n",
    "    \r\n"
   ],
   "outputs": [],
   "metadata": {}
  },
  {
   "cell_type": "code",
   "execution_count": 24,
   "source": [
    "A = [0,1,2,3,4,8,10]\r\n",
    "\r\n",
    "binary_recursive(A, 10)"
   ],
   "outputs": [
    {
     "output_type": "execute_result",
     "data": {
      "text/plain": [
       "6"
      ]
     },
     "metadata": {},
     "execution_count": 24
    }
   ],
   "metadata": {}
  },
  {
   "cell_type": "code",
   "execution_count": null,
   "source": [
    "# The isBadVersion API is already defined for you.\r\n",
    "# @param version, an integer\r\n",
    "# @return a bool\r\n",
    "# def isBadVersion(version):\r\n",
    "\r\n",
    "class Solution(object):\r\n",
    "    def firstBadVersion(self, n):\r\n",
    "        \"\"\"\r\n",
    "        :type n: int\r\n",
    "        :rtype: int\r\n",
    "        \"\"\"\r\n",
    "        # Pseudo test cases for dry run\r\n",
    "        # 0\r\n",
    "        # 1\r\n",
    "        # 01\r\n",
    "        # 11\r\n",
    "        # 111\r\n",
    "        # 000111111 w\r\n",
    "        # 000001111\r\n",
    "        # 000000111\r\n",
    "        # 000000001 w\r\n",
    "        # 111111111\r\n",
    "        # 011111111\r\n",
    "        # 01111111111\r\n",
    "        # 000000001\r\n",
    "        \r\n",
    "        start = 1\r\n",
    "        stop = n\r\n",
    "        \r\n",
    "        if n==1:\r\n",
    "            return 1\r\n",
    "        \r\n",
    "        if n ==2: \r\n",
    "            if (isBadVersion(1) == True):\r\n",
    "                return 1\r\n",
    "            else:\r\n",
    "                return 2\r\n",
    "        \r\n",
    "        while (start<=stop):\r\n",
    "            \r\n",
    "            current = start + (stop-start)//2\r\n",
    "            \r\n",
    "            ## If we reached first element\r\n",
    "            if current == 1:\r\n",
    "                check_current = isBadVersion(current)\r\n",
    "                if check_current==False:\r\n",
    "                    start = stop = current = 2\r\n",
    "                else:\r\n",
    "                    return 1 \r\n",
    "\r\n",
    "      \r\n",
    "\r\n",
    "            check_left = isBadVersion(current-1)\r\n",
    "            check_right = isBadVersion(current+1)\r\n",
    "            check_current = isBadVersion(current)\r\n",
    "\r\n",
    "            ## check intersection point \r\n",
    "            if (check_left == False) and (check_right == True):\r\n",
    "                if check_current == True:\r\n",
    "                    return current\r\n",
    "                else:\r\n",
    "                    return current+1\r\n",
    "\r\n",
    "            ## if not intersection, reduce search area\r\n",
    "            else:\r\n",
    "                if check_current == True:\r\n",
    "                    stop = current - 1\r\n",
    "                else:\r\n",
    "                    start = current + 1"
   ],
   "outputs": [],
   "metadata": {}
  },
  {
   "cell_type": "code",
   "execution_count": 25,
   "source": [
    "True-False"
   ],
   "outputs": [
    {
     "output_type": "execute_result",
     "data": {
      "text/plain": [
       "1"
      ]
     },
     "metadata": {},
     "execution_count": 25
    }
   ],
   "metadata": {}
  },
  {
   "cell_type": "code",
   "execution_count": 26,
   "source": [
    "False-True"
   ],
   "outputs": [
    {
     "output_type": "execute_result",
     "data": {
      "text/plain": [
       "-1"
      ]
     },
     "metadata": {},
     "execution_count": 26
    }
   ],
   "metadata": {}
  },
  {
   "cell_type": "code",
   "execution_count": null,
   "source": [],
   "outputs": [],
   "metadata": {}
  }
 ],
 "metadata": {
  "orig_nbformat": 4,
  "language_info": {
   "name": "python",
   "version": "3.6.12",
   "mimetype": "text/x-python",
   "codemirror_mode": {
    "name": "ipython",
    "version": 3
   },
   "pygments_lexer": "ipython3",
   "nbconvert_exporter": "python",
   "file_extension": ".py"
  },
  "kernelspec": {
   "name": "python3",
   "display_name": "Python 3.6.12 64-bit (conda)"
  },
  "interpreter": {
   "hash": "6a33784d2e02aee83e49ac6533fd5586adcd80ae4d6db07a7c73263e9bf81256"
  }
 },
 "nbformat": 4,
 "nbformat_minor": 2
}