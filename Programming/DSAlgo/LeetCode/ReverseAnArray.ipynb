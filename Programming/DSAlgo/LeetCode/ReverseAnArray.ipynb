{
 "cells": [
  {
   "cell_type": "code",
   "execution_count": null,
   "source": [
    "## Approach 1 (Accepted)\r\n",
    "        # # Create a k shaped queue, shift k to right in nums, push front from queue\r\n",
    "        # [1,2,3,4,5,6,7] queue = [0 0 0 ] k = 3\r\n",
    "        # [1,2,3,4,0 0 0] queue = [5 6 7 ]\r\n",
    "        # [0 0 0 1,2,3,4]\r\n",
    "        # [5 6 7 1,2,3,4]\r\n",
    "        \r\n",
    "        # IMP: k>len(nums)\r\n",
    "def rotateArrayUsingQueue(nums, k):\r\n",
    "    if k>len(nums):\r\n",
    "        k = k%len(nums)\r\n",
    "\r\n",
    "    if len(nums)>1:\r\n",
    "        if (k>0):\r\n",
    "            queue = [0]*k\r\n",
    "\r\n",
    "            for i in range(k):\r\n",
    "                queue[i] = nums[-1-i]\r\n",
    "\r\n",
    "            for i in range(len(nums)-k):\r\n",
    "                nums[-1-i] = nums[len(nums)-k-1-i]\r\n",
    "\r\n",
    "            for i in range(k):\r\n",
    "                nums[i] = queue[k-1-i]\r\n",
    "\r\n",
    "## Approach 2 (Time limit accepted)\r\n",
    "        # # keep shifting the array in place one element at a time \r\n",
    "        # Again, check if k> len(nums)\r\n",
    "        # repeat k times\r\n",
    "        # [1,2,3,4,5,6,7] temp = nums[-1]\r\n",
    "        # [7,1,2,3,4,5,6] \r\n",
    "        # [7,1,2,3,4,5,6] temp = nums[-1]\r\n",
    "        # [6,7,1,2,3,4,5] nums[0] = temp\r\n",
    "\r\n",
    "        if k>len(nums):\r\n",
    "            k = k%len(nums)\r\n",
    "            \r\n",
    "        for i in range(k):\r\n",
    "            temp = nums[-1]\r\n",
    "            \r\n",
    "            for j in range(len(nums)-1):\r\n",
    "                nums[-1-j] = nums[-1-j-1]\r\n",
    "            \r\n",
    "            nums[0] = temp"
   ],
   "outputs": [],
   "metadata": {}
  }
 ],
 "metadata": {
  "orig_nbformat": 4,
  "language_info": {
   "name": "python"
  }
 },
 "nbformat": 4,
 "nbformat_minor": 2
}