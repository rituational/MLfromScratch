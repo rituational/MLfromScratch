{
 "cells": [
  {
   "cell_type": "code",
   "execution_count": 3,
   "source": [
    "'''\r\n",
    "Facepalm when you create a big clean implementation of dictionary to realise best way to solve duplicate is a set!!! \r\n",
    "'''\r\n",
    "\r\n",
    "### Using dictionary (advantage: If ques was find more than 3 repeats, dictionaries get powerful)\r\n",
    "def containsDuplicate(nums):\r\n",
    "    \"\"\"\r\n",
    "    :type nums: List[int]\r\n",
    "    :rtype: bool\r\n",
    "    \"\"\"\r\n",
    "    \r\n",
    "    ## Test cases \r\n",
    "    # [1] false \r\n",
    "    # [1,2] false\r\n",
    "    # [1,1] true\r\n",
    "    # [1,2,3,4,6,7,7]\r\n",
    "    # [1,2,2,4,7,7,7]\r\n",
    "    \r\n",
    "    solution = False\r\n",
    "    dict_counts = {}\r\n",
    "    \r\n",
    "    ## Runtime: O(n) Memory: O(n)\r\n",
    "        \r\n",
    "    if (len(nums)>1):\r\n",
    "        for num in nums:\r\n",
    "            try:\r\n",
    "                if (dict_counts[num] == 1):\r\n",
    "                    solution = True\r\n",
    "                    break\r\n",
    "                    \r\n",
    "            except:\r\n",
    "                # print(\"Added default for\", num)\r\n",
    "                dict_counts[num] = 1\r\n",
    "                \r\n",
    "    return solution\r\n",
    "\r\n",
    "### Using set: Most convinient to find at least two duplicates \r\n",
    "def containsDuplicateSets(nums):\r\n",
    "    return len(set(nums)) != len(nums)"
   ],
   "outputs": [],
   "metadata": {}
  },
  {
   "cell_type": "code",
   "execution_count": 6,
   "source": [
    "containsDuplicateSets([1,1,3])"
   ],
   "outputs": [
    {
     "output_type": "execute_result",
     "data": {
      "text/plain": [
       "True"
      ]
     },
     "metadata": {},
     "execution_count": 6
    }
   ],
   "metadata": {}
  },
  {
   "cell_type": "code",
   "execution_count": null,
   "source": [],
   "outputs": [],
   "metadata": {}
  }
 ],
 "metadata": {
  "orig_nbformat": 4,
  "language_info": {
   "name": "python",
   "version": "3.6.12",
   "mimetype": "text/x-python",
   "codemirror_mode": {
    "name": "ipython",
    "version": 3
   },
   "pygments_lexer": "ipython3",
   "nbconvert_exporter": "python",
   "file_extension": ".py"
  },
  "kernelspec": {
   "name": "python3",
   "display_name": "Python 3.6.12 64-bit (conda)"
  },
  "interpreter": {
   "hash": "6a33784d2e02aee83e49ac6533fd5586adcd80ae4d6db07a7c73263e9bf81256"
  }
 },
 "nbformat": 4,
 "nbformat_minor": 2
}