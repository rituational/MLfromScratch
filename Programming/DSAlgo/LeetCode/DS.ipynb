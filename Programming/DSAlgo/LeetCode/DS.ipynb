{
 "cells": [
  {
   "cell_type": "code",
   "execution_count": 3,
   "metadata": {},
   "outputs": [],
   "source": [
    "'''\n",
    "Facepalm when you create a big clean implementation of dictionary to realise best way to solve duplicate is a set!!! \n",
    "'''\n",
    "\n",
    "### Using dictionary (advantage: If ques was find more than 3 repeats, dictionaries get powerful)\n",
    "def containsDuplicate(nums):\n",
    "    \"\"\"\n",
    "    :type nums: List[int]\n",
    "    :rtype: bool\n",
    "    \"\"\"\n",
    "    \n",
    "    ## Test cases \n",
    "    # [1] false \n",
    "    # [1,2] false\n",
    "    # [1,1] true\n",
    "    # [1,2,3,4,6,7,7]\n",
    "    # [1,2,2,4,7,7,7]\n",
    "    \n",
    "    solution = False\n",
    "    dict_counts = {}\n",
    "    \n",
    "    ## Runtime: O(n) Memory: O(n)\n",
    "        \n",
    "    if (len(nums)>1):\n",
    "        for num in nums:\n",
    "            try:\n",
    "                if (dict_counts[num] == 1):\n",
    "                    solution = True\n",
    "                    break\n",
    "                    \n",
    "            except:\n",
    "                # print(\"Added default for\", num)\n",
    "                dict_counts[num] = 1\n",
    "                \n",
    "    return solution\n",
    "\n",
    "### Using set: Most convinient to find at least two duplicates \n",
    "def containsDuplicateSets(nums):\n",
    "    return len(set(nums)) != len(nums)"
   ]
  },
  {
   "cell_type": "code",
   "execution_count": 6,
   "metadata": {},
   "outputs": [
    {
     "data": {
      "text/plain": [
       "True"
      ]
     },
     "execution_count": 6,
     "metadata": {},
     "output_type": "execute_result"
    }
   ],
   "source": [
    "containsDuplicateSets([1,1,3])"
   ]
  },
  {
   "cell_type": "code",
   "execution_count": null,
   "metadata": {},
   "outputs": [],
   "source": []
  }
 ],
 "metadata": {
  "interpreter": {
   "hash": "6a33784d2e02aee83e49ac6533fd5586adcd80ae4d6db07a7c73263e9bf81256"
  },
  "kernelspec": {
   "display_name": "Python 3.6.12 64-bit (conda)",
   "name": "python3"
  },
  "language_info": {
   "codemirror_mode": {
    "name": "ipython",
    "version": 3
   },
   "file_extension": ".py",
   "mimetype": "text/x-python",
   "name": "python",
   "nbconvert_exporter": "python",
   "pygments_lexer": "ipython3",
   "version": "3.6.12"
  },
  "orig_nbformat": 4
 },
 "nbformat": 4,
 "nbformat_minor": 2
}
