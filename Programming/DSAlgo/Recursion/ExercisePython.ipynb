{
 "cells": [
  {
   "cell_type": "code",
   "execution_count": 5,
   "metadata": {},
   "outputs": [
    {
     "name": "stdout",
     "output_type": "stream",
     "text": [
      "15\n",
      "15\n"
     ]
    }
   ],
   "source": [
    "############## Sum of n natural numbers ######################\n",
    "'''Space complexity of iterative is O(1) while recursive is O(n). Time complexity for both is O(n) '''\n",
    "\n",
    "def sum_n_recursive(n):\n",
    "    if (n>0):\n",
    "        return sum_n_recursive(n-1)+n\n",
    "    else:\n",
    "        return 0\n",
    "\n",
    "def sum_n_iter(n):\n",
    "    sum = 0\n",
    "    for i in range(n+1):\n",
    "        sum += i\n",
    "    return sum\n",
    "\n",
    "print(sum_n_recursive(5))\n",
    "print(sum_n_iter(5))"
   ]
  },
  {
   "cell_type": "code",
   "execution_count": 6,
   "metadata": {},
   "outputs": [
    {
     "data": {
      "text/plain": [
       "120"
      ]
     },
     "execution_count": 6,
     "metadata": {},
     "output_type": "execute_result"
    }
   ],
   "source": [
    "################## Factorial ######################################\n",
    "\n",
    "def factorial(n):\n",
    "    if(n>0):\n",
    "        return factorial(n-1)*n\n",
    "    else:\n",
    "        return 1\n",
    "\n",
    "factorial(5)"
   ]
  },
  {
   "cell_type": "code",
   "execution_count": 8,
   "metadata": {},
   "outputs": [
    {
     "name": "stdout",
     "output_type": "stream",
     "text": [
      "32\n",
      "32\n"
     ]
    }
   ],
   "source": [
    "############# Power ###########################\n",
    "\n",
    "# Option 1\n",
    "def power(a, n):\n",
    "    if (n==0):\n",
    "        return 1\n",
    "    else:\n",
    "        return power(a,n-1)*a\n",
    "\n",
    "print(power(2,5))\n",
    "\n",
    "# Option 2\n",
    "\n",
    "def power_faster(a,n):\n",
    "    if(n==0):\n",
    "        return 1\n",
    "    if (n%2 ==0):\n",
    "        return power_faster(a*a, n//2)\n",
    "    else:\n",
    "        return a*power_faster(a*a, n//2)\n",
    "\n",
    "print(power_faster(2,5))"
   ]
  },
  {
   "cell_type": "code",
   "execution_count": 4,
   "metadata": {},
   "outputs": [
    {
     "name": "stdout",
     "output_type": "stream",
     "text": [
      "7.389056098930649\n",
      "7.389056098930649\n"
     ]
    },
    {
     "data": {
      "text/plain": [
       "7.38905609893065"
      ]
     },
     "execution_count": 4,
     "metadata": {},
     "output_type": "execute_result"
    }
   ],
   "source": [
    "############### Taylor series ############################333\n",
    "'''\n",
    "e^x = 1+x+x^2/2!+x^3/3!+.......n times \n",
    "Individual terms seem to be output of a simple f(n-1) recursion. We need a way to add them together. \n",
    "My first idea was to have an indirect recursion with two recursibe functions: One generating indiv components, next adding them up\n",
    "Ratehr we can have two static variables which store the numerator and denominator (Option 1)\n",
    "\n",
    "// Option 2 (Horner's rule)\n",
    "But if we look in reverse \n",
    "e^x = 1+x+x^2/2!+x^3/3!+x^4/4!\n",
    "    = 1+x(1+x/2+x^2/3!+x^3/4!)\n",
    "    = 1+x(1+x/2(1+x/3+x/(4*3)))\n",
    "    = 1+x(1+x/2(1+x/3(1+x/4))\n",
    "\n",
    "So if we start with n=4, we take a store=1, increment it store = 1+store*x/n\n",
    "@ n=4, store = 1+x/4 \n",
    "@ n=3, store = 1+x/3(1+x/4)\n",
    "@ n=2, store = 1+x/2(1+x/3(1+x/4))\n",
    "@ n=1, store = 1+x(1+x/2(1+x/3(1+x/4))\n",
    "\n",
    "usually we return 1, when n=0, here we should return our store, which has final value :)\n",
    "'''\n",
    "## Option 1 (so obtuse in python without static variable)\n",
    "\n",
    "def taylor_recursion(x, n, num=1, den=1):\n",
    "    if (n==0):\n",
    "        return 1, 1, 1\n",
    "    else:\n",
    "        r, num, den = taylor_recursion(x, n-1, num, den)\n",
    "        num *= x\n",
    "        den *= n \n",
    "        return r + num/den, num, den\n",
    "\n",
    "output, _, _ = taylor_recursion(2,100)\n",
    "print(output)\n",
    "\n",
    "## Option 1: OOP to the rescue \n",
    "class TaylorSeries:\n",
    "\tdef __init__(self):\n",
    "\t\tself.num = 1 \n",
    "\t\tself.den = 1\n",
    "\t\t\n",
    "\tdef recur_e(self, x, n):\n",
    "\t\tif n == 0:\n",
    "\t\t\treturn 1\n",
    "\t\t\n",
    "\t\telse:\n",
    "\t\t\tr = self.recur_e(x, n-1)\n",
    "\t\t\tself.num *= x\n",
    "\t\t\tself.den *= n\n",
    "\t\t\treturn r+ self.num/self.den\n",
    "\n",
    "T = TaylorSeries()\n",
    "print(T.recur_e(2, 100))\n",
    "\n",
    "## Option 2\n",
    "\n",
    "def taylor_expansion(x, n, store = 1):\n",
    "    if (n>0):\n",
    "        store = 1+store*x/n\n",
    "        return taylor_expansion(x, n-1, store)\n",
    "\n",
    "    else:\n",
    "        return store\n",
    "\n",
    "print(taylor_expansion(2,100))\n",
    "\n",
    "## Option 2: with OOP\n",
    "class TaylorHorner: \n",
    "\tdef __init__(self):\n",
    "\t\tself.out = 1 \n",
    "\t\t\n",
    "\tdef recur(self, x, n):\n",
    "\t\tif n ==0:\n",
    "\t\t\treturn self.out \n",
    "\t\telse:\n",
    "\t\t\tself.out = 1+x/n*self.out\n",
    "\t\t\treturn self.recur(x,n-1)\n",
    "\n",
    "\n",
    "T = TaylorHorner()\n",
    "print(T.recur(2, 100))"
   ]
  },
  {
   "cell_type": "code",
   "execution_count": 5,
   "metadata": {},
   "outputs": [
    {
     "name": "stdout",
     "output_type": "stream",
     "text": [
      "7.38905609893065\n"
     ]
    }
   ],
   "source": []
  },
  {
   "cell_type": "code",
   "execution_count": 17,
   "metadata": {},
   "outputs": [
    {
     "data": {
      "text/plain": [
       "7.389056098930649"
      ]
     },
     "execution_count": 17,
     "metadata": {},
     "output_type": "execute_result"
    }
   ],
   "source": [
    "# Option 3 (Iterative)\n",
    "\n",
    "def taylor_iterative(x, n):\n",
    "    sum = 0\n",
    "    num = 1 \n",
    "    den = 1\n",
    "\n",
    "    for i in range(1,n+1):\n",
    "        sum = sum+num/den\n",
    "        num *= x\n",
    "        den *= i \n",
    "    return sum\n",
    "\n",
    "taylor_iterative(2, 100)"
   ]
  },
  {
   "cell_type": "code",
   "execution_count": 21,
   "metadata": {},
   "outputs": [
    {
     "data": {
      "text/plain": [
       "55"
      ]
     },
     "execution_count": 21,
     "metadata": {},
     "output_type": "execute_result"
    }
   ],
   "source": [
    "###### Fibonacci using memoization \n",
    "\n",
    "\n",
    "A = [-1]*10\n",
    "\n",
    "def fibo(n):\n",
    "    if (n>0):\n",
    "        if (n<=1):\n",
    "            return 1\n",
    "        else:\n",
    "            if A[n-2]==-1:\n",
    "                A[n-2] = fibo(n-2)\n",
    "            if A[n-1]==-1:\n",
    "                A[n-1] = fibo(n-1)\n",
    "            return A[n-1] + A[n-2]\n",
    "    return 0\n",
    "\n",
    "fibo(10)\n"
   ]
  },
  {
   "cell_type": "code",
   "execution_count": 22,
   "metadata": {},
   "outputs": [
    {
     "data": {
      "text/plain": [
       "45"
      ]
     },
     "execution_count": 22,
     "metadata": {},
     "output_type": "execute_result"
    }
   ],
   "source": [
    "############## sum of array using recursion\n",
    "\n",
    "A = [1,2,3,4,5,6,7,8,9]\n",
    "\n",
    "def sum_array_recur(A):\n",
    "    if (len(A)>0):\n",
    "        return A.pop() + sum_array_recur(A)\n",
    "    return 0\n",
    "\n",
    "sum_array_recur(A)"
   ]
  },
  {
   "cell_type": "code",
   "execution_count": null,
   "metadata": {},
   "outputs": [],
   "source": [
    "####### Climbing Stairs ###############\n",
    "# LC: \n",
    "\n",
    "class Solution(object):\n",
    "    def recur_jump(self,n):\n",
    "        if n ==0:\n",
    "            self.cache[0] = 1\n",
    "            return self.cache[0]\n",
    "        elif n<0: \n",
    "            return 0\n",
    "        else:\n",
    "            a = 0 \n",
    "            b = 0\n",
    "            if n>=2:\n",
    "                if self.cache[n-2] == -1:\n",
    "                    self.cache[n-2] = self.recur_jump(n-2)\n",
    "                a = self.cache[n-2]\n",
    "            if n>=1:\n",
    "                if self.cache[n-1] == -1:\n",
    "                    self.cache[n-1] = self.recur_jump(n-1)   \n",
    "                b = self.cache[n-1]\n",
    "            return a + b\n",
    "        \n",
    "    def climbStairs(self, n):\n",
    "        \"\"\"\n",
    "        :type n: int\n",
    "        :rtype: int\n",
    "        \"\"\"\n",
    "        self.n = n \n",
    "        self.cache = [-1]*n\n",
    "        return self.recur_jump(n)\n",
    "''' Basically its fibonacci'''"
   ]
  }
 ],
 "metadata": {
  "interpreter": {
   "hash": "6a33784d2e02aee83e49ac6533fd5586adcd80ae4d6db07a7c73263e9bf81256"
  },
  "kernelspec": {
   "display_name": "Python 3.6.12 64-bit (conda)",
   "name": "python3"
  },
  "language_info": {
   "codemirror_mode": {
    "name": "ipython",
    "version": 3
   },
   "file_extension": ".py",
   "mimetype": "text/x-python",
   "name": "python",
   "nbconvert_exporter": "python",
   "pygments_lexer": "ipython3",
   "version": "3.6.12"
  },
  "orig_nbformat": 4
 },
 "nbformat": 4,
 "nbformat_minor": 2
}
