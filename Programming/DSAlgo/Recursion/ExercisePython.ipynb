{
 "cells": [
  {
   "cell_type": "code",
   "execution_count": 5,
   "source": [
    "############## Sum of n natural numbers ######################\r\n",
    "'''Space complexity of iterative is O(1) while recursive is O(n). Time complexity for both is O(n) '''\r\n",
    "\r\n",
    "def sum_n_recursive(n):\r\n",
    "    if (n>0):\r\n",
    "        return sum_n_recursive(n-1)+n\r\n",
    "    else:\r\n",
    "        return 0\r\n",
    "\r\n",
    "def sum_n_iter(n):\r\n",
    "    sum = 0\r\n",
    "    for i in range(n+1):\r\n",
    "        sum += i\r\n",
    "    return sum\r\n",
    "\r\n",
    "print(sum_n_recursive(5))\r\n",
    "print(sum_n_iter(5))"
   ],
   "outputs": [
    {
     "output_type": "stream",
     "name": "stdout",
     "text": [
      "15\n",
      "15\n"
     ]
    }
   ],
   "metadata": {}
  },
  {
   "cell_type": "code",
   "execution_count": 6,
   "source": [
    "################## Factorial ######################################\r\n",
    "\r\n",
    "def factorial(n):\r\n",
    "    if(n>0):\r\n",
    "        return factorial(n-1)*n\r\n",
    "    else:\r\n",
    "        return 1\r\n",
    "\r\n",
    "factorial(5)"
   ],
   "outputs": [
    {
     "output_type": "execute_result",
     "data": {
      "text/plain": [
       "120"
      ]
     },
     "metadata": {},
     "execution_count": 6
    }
   ],
   "metadata": {}
  },
  {
   "cell_type": "code",
   "execution_count": 8,
   "source": [
    "############# Power ###########################\r\n",
    "\r\n",
    "# Option 1\r\n",
    "def power(a, n):\r\n",
    "    if (n==0):\r\n",
    "        return 1\r\n",
    "    else:\r\n",
    "        return power(a,n-1)*a\r\n",
    "\r\n",
    "print(power(2,5))\r\n",
    "\r\n",
    "# Option 2\r\n",
    "\r\n",
    "def power_faster(a,n):\r\n",
    "    if(n==0):\r\n",
    "        return 1\r\n",
    "    if (n%2 ==0):\r\n",
    "        return power_faster(a*a, n//2)\r\n",
    "    else:\r\n",
    "        return a*power_faster(a*a, n//2)\r\n",
    "\r\n",
    "print(power_faster(2,5))"
   ],
   "outputs": [
    {
     "output_type": "stream",
     "name": "stdout",
     "text": [
      "32\n",
      "32\n"
     ]
    }
   ],
   "metadata": {}
  },
  {
   "cell_type": "code",
   "execution_count": 15,
   "source": [
    "############### Taylor series ############################333\r\n",
    "'''\r\n",
    "e^x = 1+x+x^2/2!+x^3/3!+.......n times \r\n",
    "Individual terms seem to be output of a simple f(n-1) recursion. We need a way to add them together. \r\n",
    "My first idea was to have an indirect recursion with two recursibe functions: One generating indiv components, next adding them up\r\n",
    "Ratehr we can have two static variables which store the numerator and denominator (Option 1)\r\n",
    "\r\n",
    "// Option 2 (Horner's rule)\r\n",
    "But if we look in reverse \r\n",
    "e^x = 1+x+x^2/2!+x^3/3!+x^4/4!\r\n",
    "    = 1+x(1+x/2+x^2/3!+x^3/4!)\r\n",
    "    = 1+x(1+x/2(1+x/3+x/(4*3)))\r\n",
    "    = 1+x(1+x/2(1+x/3(1+x/4))\r\n",
    "\r\n",
    "So if we start with n=4, we take a store=1, increment it store = 1+store*x/n\r\n",
    "@ n=4, store = 1+x/4 \r\n",
    "@ n=3, store = 1+x/3(1+x/4)\r\n",
    "@ n=2, store = 1+x/2(1+x/3(1+x/4))\r\n",
    "@ n=1, store = 1+x(1+x/2(1+x/3(1+x/4))\r\n",
    "\r\n",
    "usually we return 1, when n=0, here we should return our store, which has final value :)\r\n",
    "'''\r\n",
    "## Option 1 (so obtuse in python without static variable)\r\n",
    "\r\n",
    "def taylor_recursion(x, n, num=1, den=1):\r\n",
    "    if (n==0):\r\n",
    "        return 1, 1, 1\r\n",
    "    else:\r\n",
    "        r, num, den = taylor_recursion(x, n-1, num, den)\r\n",
    "        num *= x\r\n",
    "        den *= n \r\n",
    "        return r + num/den, num, den\r\n",
    "\r\n",
    "output, _, _ = taylor_recursion(2,10)\r\n",
    "\r\n",
    "print(output)\r\n",
    "\r\n",
    "\r\n",
    "## Option 2\r\n",
    "\r\n",
    "def taylor_expansion(x, n, store = 1):\r\n",
    "    if (n>0):\r\n",
    "        store = 1+store*x/n\r\n",
    "        return taylor_expansion(x, n-1, store)\r\n",
    "\r\n",
    "    else:\r\n",
    "        return store\r\n",
    "\r\n",
    "taylor_expansion(2,100)"
   ],
   "outputs": [
    {
     "output_type": "execute_result",
     "data": {
      "text/plain": [
       "7.38905609893065"
      ]
     },
     "metadata": {},
     "execution_count": 15
    }
   ],
   "metadata": {}
  },
  {
   "cell_type": "code",
   "execution_count": 17,
   "source": [
    "# Option 3 (Iterative)\r\n",
    "\r\n",
    "def taylor_iterative(x, n):\r\n",
    "    sum = 0\r\n",
    "    num = 1 \r\n",
    "    den = 1\r\n",
    "\r\n",
    "    for i in range(1,n+1):\r\n",
    "        sum = sum+num/den\r\n",
    "        num *= x\r\n",
    "        den *= i \r\n",
    "    return sum\r\n",
    "\r\n",
    "taylor_iterative(2, 100)"
   ],
   "outputs": [
    {
     "output_type": "execute_result",
     "data": {
      "text/plain": [
       "7.389056098930649"
      ]
     },
     "metadata": {},
     "execution_count": 17
    }
   ],
   "metadata": {}
  },
  {
   "cell_type": "code",
   "execution_count": 21,
   "source": [
    "###### Fibonacci using memoization \r\n",
    "\r\n",
    "\r\n",
    "A = [-1]*10\r\n",
    "\r\n",
    "def fibo(n):\r\n",
    "    if (n>0):\r\n",
    "        if (n<=1):\r\n",
    "            return 1\r\n",
    "        else:\r\n",
    "            if A[n-2]==-1:\r\n",
    "                A[n-2] = fibo(n-2)\r\n",
    "            if A[n-1]==-1:\r\n",
    "                A[n-1] = fibo(n-1)\r\n",
    "            return A[n-1] + A[n-2]\r\n",
    "    return 0\r\n",
    "\r\n",
    "fibo(10)\r\n"
   ],
   "outputs": [
    {
     "output_type": "execute_result",
     "data": {
      "text/plain": [
       "55"
      ]
     },
     "metadata": {},
     "execution_count": 21
    }
   ],
   "metadata": {}
  },
  {
   "cell_type": "code",
   "execution_count": 22,
   "source": [
    "############## sum of array using recursion\r\n",
    "\r\n",
    "A = [1,2,3,4,5,6,7,8,9]\r\n",
    "\r\n",
    "def sum_array_recur(A):\r\n",
    "    if (len(A)>0):\r\n",
    "        return A.pop() + sum_array_recur(A)\r\n",
    "    return 0\r\n",
    "\r\n",
    "sum_array_recur(A)"
   ],
   "outputs": [
    {
     "output_type": "execute_result",
     "data": {
      "text/plain": [
       "45"
      ]
     },
     "metadata": {},
     "execution_count": 22
    }
   ],
   "metadata": {}
  },
  {
   "cell_type": "code",
   "execution_count": null,
   "source": [],
   "outputs": [],
   "metadata": {}
  }
 ],
 "metadata": {
  "orig_nbformat": 4,
  "language_info": {
   "name": "python",
   "version": "3.6.12",
   "mimetype": "text/x-python",
   "codemirror_mode": {
    "name": "ipython",
    "version": 3
   },
   "pygments_lexer": "ipython3",
   "nbconvert_exporter": "python",
   "file_extension": ".py"
  },
  "kernelspec": {
   "name": "python3",
   "display_name": "Python 3.6.12 64-bit (conda)"
  },
  "interpreter": {
   "hash": "6a33784d2e02aee83e49ac6533fd5586adcd80ae4d6db07a7c73263e9bf81256"
  }
 },
 "nbformat": 4,
 "nbformat_minor": 2
}