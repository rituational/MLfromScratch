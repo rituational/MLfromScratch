{
 "cells": [
  {
   "cell_type": "code",
   "execution_count": 24,
   "source": [
    "## Head Recursion \r\n",
    "\r\n",
    "def head_recursion(n):\r\n",
    "    if (n>0):\r\n",
    "        head_recursion(n-1)\r\n",
    "        print(n)\r\n",
    "\r\n",
    "def tail_recursion(n):\r\n",
    "    if (n>0):\r\n",
    "        print(n)\r\n",
    "        tail_recursion(n-1)\r\n",
    "\r\n",
    "def tail_iteration(n):\r\n",
    "    while(n>0):\r\n",
    "        print(n)\r\n",
    "        n -= 1\r\n",
    "\r\n",
    "def head_n_tail_recursion(n):\r\n",
    "    if (n>0):\r\n",
    "        head_recursion(n-1)\r\n",
    "        head_n_tail_recursion(n-1)\r\n"
   ],
   "outputs": [],
   "metadata": {}
  },
  {
   "cell_type": "code",
   "execution_count": 7,
   "source": [
    "head_recursion(5)\r\n",
    "tail_recursion(5)"
   ],
   "outputs": [
    {
     "output_type": "stream",
     "name": "stdout",
     "text": [
      "1\n",
      "2\n",
      "3\n",
      "4\n",
      "5\n",
      "5\n",
      "4\n",
      "3\n",
      "2\n",
      "1\n"
     ]
    }
   ],
   "metadata": {}
  },
  {
   "cell_type": "code",
   "execution_count": 12,
   "source": [
    "head_n_tail_recursion(5)"
   ],
   "outputs": [
    {
     "output_type": "stream",
     "name": "stdout",
     "text": [
      "1\n",
      "2\n",
      "3\n",
      "4\n",
      "1\n",
      "2\n",
      "3\n",
      "1\n",
      "2\n",
      "1\n"
     ]
    }
   ],
   "metadata": {}
  },
  {
   "cell_type": "code",
   "execution_count": 25,
   "source": [
    "tail_iteration(5)\r\n",
    "print(\"vs\")\r\n",
    "tail_recursion(5)"
   ],
   "outputs": [
    {
     "output_type": "stream",
     "name": "stdout",
     "text": [
      "5\n",
      "4\n",
      "3\n",
      "2\n",
      "1\n",
      "vs\n",
      "5\n",
      "4\n",
      "3\n",
      "2\n",
      "1\n"
     ]
    }
   ],
   "metadata": {}
  },
  {
   "cell_type": "code",
   "execution_count": null,
   "source": [],
   "outputs": [],
   "metadata": {}
  }
 ],
 "metadata": {
  "orig_nbformat": 4,
  "language_info": {
   "name": "python",
   "version": "3.6.12",
   "mimetype": "text/x-python",
   "codemirror_mode": {
    "name": "ipython",
    "version": 3
   },
   "pygments_lexer": "ipython3",
   "nbconvert_exporter": "python",
   "file_extension": ".py"
  },
  "kernelspec": {
   "name": "python3",
   "display_name": "Python 3.6.12 64-bit (conda)"
  },
  "interpreter": {
   "hash": "6a33784d2e02aee83e49ac6533fd5586adcd80ae4d6db07a7c73263e9bf81256"
  }
 },
 "nbformat": 4,
 "nbformat_minor": 2
}