{
 "cells": [
  {
   "cell_type": "markdown",
   "metadata": {},
   "source": [
    "        void recurse(int n)\n",
    "        {\n",
    "            1._____  /happens during calling \n",
    "            recurse(n-1)\n",
    "            3. ______ / happens during execution \n",
    "        }\n",
    "\n",
    "* tail recursion: The recursive call is the last statement. \n",
    "* head recursion: Recursion is first statement, all processing during returning time."
   ]
  },
  {
   "cell_type": "markdown",
   "metadata": {},
   "source": [
    "## Tail Recursion vs Loop \n",
    "\n",
    "* As seen below, tail recursion can be also coded as a loop\n",
    "* Implementation look very similar \n",
    "* Compiler sometimes converts tail recursion into loop to improve space efficiency of the code.\n",
    "\n",
    "For recursion:\n",
    "* O(n) time complexity\n",
    "* O(n) space complexity (we create n+1 instances in the stack)\n",
    "\n",
    "For loop:\n",
    "* O(n) time complexity\n",
    "* O(1) space complexity (only one instance in stack)"
   ]
  },
  {
   "cell_type": "code",
   "execution_count": 2,
   "metadata": {},
   "outputs": [
    {
     "name": "stdout",
     "output_type": "stream",
     "text": [
      "5\n",
      "4\n",
      "3\n",
      "2\n",
      "1\n",
      "vs\n",
      "5\n",
      "4\n",
      "3\n",
      "2\n",
      "1\n"
     ]
    }
   ],
   "source": [
    "def tail_recursion(n):\n",
    "    if (n>0):\n",
    "        print(n)\n",
    "        tail_recursion(n-1)\n",
    "\n",
    "def tail_iteration(n):\n",
    "    while(n>0):\n",
    "        print(n)\n",
    "        n -= 1\n",
    "\n",
    "tail_recursion(5)\n",
    "print(\"vs\")\n",
    "tail_iteration(5)"
   ]
  },
  {
   "cell_type": "markdown",
   "metadata": {},
   "source": [
    "# Head recursion vs loop \n",
    "* It isnt that intuitive to convert head recursion into loop, the implementation may not look visually similar. "
   ]
  },
  {
   "cell_type": "code",
   "execution_count": 4,
   "metadata": {},
   "outputs": [
    {
     "name": "stdout",
     "output_type": "stream",
     "text": [
      "1\n",
      "2\n",
      "3\n",
      "vs\n",
      "1\n",
      "2\n",
      "3\n"
     ]
    }
   ],
   "source": [
    "def head_recursion(n):\n",
    "    if (n>0):\n",
    "        head_recursion(n-1)\n",
    "        print(n)\n",
    "\n",
    "def head_iteration(n):\n",
    "    i = 1\n",
    "    while (i<=n):\n",
    "        print(i)\n",
    "        i += 1\n",
    "\n",
    "head_recursion(3)\n",
    "print(\"vs\")\n",
    "head_iteration(3)       "
   ]
  },
  {
   "cell_type": "markdown",
   "metadata": {},
   "source": [
    "## Tree Recursion \n",
    "Function calling itself more than once. \n"
   ]
  },
  {
   "cell_type": "code",
   "execution_count": 6,
   "metadata": {},
   "outputs": [
    {
     "name": "stdout",
     "output_type": "stream",
     "text": [
      "4\n",
      "3\n",
      "2\n",
      "1\n",
      "1\n",
      "2\n",
      "1\n",
      "1\n",
      "3\n",
      "2\n",
      "1\n",
      "1\n",
      "2\n",
      "1\n",
      "1\n"
     ]
    }
   ],
   "source": [
    "def tree_recursion(n):\n",
    "    if (n>0):\n",
    "        print(n)\n",
    "        tree_recursion(n-1)\n",
    "        tree_recursion(n-1)\n",
    "\n",
    "tree_recursion(4)\n",
    "# At every recursion, we get two sub recursion, 2 sub branches, which will keep dividing into two sub branches until n =0\n",
    "# Tip: Since its head recursion (like preorder tree traversal, if we trace the tree formed, we get the answer, no need to trace it completely)"
   ]
  },
  {
   "cell_type": "code",
   "execution_count": 1,
   "metadata": {},
   "outputs": [
    {
     "name": "stdout",
     "output_type": "stream",
     "text": [
      "1\n",
      "1\n",
      "2\n",
      "1\n",
      "1\n",
      "2\n",
      "3\n",
      "1\n",
      "1\n",
      "2\n",
      "1\n",
      "1\n",
      "2\n",
      "3\n",
      "4\n"
     ]
    }
   ],
   "source": [
    "# Just for fun \n",
    "def tree_recursion(n):\n",
    "    if (n>0):\n",
    "        tree_recursion(n-1)\n",
    "        tree_recursion(n-1)\n",
    "        print(n)\n",
    "\n",
    "tree_recursion(4)\n",
    "# Tip: This is the same as above, but now its head recursion (similar to post order) so traverse the tree with finger directed to right \n"
   ]
  },
  {
   "cell_type": "markdown",
   "metadata": {},
   "source": [
    "## Indirect Recursion "
   ]
  },
  {
   "cell_type": "code",
   "execution_count": 7,
   "metadata": {},
   "outputs": [
    {
     "name": "stdout",
     "output_type": "stream",
     "text": [
      "20\n",
      "19\n",
      "9\n",
      "8\n",
      "4\n",
      "3\n",
      "1\n"
     ]
    }
   ],
   "source": [
    "def indirect_recur_a(n):\n",
    "    if (n>0):\n",
    "        print(n)\n",
    "        indirect_recur_b(n-1)\n",
    "\n",
    "def indirect_recur_b(n):\n",
    "    if (n>1):\n",
    "        print(n)\n",
    "        indirect_recur_a(n//2)\n",
    "\n",
    "indirect_recur_a(20)"
   ]
  },
  {
   "cell_type": "markdown",
   "metadata": {},
   "source": [
    "## Nested Recursion \n",
    "* Function call as a function arguement during recursion. \n"
   ]
  },
  {
   "cell_type": "code",
   "execution_count": 2,
   "metadata": {},
   "outputs": [
    {
     "name": "stdout",
     "output_type": "stream",
     "text": [
      "96\n",
      "97\n",
      "98\n",
      "99\n",
      "100\n",
      "101\n",
      "91\n",
      "Output is 91\n"
     ]
    }
   ],
   "source": [
    "def nested_recursion(n):\n",
    "    if (n>100):\n",
    "        print(n-10)\n",
    "        return n-10\n",
    "    else:\n",
    "        return nested_recursion(nested_recursion(n+11))\n",
    "\n",
    "out = nested_recursion(95)\n",
    "print(f\"Output is {out}\") ## why output none???"
   ]
  },
  {
   "cell_type": "code",
   "execution_count": null,
   "metadata": {},
   "outputs": [],
   "source": []
  }
 ],
 "metadata": {
  "interpreter": {
   "hash": "6a33784d2e02aee83e49ac6533fd5586adcd80ae4d6db07a7c73263e9bf81256"
  },
  "kernelspec": {
   "display_name": "Python 3.6.12 64-bit (conda)",
   "name": "python3"
  },
  "language_info": {
   "codemirror_mode": {
    "name": "ipython",
    "version": 3
   },
   "file_extension": ".py",
   "mimetype": "text/x-python",
   "name": "python",
   "nbconvert_exporter": "python",
   "pygments_lexer": "ipython3",
   "version": "3.6.12"
  },
  "orig_nbformat": 4
 },
 "nbformat": 4,
 "nbformat_minor": 2
}
