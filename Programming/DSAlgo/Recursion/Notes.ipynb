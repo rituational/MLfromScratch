{
 "cells": [
  {
   "cell_type": "markdown",
   "source": [
    "        void recurse(int n)\r\n",
    "        {\r\n",
    "            1._____  /happens during calling \r\n",
    "            recurse(n-1)\r\n",
    "            3. ______ / happens during execution \r\n",
    "        }\r\n",
    "\r\n",
    "* tail recursion: The recursive call is the last statement. \r\n",
    "* head recursion: Recursion is first statement, all processing during returning time."
   ],
   "metadata": {}
  },
  {
   "cell_type": "markdown",
   "source": [
    "## Tail Recursion vs Loop \r\n",
    "\r\n",
    "* As seen below, tail recursion can be also coded as a loop\r\n",
    "* Implementation look very similar \r\n",
    "* Compiler sometimes converts tail recursion into loop to improve space efficiency of the code.\r\n",
    "\r\n",
    "For recursion:\r\n",
    "* O(n) time complexity\r\n",
    "* O(n) space complexity (we create n+1 instances in the stack)\r\n",
    "\r\n",
    "For loop:\r\n",
    "* O(n) time complexity\r\n",
    "* O(1) space complexity (only one instance in stack)"
   ],
   "metadata": {}
  },
  {
   "cell_type": "code",
   "execution_count": 2,
   "source": [
    "def tail_recursion(n):\r\n",
    "    if (n>0):\r\n",
    "        print(n)\r\n",
    "        tail_recursion(n-1)\r\n",
    "\r\n",
    "def tail_iteration(n):\r\n",
    "    while(n>0):\r\n",
    "        print(n)\r\n",
    "        n -= 1\r\n",
    "\r\n",
    "tail_recursion(5)\r\n",
    "print(\"vs\")\r\n",
    "tail_iteration(5)"
   ],
   "outputs": [
    {
     "output_type": "stream",
     "name": "stdout",
     "text": [
      "5\n",
      "4\n",
      "3\n",
      "2\n",
      "1\n",
      "vs\n",
      "5\n",
      "4\n",
      "3\n",
      "2\n",
      "1\n"
     ]
    }
   ],
   "metadata": {}
  },
  {
   "cell_type": "markdown",
   "source": [
    "# Head recursion vs loop \r\n",
    "* It isnt that intuitive to convert head recursion into loop, the implementation may not look visually similar. "
   ],
   "metadata": {}
  },
  {
   "cell_type": "code",
   "execution_count": 4,
   "source": [
    "def head_recursion(n):\r\n",
    "    if (n>0):\r\n",
    "        head_recursion(n-1)\r\n",
    "        print(n)\r\n",
    "\r\n",
    "def head_iteration(n):\r\n",
    "    i = 1\r\n",
    "    while (i<=n):\r\n",
    "        print(i)\r\n",
    "        i += 1\r\n",
    "\r\n",
    "head_recursion(3)\r\n",
    "print(\"vs\")\r\n",
    "head_iteration(3)       "
   ],
   "outputs": [
    {
     "output_type": "stream",
     "name": "stdout",
     "text": [
      "1\n",
      "2\n",
      "3\n",
      "vs\n",
      "1\n",
      "2\n",
      "3\n"
     ]
    }
   ],
   "metadata": {}
  },
  {
   "cell_type": "markdown",
   "source": [
    "## Tree Recursion \r\n",
    "Function calling itself more than once. \r\n"
   ],
   "metadata": {}
  },
  {
   "cell_type": "code",
   "execution_count": 6,
   "source": [
    "def tree_recursion(n):\r\n",
    "    if (n>0):\r\n",
    "        print(n)\r\n",
    "        tree_recursion(n-1)\r\n",
    "        tree_recursion(n-1)\r\n",
    "\r\n",
    "tree_recursion(4)"
   ],
   "outputs": [
    {
     "output_type": "stream",
     "name": "stdout",
     "text": [
      "4\n",
      "3\n",
      "2\n",
      "1\n",
      "1\n",
      "2\n",
      "1\n",
      "1\n",
      "3\n",
      "2\n",
      "1\n",
      "1\n",
      "2\n",
      "1\n",
      "1\n"
     ]
    }
   ],
   "metadata": {}
  },
  {
   "cell_type": "markdown",
   "source": [
    "## Indirect Recursion "
   ],
   "metadata": {}
  },
  {
   "cell_type": "code",
   "execution_count": 7,
   "source": [
    "def indirect_recur_a(n):\r\n",
    "    if (n>0):\r\n",
    "        print(n)\r\n",
    "        indirect_recur_b(n-1)\r\n",
    "\r\n",
    "def indirect_recur_b(n):\r\n",
    "    if (n>1):\r\n",
    "        print(n)\r\n",
    "        indirect_recur_a(n//2)\r\n",
    "\r\n",
    "indirect_recur_a(20)"
   ],
   "outputs": [
    {
     "output_type": "stream",
     "name": "stdout",
     "text": [
      "20\n",
      "19\n",
      "9\n",
      "8\n",
      "4\n",
      "3\n",
      "1\n"
     ]
    }
   ],
   "metadata": {}
  },
  {
   "cell_type": "markdown",
   "source": [
    "## Nested Recursion \r\n",
    "* Function call as a function arguement during recursion. \r\n"
   ],
   "metadata": {}
  },
  {
   "cell_type": "code",
   "execution_count": 16,
   "source": [
    "def nested_recursion(n):\r\n",
    "    if (n>100):\r\n",
    "        print(n-10)\r\n",
    "        return n-10\r\n",
    "    else:\r\n",
    "        nested_recursion(nested_recursion(n+11))\r\n",
    "\r\n",
    "out = nested_recursion(95)\r\n",
    "print(f\"Output is {out}\") ## why output none???"
   ],
   "outputs": [
    {
     "output_type": "stream",
     "name": "stdout",
     "text": [
      "96\n",
      "97\n",
      "98\n",
      "99\n",
      "100\n",
      "101\n",
      "91\n",
      "Output is None\n"
     ]
    }
   ],
   "metadata": {}
  },
  {
   "cell_type": "code",
   "execution_count": null,
   "source": [],
   "outputs": [],
   "metadata": {}
  }
 ],
 "metadata": {
  "orig_nbformat": 4,
  "language_info": {
   "name": "python",
   "version": "3.6.12",
   "mimetype": "text/x-python",
   "codemirror_mode": {
    "name": "ipython",
    "version": 3
   },
   "pygments_lexer": "ipython3",
   "nbconvert_exporter": "python",
   "file_extension": ".py"
  },
  "kernelspec": {
   "name": "python3",
   "display_name": "Python 3.6.12 64-bit (conda)"
  },
  "interpreter": {
   "hash": "6a33784d2e02aee83e49ac6533fd5586adcd80ae4d6db07a7c73263e9bf81256"
  }
 },
 "nbformat": 4,
 "nbformat_minor": 2
}