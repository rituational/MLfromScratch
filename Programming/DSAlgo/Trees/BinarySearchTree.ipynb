{
 "cells": [
  {
   "cell_type": "markdown",
   "metadata": {},
   "source": [
    "## Binary Search Tree \n",
    "* right node is greater than left node \n",
    "* Properties: \n",
    "* * No duplicates \n",
    "* * Inorder traversal gives elements in ascending order\n",
    "* * We can generate 2nCn/(n+1) BST with n nodes \n",
    "* * It can be filled in a particular way \n"
   ]
  },
  {
   "cell_type": "markdown",
   "metadata": {},
   "source": [
    "### Searching in BST \n",
    "* Max time: O(height) ~O(log(n))\n",
    "### Creating BST \n",
    "* For every insert we search (O(log(n)))\n",
    "* For n nodes time : O(nlog(n))\n",
    "\n",
    "### Inserting \n",
    "\n",
    "### Deleting \n",
    "* We need to \n",
    "* * search O(logn)\n",
    "* * Deleting depends on the height of the tree and how many child the element being deleted has. \n",
    "\n",
    "### Generating BST using just preorder \n",
    "* We know inorder is sorted, we can use this property.\n",
    "\n",
    "### Drawback \n",
    "* The height of BST depends on the insertion of the keys. \n",
    "* Height can be anything from log(n) to n-1 depending on the order of insertion, which can't be controlled. \n",
    "* We need the tree to balance itself. That's what is done by AVL trees. \n"
   ]
  },
  {
   "cell_type": "code",
   "execution_count": 1,
   "metadata": {},
   "outputs": [],
   "source": [
    "## Inserting \n",
    "\n",
    "\n",
    "\n"
   ]
  },
  {
   "cell_type": "code",
   "execution_count": 2,
   "metadata": {},
   "outputs": [],
   "source": [
    "\n",
    "\n"
   ]
  },
  {
   "cell_type": "code",
   "execution_count": null,
   "metadata": {},
   "outputs": [],
   "source": []
  }
 ],
 "metadata": {
  "interpreter": {
   "hash": "6a33784d2e02aee83e49ac6533fd5586adcd80ae4d6db07a7c73263e9bf81256"
  },
  "kernelspec": {
   "display_name": "Python 3.6.12 64-bit (conda)",
   "name": "python3"
  },
  "language_info": {
   "codemirror_mode": {
    "name": "ipython",
    "version": 3
   },
   "file_extension": ".py",
   "mimetype": "text/x-python",
   "name": "python",
   "nbconvert_exporter": "python",
   "pygments_lexer": "ipython3",
   "version": "3.6.12"
  },
  "orig_nbformat": 4
 },
 "nbformat": 4,
 "nbformat_minor": 2
}
