{
 "cells": [
  {
   "cell_type": "markdown",
   "source": [
    "# Trees \r\n",
    "\r\n",
    "Eg: File system\r\n",
    "\r\n",
    "## Properties: \r\n",
    "* All of the children of one node independent of children of other node. \r\n",
    "*  * Eg: Let extras and project are two folders in documents folder. You can move extras folder inside projects folder, it wont affect the nodes at the same level of extras/projects. \r\n",
    "* Each leaf node is unique.\r\n",
    "\r\n",
    "## Terminology: \r\n",
    "* Node: Also called key.\r\n",
    "* * Has extra info attahced called pay load (important for tree applications)\r\n",
    "\r\n",
    "* Edge: \r\n",
    "* Path: ordered list of nodes\r\n",
    "* Child: all nodes connected from same node \r\n",
    "* Siblings \r\n",
    "* Level: No. of edges to pass to reach root node.\r\n",
    "\r\n"
   ],
   "metadata": {}
  }
 ],
 "metadata": {
  "orig_nbformat": 4,
  "language_info": {
   "name": "python"
  }
 },
 "nbformat": 4,
 "nbformat_minor": 2
}