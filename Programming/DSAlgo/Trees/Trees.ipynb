{
 "cells": [
  {
   "cell_type": "markdown",
   "source": [
    "## Learnings \r\n",
    "* Basic Theory\r\n",
    "* Write Tree Class \r\n",
    "* Create tree using an array of values\r\n",
    "* Traversals (recursive, iterative)\r\n",
    "* * Preorder\r\n",
    "* * Postorder\r\n",
    "* * Inorder\r\n",
    "* * Levelorder\r\n",
    "* LC: \r\n",
    "* * find symmetric tree (iterative,recursive)\r\n",
    "* * Count number of leaves\r\n",
    "* * Count the value in left leaves\r\n",
    "\r\n"
   ],
   "metadata": {}
  },
  {
   "cell_type": "markdown",
   "source": [
    "## Tips: \r\n",
    "* If we need a static variable in recursion, better implement using class. "
   ],
   "metadata": {}
  },
  {
   "cell_type": "markdown",
   "source": [
    "# Trees \r\n",
    "\r\n",
    "Eg: File system\r\n",
    "\r\n",
    "## Properties: \r\n",
    "* All of the children of one node independent of children of other node. \r\n",
    "*  * Eg: Let extras and project are two folders in documents folder. You can move extras folder inside projects folder, it wont affect the nodes at the same level of extras/projects. \r\n",
    "* Each leaf node is unique.\r\n",
    "\r\n",
    "## Terminology: \r\n",
    "* Node: Also called key.\r\n",
    "* * Has extra info attached called pay load (important for tree applications)\r\n",
    "\r\n",
    "* Edge: \r\n",
    "* Path: ordered list of nodes\r\n",
    "* Child: all nodes connected from same node \r\n",
    "* Siblings \r\n",
    "* Level:  \r\n",
    "* * No. of edges to pass to reach root node.\r\n",
    "* * Level vs height: Height starts from zero, level from 1.\r\n",
    "* Degree: max no. of children at any node.\r\n",
    "\r\n"
   ],
   "metadata": {}
  },
  {
   "cell_type": "markdown",
   "source": [],
   "metadata": {}
  },
  {
   "cell_type": "markdown",
   "source": [
    "### Strict Binary \r\n",
    "\r\n",
    "* Every node has {0,2} child. \r\n",
    "* For height h\r\n",
    "* * Min no. of nodes required: 2h+1 \r\n",
    "* * Max no. of nodes possible: $2^{h+1}-1$\r\n",
    "* For given nodes, using above formula: \r\n",
    "* * Min hieght: $ log_{2}(1+n)-1 $\r\n",
    "* * Max height: (n-1)/2\r\n",
    "\r\n",
    "* Internal vs external nodes: \r\n",
    "* * #external = #internal+1 \r\n",
    "* * Just draw a mental picture of binary tree. \r\n",
    "\r\n"
   ],
   "metadata": {}
  },
  {
   "cell_type": "markdown",
   "source": [
    "### n ary tree:\r\n",
    "* Max degree m, can be {0,1 2, ...m}\r\n",
    "* We cant judge degree of tree looking at the nodes. \r\n",
    "* A 3ary tree may look like binary tree, its just that it had capacity to have 3 nodes, we used only 2\r\n",
    "\r\n",
    "### Strict n ary tree \r\n",
    "* No of children {0,n}\r\n",
    "* Eg for 3 ary\r\n",
    "* For given height\r\n",
    "* * min nodes: 1+3h\r\n",
    "* * max nodes:  ($1+3+3^2+3^3...3^{n-1}$)\r\n",
    "* * max nodes: $(3^{h+1}-1)/(3-1)$\r\n",
    "\r\n",
    "* Internal vs external nodes: \r\n",
    "* * #external = (n-1)#internal+1 "
   ],
   "metadata": {}
  },
  {
   "cell_type": "markdown",
   "source": [
    "### Representation of Binary Tree\r\n",
    "\r\n",
    "#### Array representation\r\n",
    "* Let array be 1 indexed \r\n",
    "* Store node one level at a time starting from root \r\n",
    "* For any node at index i\r\n",
    "* * left child at 2*i \r\n",
    "* * right child at 2*i+1\r\n",
    "* To find the parent of jth node: j//2\r\n",
    "\r\n",
    "### Linked Representation \r\n",
    "class TreeNode:\r\n",
    "    def __init__(self, data):\r\n",
    "        self.left = None  ## will point to left child\r\n",
    "        self.right = None ## will point to right child\r\n",
    "        self.data = data \r\n",
    "\r\n",
    "* For any binary tree with n nodes, we will have n+1 null pointers (the leaf nodes)\r\n",
    "\r\n",
    "### Full vs Complete BT \r\n",
    "* Full: Used $2^{h+1}-1$ nodes \r\n",
    "* Complete: In the array representation,there shouldnt be any gaps \r\n",
    "* * For level l, until l-1 level, it is full \r\n",
    "* * we add nodes left to right at every level) \r\n",
    "* Full binary tree is a complete BT, but complete BT may not be full \r\n",
    "\r\n",
    "### Strict vs complete \r\n",
    "* Strict BT has {0,2} children at every node. But it may not be complete (not filled left to right )"
   ],
   "metadata": {}
  },
  {
   "cell_type": "markdown",
   "source": [
    "### Tree Traversals \r\n",
    "\r\n",
    "* Pre order \r\n",
    "* In order \r\n",
    "* Post order \r\n",
    "* Level order\r\n",
    "\r\n",
    "* Easy way to traverse on paper: Traverse the tree and write the nodes as you pin point them \r\n",
    "* * Pre: Keep finger pointing towards left \r\n",
    "* * In : Keep finger pointing up \r\n",
    "* * Post: Keep finger pointing right \r\n",
    "\r\n",
    "* Pre order: \r\n",
    "* * 2n+1 calls are made (we have n nodes, so n calls, we have (n+1) null nodes as well) \r\n",
    "* * Activation records: levels (height = 2, 4 (h+2) activation record only created)"
   ],
   "metadata": {}
  },
  {
   "cell_type": "code",
   "execution_count": 108,
   "source": [
    "\r\n",
    "from collections import deque\r\n",
    "\r\n",
    "class TreeNode:\r\n",
    "\tdef __init__(self, value):\r\n",
    "\t\tself.left = None\r\n",
    "\t\tself.right = None \r\n",
    "\t\tself.value = value\r\n",
    "\r\n",
    "\r\n",
    "\r\n",
    "def create_tree(Q_values):\r\n",
    "    nodes_pending = deque()\r\n",
    "    i = 0\r\n",
    "    temp = TreeNode(Q_values[i])\r\n",
    "    root = temp\r\n",
    "    nodes_pending.append(temp)\r\n",
    "    i += 1\r\n",
    "\r\n",
    "    while(len(nodes_pending) != 0):\r\n",
    "        temp = nodes_pending.popleft()\r\n",
    "        if Q_values[i] != -1:\r\n",
    "            left = TreeNode(Q_values[i])\r\n",
    "            nodes_pending.append(left)\r\n",
    "            temp.left = left\r\n",
    "        i += 1\r\n",
    "        if Q_values[i] != -1:\r\n",
    "            right = TreeNode(Q_values[i])\r\n",
    "            nodes_pending.append(right)\r\n",
    "            temp.right = right\r\n",
    "        i += 1  # if kept inside if statement we will be stuck at same place if val is -1\r\n",
    "    return root \r\n"
   ],
   "outputs": [],
   "metadata": {}
  },
  {
   "cell_type": "code",
   "execution_count": null,
   "source": [
    "def preorder_traversal(node):\r\n",
    "    if node != None:\r\n",
    "        print(node.value)\r\n",
    "        preorder_traversal(node.left)\r\n",
    "        preorder_traversal(node.right)\r\n",
    "\r\n",
    "def inorder_traversal(node):\r\n",
    "    if node != None:\r\n",
    "        inorder_traversal(node.left)\r\n",
    "        print(node.value)\r\n",
    "        inorder_traversal(node.right)\r\n",
    "\r\n",
    "def postorder_traversal(node):\r\n",
    "    if node != None:\r\n",
    "        postorder_traversal(node.left)\r\n",
    "        postorder_traversal(node.right)\r\n",
    "        print(node.value)"
   ],
   "outputs": [],
   "metadata": {}
  },
  {
   "cell_type": "code",
   "execution_count": null,
   "source": [
    "Q_values = [1, 2, -1, 3, 4, 5, -1, -1, -1, -1, -1]\r\n",
    "root = create_tree(Q_values)"
   ],
   "outputs": [],
   "metadata": {}
  },
  {
   "cell_type": "code",
   "execution_count": null,
   "source": [
    "Q_values = [8, 3, 5, 4, 9, 7, 2, -1, -1, -1, -1, -1, -1, -1, -1]\r\n",
    "root = create_tree(Q_values)"
   ],
   "outputs": [],
   "metadata": {}
  },
  {
   "cell_type": "code",
   "execution_count": null,
   "source": [
    "preorder_traversal(root)"
   ],
   "outputs": [],
   "metadata": {}
  },
  {
   "cell_type": "code",
   "execution_count": null,
   "source": [
    "inorder_traversal(root)"
   ],
   "outputs": [],
   "metadata": {}
  },
  {
   "cell_type": "code",
   "execution_count": null,
   "source": [
    "postorder_traversal(root)"
   ],
   "outputs": [],
   "metadata": {}
  },
  {
   "cell_type": "code",
   "execution_count": null,
   "source": [
    "####### iterative traversals #########################################\r\n",
    "def iterative_preorder(root):\r\n",
    "    pending = []\r\n",
    "    seen = 0\r\n",
    "\r\n",
    "    temp = root \r\n",
    "    print(temp.value)\r\n",
    "    pending.append(temp)\r\n",
    "\r\n",
    "\r\n",
    "    while len(pending ) != 0:\t\r\n",
    "        if (seen == 0) and (temp.left != None):\r\n",
    "            temp = temp.left\r\n",
    "            print(temp.value)\r\n",
    "            pending.append(temp)\r\n",
    "        else: \r\n",
    "            temp = pending.pop()\r\n",
    "            if temp.right != None:\r\n",
    "                temp = temp.right\r\n",
    "                print(temp.value)\r\n",
    "                pending.append(temp)\r\n",
    "                seen = 0\r\n",
    "            else: \r\n",
    "                seen = 1\r\n",
    "\r\n",
    "### Bari's concise implementation \r\n",
    "def preorder_tree_iterative(node):\r\n",
    "    pending = []\r\n",
    "    temp = root \r\n",
    "\r\n",
    "    while((temp != None) | (len(pending) != 0)):\r\n",
    "        if temp != None:\r\n",
    "            print(temp.value)\r\n",
    "            pending.append(temp)\r\n",
    "            temp = temp.left    \r\n",
    "        else:\r\n",
    "            temp = pending.pop()\r\n",
    "            # if temp.right != None: This line takes this into infinite loop. So beware\r\n",
    "            temp = temp.right\r\n",
    "\r\n",
    "\r\n",
    "############ we need to use stack, else impossible #####################"
   ],
   "outputs": [],
   "metadata": {}
  },
  {
   "cell_type": "code",
   "execution_count": null,
   "source": [
    "iterative_preorder(root)"
   ],
   "outputs": [],
   "metadata": {}
  },
  {
   "cell_type": "code",
   "execution_count": null,
   "source": [
    "#################### iterative level order ###############################################\r\n",
    "from collections import deque\r\n",
    " \r\n",
    "pending = deque()\r\n",
    "\r\n",
    "temp = root \r\n",
    "pending.append(temp)\r\n",
    "\r\n",
    "while len(pending ) != 0:\t\r\n",
    "\ttemp = pending.popleft()\r\n",
    "\tprint(temp.value)\r\n",
    "\tif temp.left != None:\r\n",
    "\t\tpending.append(temp.left)\r\n",
    "\tif temp.right != None:\r\n",
    "\t\tpending.append(temp.right)\r\n"
   ],
   "outputs": [],
   "metadata": {}
  },
  {
   "cell_type": "code",
   "execution_count": 102,
   "source": [
    "#################### find symmetric tree: with Array representation of tree ##################################################################\r\n",
    "# https://leetcode.com/problems/symmetric-tree/ \r\n",
    "\r\n",
    "#         Ques:\r\n",
    "#             * Hows tree represented? linked vs array? \r\n",
    "#             * mirror wrt only values or also structure?\r\n",
    "#             * root be empty? Tree with just root node? That's symmetric?\r\n",
    "\r\n",
    "\r\n",
    "# Option 1: Recursive \r\n",
    "def preorder_left(node, vals= []):\r\n",
    "\tif node != None: \r\n",
    "\t\tvals.append(node.value)\r\n",
    "\t\tvals= preorder_left(node.left, vals)\r\n",
    "\t\tvals = preorder_left(node.right, vals)\r\n",
    "\telse: \r\n",
    "\t\tvals.append(-1)\r\n",
    "\treturn vals\r\n",
    "\r\n",
    "def preorder_right(node, vals = []):\r\n",
    "\tif node != None: \r\n",
    "\t\tvals.append(node.value)\r\n",
    "\t\tvals = preorder_right(node.right, vals)\r\n",
    "\t\tvals= preorder_right(node.left, vals)\r\n",
    "\telse: \r\n",
    "\t\tvals.append(-1)\r\n",
    "\treturn vals\r\n",
    "\r\n",
    "def check_mirror(root):\r\n",
    "\tout = True\r\n",
    "\tif root != None: \r\n",
    "\t\tleft_vals = preorder_left(root.left, [])\r\n",
    "\t\tright_vals = preorder_right(root.right, []) \r\n",
    "\t\tprint(left_vals)\r\n",
    "\t\tprint(right_vals)\r\n",
    "\t\tif left_vals != right_vals: \r\n",
    "\t\t\tout = False\r\n",
    "\treturn out\r\n",
    "\r\n",
    "# Option 2: Iterative \r\n",
    "def preorder_left_iterative(root):\r\n",
    "\tS = []\r\n",
    "\tvals = []\r\n",
    "\tnode = root\r\n",
    "\twhile ((node != None) | (len(S) != 0)):\r\n",
    "\t\tif node != None:\r\n",
    "\t\t\tS.append(node)\r\n",
    "\t\t\tvals.append(node.value)\r\n",
    "\t\t\tnode = node.left\r\n",
    "\t\telse: \r\n",
    "\t\t\tnode = S.pop()\r\n",
    "\t\t\tnode = node.right\r\n",
    "\r\n",
    "\treturn vals\r\n",
    "\r\n",
    "def preorder_right_iterative(root):\r\n",
    "\tS = []\r\n",
    "\tvals = []\r\n",
    "\tnode = root\r\n",
    "\twhile ((node != None) | (len(S) != 0)):\r\n",
    "\t\tif node != None:\r\n",
    "\t\t\tS.append(node)\r\n",
    "\t\t\tvals.append(node.value)\r\n",
    "\t\t\tnode = node.right\r\n",
    "\t\telse: \r\n",
    "\t\t\tnode = S.pop()\r\n",
    "\t\t\tnode = node.left\r\n",
    "\r\n",
    "\treturn vals\t\t\r\n",
    "\r\n",
    "def check_mirror_iterative(root):\r\n",
    "\tout = True\r\n",
    "\tif root != None: \r\n",
    "\t\tleft_vals = preorder_left_iterative(root.left)\r\n",
    "\t\tright_vals = preorder_right_iterative(root.right) \r\n",
    "\t\tif left_vals != right_vals: \r\n",
    "\t\t\tout = False\r\n",
    "\treturn out\r\n",
    "\r\n",
    "# Option 3: In case we have array rep rather than linked \r\n",
    "def symmetric_tree_fom_array(root):\r\n",
    "        ''' Accepts array representation of tree'''\r\n",
    "        out = True\r\n",
    "        left = 1\r\n",
    "        right = 2*left\r\n",
    "        \r\n",
    "        while(left<len(root)):\r\n",
    "            for j in range((right-left)//2):\r\n",
    "                if root[left+j-1] != root[right-1-j-1]:\r\n",
    "                    out = False \r\n",
    "                    break  \r\n",
    "            left = 2*left\r\n",
    "            right = 2*left\r\n",
    "            \r\n",
    "        return out\r\n",
    "\r\n",
    "### LC: Comapres each node rather than creating a list of all nodes and checking at the end like mine \r\n",
    "### TODO: Understand this \r\n",
    "\r\n",
    "class Solution:\r\n",
    "  def isSymmetric(self, root):\r\n",
    "    if root is None:\r\n",
    "      return True\r\n",
    "    else:\r\n",
    "      return self.isMirror(root.left, root.right)\r\n",
    "\r\n",
    "  def isMirror(self, left, right):\r\n",
    "    if left is None and right is None:\r\n",
    "      return True\r\n",
    "    if left is None or right is None:\r\n",
    "      return False\r\n",
    "\r\n",
    "    if left.val == right.val:\r\n",
    "      outPair = self.isMirror(left.left, right.right)\r\n",
    "      inPiar = self.isMirror(left.right, right.left)\r\n",
    "      return outPair and inPiar\r\n",
    "    else:\r\n",
    "      return False"
   ],
   "outputs": [],
   "metadata": {}
  },
  {
   "cell_type": "code",
   "execution_count": 103,
   "source": [
    "values = [1, 2, 3, 4, 5, -1, -1, -1, -1, -1, -1]\r\n",
    "# values = [1, 2, 2, -1, -1, -1, -1]\r\n",
    "root = create_tree(values)\r\n",
    "# check_mirror(root)\r\n",
    "check_mirror_iterative(root)"
   ],
   "outputs": [
    {
     "output_type": "stream",
     "name": "stdout",
     "text": [
      "2\n",
      "3\n",
      "4\n",
      "5\n",
      "[2, 4, 5]\n",
      "[3]\n"
     ]
    },
    {
     "output_type": "execute_result",
     "data": {
      "text/plain": [
       "False"
      ]
     },
     "metadata": {},
     "execution_count": 103
    }
   ],
   "metadata": {}
  },
  {
   "cell_type": "code",
   "execution_count": 104,
   "source": [
    "values = [1, 2, 2, 4, -1, -1, 4, -1, -1, -1, -1]\r\n",
    "root = create_tree(values)\r\n",
    "# check_mirror(root)\r\n",
    "check_mirror_iterative(root)"
   ],
   "outputs": [
    {
     "output_type": "stream",
     "name": "stdout",
     "text": [
      "2\n",
      "2\n",
      "4\n",
      "4\n",
      "[2, 4]\n",
      "[2, 4]\n"
     ]
    },
    {
     "output_type": "execute_result",
     "data": {
      "text/plain": [
       "True"
      ]
     },
     "metadata": {},
     "execution_count": 104
    }
   ],
   "metadata": {}
  },
  {
   "cell_type": "code",
   "execution_count": 114,
   "source": [
    "######## Find number of leaves ########\r\n",
    "\r\n",
    "# Option 1: Recursive\r\n",
    "def count_leaves(node, leaf_count = 0):\r\n",
    "\tif (node.left == None) and (node.right == None):\r\n",
    "\t\tleaf_count += 1\r\n",
    "\telse: \r\n",
    "\t\tif (node.left != None):\r\n",
    "\t\t    leaf_count = count_leaves(node.left, leaf_count)\r\n",
    "\t\tif (node.right != None):\r\n",
    "\t\t\tleaf_count = count_leaves(node.right, leaf_count)\r\n",
    "\treturn leaf_count\r\n",
    "\r\n",
    "# Option 2: Iterative\r\n",
    "def count_leaves_iterative(root):\r\n",
    "\tleaf_count  = 0\r\n",
    "\tQ = deque()\r\n",
    "\tQ.append(root)\r\n",
    "\r\n",
    "\twhile Q:\r\n",
    "\t\ttemp = Q.pop()\r\n",
    "\t\tif (temp.right == None) and (temp.left == None):\r\n",
    "\t\t\tleaf_count += 1\r\n",
    "\t\telse:\r\n",
    "\t\t\tif (temp.left != None):\r\n",
    "\t\t\t\tQ.append(temp.left)\r\n",
    "\t\t\tif (temp.right != None):\r\n",
    "\t\t\t\tQ.append(temp.right)\r\n",
    "\treturn leaf_count\r\n",
    "\r\n",
    "\r\n",
    "'''level order traversal, increase count if any node doesnt have both left and right child'''\r\n"
   ],
   "outputs": [
    {
     "output_type": "execute_result",
     "data": {
      "text/plain": [
       "'level order traversal, increase count if any node doesnt have both left and right child'"
      ]
     },
     "metadata": {},
     "execution_count": 114
    }
   ],
   "metadata": {}
  },
  {
   "cell_type": "code",
   "execution_count": 115,
   "source": [
    "# values = [1, 2, 2, 4, -1, -1, 4, -1, -1, -1, -1]\r\n",
    "values = [1, 2, 3, 4, 5, -1, -1, -1, -1, -1, -1]\r\n",
    "root = create_tree(values)\r\n",
    "# count_leaves(root)\r\n",
    "count_leaves_iterative(root)"
   ],
   "outputs": [
    {
     "output_type": "execute_result",
     "data": {
      "text/plain": [
       "3"
      ]
     },
     "metadata": {},
     "execution_count": 115
    }
   ],
   "metadata": {}
  },
  {
   "cell_type": "code",
   "execution_count": 127,
   "source": [
    "### LC: Count value of left leaves #########\r\n",
    "##https://leetcode.com/problems/sum-of-left-leaves/\r\n",
    "\r\n",
    "class Solution:\r\n",
    "    def __init__(self):\r\n",
    "        self.leaf_count = 0\r\n",
    "\r\n",
    "    def count_left_leaves(self, node, is_left):\r\n",
    "        if (not node.left) and (not node.right) and is_left:\r\n",
    "            self.leaf_count += node.value  \r\n",
    "        if node.left:\r\n",
    "            self.count_left_leaves(node.left, True)\r\n",
    "        if node.right:\r\n",
    "            self.count_left_leaves(node.right, False)\r\n",
    "    \r\n",
    "    def return_count(self, root):\r\n",
    "        if not root:\r\n",
    "            return 0 \r\n",
    "        else:\r\n",
    "            self.count_left_leaves(root, False)\r\n",
    "            return self.leaf_count\r\n",
    "'''with class, the solution looks so much cleaner'''"
   ],
   "outputs": [],
   "metadata": {}
  },
  {
   "cell_type": "code",
   "execution_count": 129,
   "source": [
    "values = [1, 2, 2, 10, -1, -1, 4, -1, -1, -1, -1]\r\n",
    "# values = [1, 2, 3, 4, 5, -1, -1, -1, -1, -1, -1]\r\n",
    "root = create_tree(values)\r\n",
    "sol = Solution()\r\n",
    "sol.return_count(root)"
   ],
   "outputs": [
    {
     "output_type": "execute_result",
     "data": {
      "text/plain": [
       "10"
      ]
     },
     "metadata": {},
     "execution_count": 129
    }
   ],
   "metadata": {}
  },
  {
   "cell_type": "code",
   "execution_count": null,
   "source": [
    "##### LC: Maximum Depth ######## \r\n",
    "class Solution:\r\n",
    "    def max_depth(self, root):\r\n",
    "        if \r\n",
    "        self.max_depth(root.left)\r\n",
    "        self.max_depth(root.right)\r\n",
    "\r\n",
    "\r\n",
    "    def return_max_depth(self, root):\r\n",
    "        if not root:\r\n",
    "            return 0\r\n",
    "        else:\r\n",
    "            self.max_depth(root)"
   ],
   "outputs": [],
   "metadata": {}
  }
 ],
 "metadata": {
  "orig_nbformat": 4,
  "language_info": {
   "name": "python",
   "version": "3.6.12",
   "mimetype": "text/x-python",
   "codemirror_mode": {
    "name": "ipython",
    "version": 3
   },
   "pygments_lexer": "ipython3",
   "nbconvert_exporter": "python",
   "file_extension": ".py"
  },
  "kernelspec": {
   "name": "python3",
   "display_name": "Python 3.6.12 64-bit (conda)"
  },
  "interpreter": {
   "hash": "6a33784d2e02aee83e49ac6533fd5586adcd80ae4d6db07a7c73263e9bf81256"
  }
 },
 "nbformat": 4,
 "nbformat_minor": 2
}