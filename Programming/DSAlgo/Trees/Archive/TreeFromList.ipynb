{
 "cells": [
  {
   "cell_type": "code",
   "execution_count": 1,
   "source": [
    "def BinaryTree(r):\r\n",
    "   return [r,[],[]]\r\n",
    "    "
   ],
   "outputs": [],
   "metadata": {}
  },
  {
   "cell_type": "code",
   "execution_count": 4,
   "source": [
    "def insertLeft(root, newBranch):\r\n",
    "\r\n",
    "    t = root.pop(1)\r\n",
    "\r\n",
    "    if len(t)>1:\r\n",
    "        root.insert(1, [newBranch, t, []]) # we make newbranch as root node?? \r\n",
    "    else: \r\n",
    "        root.insert(1, [newBranch, [], []])\r\n",
    "    \r\n",
    "    return root"
   ],
   "outputs": [],
   "metadata": {}
  },
  {
   "cell_type": "code",
   "execution_count": 5,
   "source": [
    "def insertRight(root, newBranch):\r\n",
    "\r\n",
    "    t = root.pop(2)\r\n",
    "\r\n",
    "    if len(t)>1:\r\n",
    "        root.insert(2, [newBranch, [], t]) # we make newbranch as root node?? \r\n",
    "    else: \r\n",
    "        root.insert(2, [newBranch, [], []])\r\n",
    "\r\n",
    "    return root"
   ],
   "outputs": [],
   "metadata": {}
  },
  {
   "cell_type": "code",
   "execution_count": 7,
   "source": [
    "def getRootVal(root):\r\n",
    "    return root[0]\r\n",
    "\r\n",
    "def setRootVal(root, newVal):\r\n",
    "    root[0] = newVal\r\n",
    "\r\n",
    "def getLeftChild(root):\r\n",
    "    return root[1]\r\n",
    "\r\n",
    "def getRighttChild(root):\r\n",
    "    return root[2]"
   ],
   "outputs": [],
   "metadata": {}
  },
  {
   "cell_type": "code",
   "execution_count": 8,
   "source": [
    "r = BinaryTree(3)\r\n",
    "\r\n",
    "insertLeft(r, 4)"
   ],
   "outputs": [
    {
     "output_type": "execute_result",
     "data": {
      "text/plain": [
       "[3, [4, [], []], []]"
      ]
     },
     "metadata": {},
     "execution_count": 8
    }
   ],
   "metadata": {}
  },
  {
   "cell_type": "code",
   "execution_count": 10,
   "source": [
    "insertLeft(r, 5)"
   ],
   "outputs": [
    {
     "output_type": "execute_result",
     "data": {
      "text/plain": [
       "[3, [5, [5, [4, [], []], []], []], []]"
      ]
     },
     "metadata": {},
     "execution_count": 10
    }
   ],
   "metadata": {}
  },
  {
   "cell_type": "code",
   "execution_count": 13,
   "source": [
    "insertRight(r, 6)"
   ],
   "outputs": [
    {
     "output_type": "execute_result",
     "data": {
      "text/plain": [
       "[3, [5, [5, [4, [], []], []], []], [6, [], [5, [], []]]]"
      ]
     },
     "metadata": {},
     "execution_count": 13
    }
   ],
   "metadata": {}
  },
  {
   "cell_type": "code",
   "execution_count": null,
   "source": [],
   "outputs": [],
   "metadata": {}
  }
 ],
 "metadata": {
  "orig_nbformat": 4,
  "language_info": {
   "name": "python",
   "version": "3.6.12",
   "mimetype": "text/x-python",
   "codemirror_mode": {
    "name": "ipython",
    "version": 3
   },
   "pygments_lexer": "ipython3",
   "nbconvert_exporter": "python",
   "file_extension": ".py"
  },
  "kernelspec": {
   "name": "python3",
   "display_name": "Python 3.6.12 64-bit (conda)"
  },
  "interpreter": {
   "hash": "6a33784d2e02aee83e49ac6533fd5586adcd80ae4d6db07a7c73263e9bf81256"
  }
 },
 "nbformat": 4,
 "nbformat_minor": 2
}