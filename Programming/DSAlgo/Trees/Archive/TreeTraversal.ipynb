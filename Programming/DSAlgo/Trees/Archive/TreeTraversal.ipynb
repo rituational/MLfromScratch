{
 "cells": [
  {
   "cell_type": "markdown",
   "metadata": {},
   "source": [
    "* Preorder: Read book front to back \n",
    "* Inorder: First traverse left, then root node and then right \n",
    "* Postorder: First traverse left, then right and then root node"
   ]
  },
  {
   "cell_type": "code",
   "execution_count": null,
   "metadata": {},
   "outputs": [],
   "source": [
    "def preorder(tree):\n",
    "    if tree !=None: \n",
    "        print(tree.getRootVal())\n",
    "        preorder(tree.getLeftChild())\n",
    "        preorder(tree.getRightChild())\n",
    "\n",
    "\n",
    "def inorder(tree):\n",
    "    if tree !=None: \n",
    "        inorder(tree.getLeftChild())\n",
    "        print(tree.getRootVal())\n",
    "        inorder(tree.getRightChild())\n",
    "\n",
    "\n",
    "def postorder(tree):\n",
    "    if tree !=None: \n",
    "        postorder(tree.getLeftChild())\n",
    "        postorder(tree.getRightChild())\n",
    "        print(tree.getRootVal())"
   ]
  },
  {
   "cell_type": "markdown",
   "metadata": {},
   "source": [
    "### Creating Tree from traversals \n",
    "We need two traversals to make a distinct tree. Inorder is mandatory, other can be pre or post \n",
    "* Pre + In order: \n",
    "* * Pre gives the root as the first element \n",
    "* * Take all elements in inorder as one node.\n",
    "* * Iterate through preorder \n",
    "* *  Split the inorder nodes at the the ith element in preorder. Everything on left to this element becomes left child vice versa. \n",
    "* * Keep repeating until left with only leaf nodes. \n",
    "* * While searching first search left inorder node then right (as we do in traversal)  \n",
    "![](helper/1.JPG)\n",
    "![](helper/2.JPG)\n",
    "![](helper/3.JPG)\n",
    "![](helper/4.JPG)\n",
    "![](helper/5.JPG)"
   ]
  }
 ],
 "metadata": {
  "language_info": {
   "name": "python"
  },
  "orig_nbformat": 4
 },
 "nbformat": 4,
 "nbformat_minor": 2
}
