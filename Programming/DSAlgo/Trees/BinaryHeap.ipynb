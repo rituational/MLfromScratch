{
 "cells": [
  {
   "cell_type": "markdown",
   "source": [
    "Priority Queue\r\n",
    "* helps dequeue in O(logn)\r\n",
    "* min heap: smallest heap at the front \r\n",
    "* max heap: largest heap at the front\r\n",
    "\r\n",
    "* At every level of the tree, we insert child nodes from left to right.\r\n",
    "* * eg. Below we first fill 25, then 16, 24, then 5, 11, 19, 1 \r\n",
    "It's stored as an array in the same order:\r\n",
    "* * parent = i//2 \r\n",
    "* * leftchild = 2i\r\n",
    "* * rightchild = 2i+1\r\n",
    "\r\n",
    "![](./../helper/1.JPG)"
   ],
   "metadata": {}
  },
  {
   "cell_type": "code",
   "execution_count": null,
   "source": [
    "class BinaryHeap(object):\r\n",
    "\r\n",
    "    def __init__(self):\r\n",
    "        self.heapList = []\r\n",
    "        self.currentSize = 0\r\n",
    "    \r\n",
    "    def percUp(self, i):\r\n",
    "        \r\n",
    "        while i//2 >0:\r\n",
    "            if self.heapList[i//2] > self.heapList[i]:\r\n",
    "                temp = self.heapList[i//2]\r\n",
    "                self.heapList[i//2] = self.heapList[i]\r\n",
    "                self.heapList[i] = temp\r\n",
    "            i = i//2\r\n",
    "\r\n",
    "    def insert(self, k):\r\n",
    "        self.heapList.append(k)\r\n",
    "        self.currentSize +=1\r\n",
    "\r\n",
    "    def delMin(self):\r\n",
    "        retain = self.heapList[1]\r\n",
    "        self.heapList[1] = self.heapList[self.currentsize]\r\n",
    "        self.currentSize -= 1\r\n",
    "        self.heapList.pop()\r\n",
    "        self.percDown()\r\n",
    "\r\n",
    "    def minChild(self, i):\r\n",
    "        ## while going down, we nee dto find the min of the two children. And we then traverse that subtree. \r\n",
    "        ## This is important piece\r\n",
    "        \r\n",
    "        if 2*i+1 > self.currentSize: \r\n",
    "            return 2*i\r\n",
    "        \r\n",
    "        else:\r\n",
    "            if self.heapList[2*i] > self.heapList[2*i+1]:\r\n",
    "                return 2*i\r\n",
    "            else: \r\n",
    "                return 2*i + 1\r\n",
    "\r\n",
    "\r\n",
    "    def percDown(self):\r\n",
    "\r\n",
    "        while i <= self.currentSize//2:\r\n",
    "            mc = self.minChild(self, i)\r\n",
    "            self.heapList[i] > self.heapList[mc]:\r\n",
    "                temp = self.heapList[mc]\r\n",
    "                self.heapList[mc] = self.heapList[i]\r\n",
    "                self.heapList[i] = temp\r\n",
    "            i = mc\r\n",
    "\r\n",
    "\r\n",
    "    def buildfromList(self, listt):\r\n",
    "\r\n",
    "        i = len(listt)//2 \r\n",
    "        self.currentSize = len(listt)\r\n",
    "         \r\n",
    "        self.heapList = [0] + listt[:] # so the first element is \r\n",
    "        while i >0: \r\n",
    "            self.percDown(i) # starting bottom, ???\r\n",
    "            i = i-1\r\n",
    "    \r\n",
    "\r\n"
   ],
   "outputs": [],
   "metadata": {}
  },
  {
   "cell_type": "code",
   "execution_count": null,
   "source": [],
   "outputs": [],
   "metadata": {}
  },
  {
   "cell_type": "markdown",
   "source": [
    "# Creation \r\n",
    "\r\n",
    "* We need a balanced tree. Equal number of nodes on each side of the tree. \r\n",
    "* We prefer to have leaf on left if odd number of nodes "
   ],
   "metadata": {}
  }
 ],
 "metadata": {
  "orig_nbformat": 4,
  "language_info": {
   "name": "python",
   "version": "3.6.12",
   "mimetype": "text/x-python",
   "codemirror_mode": {
    "name": "ipython",
    "version": 3
   },
   "pygments_lexer": "ipython3",
   "nbconvert_exporter": "python",
   "file_extension": ".py"
  },
  "kernelspec": {
   "name": "python3",
   "display_name": "Python 3.6.12 64-bit (conda)"
  },
  "interpreter": {
   "hash": "6a33784d2e02aee83e49ac6533fd5586adcd80ae4d6db07a7c73263e9bf81256"
  }
 },
 "nbformat": 4,
 "nbformat_minor": 2
}