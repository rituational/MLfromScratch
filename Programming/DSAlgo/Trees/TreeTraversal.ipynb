{
 "cells": [
  {
   "cell_type": "markdown",
   "source": [
    "* Preorder: Read book front to back \r\n",
    "* Inorder: First traverse left, then root node and then right \r\n",
    "* Postorder: First traverse left, then right and then root node"
   ],
   "metadata": {}
  },
  {
   "cell_type": "code",
   "execution_count": null,
   "source": [
    "def preorder(tree):\r\n",
    "    if tree !=None: \r\n",
    "        print(tree.getRootVal())\r\n",
    "        preorder(tree.getLeftChild())\r\n",
    "        preorder(tree.getRightChild())\r\n",
    "\r\n",
    "\r\n",
    "def inorder(tree):\r\n",
    "    if tree !=None: \r\n",
    "        inorder(tree.getLeftChild())\r\n",
    "        print(tree.getRootVal())\r\n",
    "        inorder(tree.getRightChild())\r\n",
    "\r\n",
    "\r\n",
    "def postorder(tree):\r\n",
    "    if tree !=None: \r\n",
    "        postorder(tree.getLeftChild())\r\n",
    "        postorder(tree.getRightChild())\r\n",
    "        print(tree.getRootVal())"
   ],
   "outputs": [],
   "metadata": {}
  }
 ],
 "metadata": {
  "orig_nbformat": 4,
  "language_info": {
   "name": "python"
  }
 },
 "nbformat": 4,
 "nbformat_minor": 2
}