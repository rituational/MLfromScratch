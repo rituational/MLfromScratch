{
 "cells": [
  {
   "cell_type": "markdown",
   "source": [
    "## Binary search \r\n",
    "'''\r\n",
    "Tips: \r\n",
    "* Indexing is super important. Dont mug up, simulate and find on the spot!!!\r\n",
    "* Start with array size 1, 2, 3 : Write the supposed logic. Build code to support same \r\n",
    "* while(start<stop) vs while(start<=stop) etc resolved by doing a dry run  \r\n",
    "* If looking for intersection point, avoid comparing mid with [mid-1]\r\n",
    "* index-1: Do look out for edge case when you are to the leftmost \r\n",
    "* Complicated if else avoided, if you compare mid with start and stop rather than mid-1, mid+1\r\n",
    "'''"
   ],
   "metadata": {}
  },
  {
   "cell_type": "markdown",
   "source": [
    "## Silly typos/mistakes\r\n",
    "* Dont forget self.__ in classes. :|"
   ],
   "metadata": {}
  },
  {
   "cell_type": "markdown",
   "source": [],
   "metadata": {}
  }
 ],
 "metadata": {
  "orig_nbformat": 4,
  "language_info": {
   "name": "python"
  }
 },
 "nbformat": 4,
 "nbformat_minor": 2
}