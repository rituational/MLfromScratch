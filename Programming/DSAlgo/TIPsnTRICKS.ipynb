{
 "cells": [
  {
   "cell_type": "markdown",
   "metadata": {},
   "source": [
    "## Binary search \n",
    "'''\n",
    "Tips: \n",
    "* Indexing is super important. Dont mug up, simulate and find on the spot!!!\n",
    "* Start with array size 1, 2, 3 : Write the supposed logic. Build code to support same \n",
    "* while(start<stop) vs while(start<=stop) etc resolved by doing a dry run  \n",
    "* If looking for intersection point, avoid comparing mid with [mid-1]\n",
    "* index-1: Do look out for edge case when you are to the leftmost \n",
    "* Complicated if else avoided, if you compare mid with start and stop rather than mid-1, mid+1\n",
    "'''"
   ]
  },
  {
   "cell_type": "markdown",
   "metadata": {},
   "source": [
    "## Silly typos/mistakes\n",
    "* Dont forget self.__ in classes. :|"
   ]
  },
  {
   "cell_type": "markdown",
   "metadata": {},
   "source": [
    "## OOP \n",
    "\n",
    "When in need of static variables (mostly in recursion), rather than using default fn arguements better make a class and use a class attribute, recursion being one of the methods \n",
    "\n",
    "#### Taylor Series recursion (so obtuse in python without static variable)\n",
    "\n",
    "def taylor_recursion(x, n, num=1, den=1):\n",
    "    if (n==0):\n",
    "        return 1, 1, 1\n",
    "    else:\n",
    "        r, num, den = taylor_recursion(x, n-1, num, den)\n",
    "        num *= x\n",
    "        den *= n \n",
    "        return r + num/den, num, den\n",
    "\n",
    "output, _, _ = taylor_recursion(2,100)\n",
    "print(output)\n",
    "\n",
    "#### OOP to the rescue \n",
    "class TaylorSeries:\n",
    "\tdef __init__(self):\n",
    "\t\tself.num = 1 \n",
    "\t\tself.den = 1\n",
    "\t\t\n",
    "\tdef recur_e(self, x, n):\n",
    "\t\tif n == 0:\n",
    "\t\t\treturn 1\n",
    "\t\t\n",
    "\t\telse:\n",
    "\t\t\tr = self.recur_e(x, n-1)\n",
    "\t\t\tself.num *= x\n",
    "\t\t\tself.den *= n\n",
    "\t\t\treturn r+ self.num/self.den\n",
    "\n",
    "T = TaylorSeries()\n",
    "print(T.recur_e(2, 100))"
   ]
  },
  {
   "cell_type": "markdown",
   "metadata": {},
   "source": [
    "### Array \n",
    "\n",
    "\n",
    "\n",
    "### Matrix \n",
    "* 2D matrix is stored as 1D contiguous memory block. \n",
    "* * to convert 2D to 1D: r*n + c (n is number of columns, r,c current indices) (confirm once)\n",
    "* * convert 1D to 2D: (1D index)//n, (1D index)%n\n",
    "\n",
    "* Rotate image by 180 degre: reverse in 1D \n",
    "* Rotate 90 degree: transpose (rotate over diagonal) and flip horizontal\n"
   ]
  },
  {
   "cell_type": "markdown",
   "metadata": {},
   "source": [
    "Trees: \n",
    "* Always try using postorder traversal, gives concise implementation. "
   ]
  },
  {
   "cell_type": "markdown",
   "metadata": {},
   "source": [
    "### Linked List \n",
    "* Use slow, fast pointer (moving ahead by one(.next), moving at twice speed (.next.next), make fast go k ahead)\n",
    "* When there is deletion/ insertion, better to use dummy head. dummy_head.next = head. This ensures we dont need special if conditions when head is deleted/ inserted"
   ]
  },
  {
   "cell_type": "markdown",
   "metadata": {},
   "source": [
    "### Dynamic Programming \n",
    "* Used when we need to optimize (min/ max)\n",
    "* Try all possible combinations, tabulate and reuse where possible. \n",
    "* Take series of decisions based on that \n",
    "\n",
    "### Greedy Method: \n",
    "* Decide a method which is optimal and use it at every step."
   ]
  },
  {
   "cell_type": "markdown",
   "metadata": {},
   "source": [
    "### Divide And Conquer \n",
    "* Recursively divide array into left and right until it is trivial size one. \n",
    "* Have a way to merge the left and right."
   ]
  },
  {
   "cell_type": "markdown",
   "metadata": {},
   "source": [
    "### Graph \n",
    "* In BFS **MARK VISITED AS YOU PUSH IN QUEUE.** If you push it and mark only while popping out, that same vertex may be traversed multiple times by neighbours and can cause lot of delay!!!!!! \n",
    "* DAG: Min nodes to traverse graph fully: all nodes with zero in degree\n",
    "* A* search: BFS with brain: Find shortest path based on distance traversed + calculated guess of distance remaining. Works well for maps, games with occlusion etc\n",
    "* Disjoint set: find and union: To detect cycle in a graph (ref: Bari's lecture)"
   ]
  },
  {
   "cell_type": "markdown",
   "metadata": {},
   "source": [
    "### Approach\n",
    "* If asked different possible ways: \n",
    "* * combinations to know the number\n",
    "* * Backtracking (with bounding fn) to find valid options \n",
    "* * Branch and bound? \n",
    "* If asked min/ max\n",
    "* * DP \n"
   ]
  },
  {
   "cell_type": "markdown",
   "metadata": {},
   "source": [
    "## Appendix  \n",
    "* Boyer-Moore Voting Algorithm: To find majority element, sweep through the array, let first index be majority. If we find an instance of majority count++ else count --. If count = 0, make curr value as majoirty. Since we have >n/2 elements same, we cant cancel all of them\n",
    "* Concise code to generate subsets\n",
    "output = [[]]      \n",
    "for num in nums:\n",
    "    output += [curr +[num] for curr in output]\n",
    "\n",
    "* To convert list/string to dict: \n",
    "def string2dict(self, p):\n",
    "        # create hash map of counts\n",
    "        p_dict = {}\n",
    "        for char in p:\n",
    "            if p_dict.has_key(char):\n",
    "                p_dict[char] += 1\n",
    "            else:\n",
    "                p_dict[char] = 1\n",
    "        return p_dict"
   ]
  },
  {
   "cell_type": "markdown",
   "metadata": {},
   "source": [
    "### Sliding Window Template \n",
    "\n",
    "* start = end\n",
    "* If condition matches, move end ahead until end - start = window size required.\n",
    "* end - start = window, we have one of the answers\n",
    "* Move both start and end, if start == end \n",
    "* Get the start pointer to end, restore things if need be in the process \n"
   ]
  },
  {
   "cell_type": "code",
   "execution_count": null,
   "metadata": {},
   "outputs": [],
   "source": []
  }
 ],
 "metadata": {
  "interpreter": {
   "hash": "6e2d38c4ff4aa51fd6fa83e35d6b6c90723ba9d9d8b2fe25ada12cbb03bda393"
  },
  "kernelspec": {
   "display_name": "Python 3.6.12 64-bit (conda)",
   "name": "python3"
  },
  "language_info": {
   "codemirror_mode": {
    "name": "ipython",
    "version": 3
   },
   "file_extension": ".py",
   "mimetype": "text/x-python",
   "name": "python",
   "nbconvert_exporter": "python",
   "pygments_lexer": "ipython3",
   "version": "3.6.12"
  },
  "orig_nbformat": 4
 },
 "nbformat": 4,
 "nbformat_minor": 2
}
