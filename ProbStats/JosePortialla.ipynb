{
 "cells": [
  {
   "cell_type": "markdown",
   "source": [
    "* Nominal\r\n",
    "* Ordinal \r\n",
    "* Interval \r\n",
    "* Ratio \r\n",
    "\r\n",
    "## Population vs Sample \r\n",
    "* Population: every member of group\r\n",
    "* Sample: A subset of population \r\n",
    "\r\n",
    "## Measure of Central Tendency \r\n",
    "* location of data\r\n",
    "* fail to describe shape of the data \r\n",
    "\r\n",
    "### mean = calculated average \r\n",
    "* Heavily affected by outliers \r\n",
    "\r\n",
    "\r\n",
    "### median = middle value\r\n",
    "* total number odd: middle value \r\n",
    "* total number even: avg of two middle values \r\n",
    "* Not affected by outliers that much. \r\n",
    "\r\n",
    "\r\n",
    "### mode = most occuring value \r\n",
    "\r\n",
    "\r\n",
    "\r\n",
    "\r\n",
    "## Measure of dispersion\r\n",
    "\r\n",
    "### Range \r\n",
    "max-min\r\n",
    "\r\n",
    "### Variance: \r\n",
    "* * sum of squared distances from each point to the mean. \r\n",
    "* * There is a difference btw sample and population variance.\r\n",
    "* * Bessel's correction: Reduce the bias due to reduced sample size. \r\n",
    "\r\n",
    "$$ sample variance = \\frac{\\sum(x-\\bar{x})^2}{n-1} $$\r\n",
    "$$ population variance = \\frac{\\sum(x-\\mu)^2}{N} $$\r\n",
    "\r\n",
    "\r\n",
    "### Standard Deviation\r\n",
    "* Same unit as data (Variance is squared units)\r\n",
    "\r\n",
    "$$ sample std = \\sqrt(\\frac{\\sum(x-\\bar{x})^2}{n-1}) $$\r\n",
    "$$ population std = \\sqrt(\\frac{\\sum(x-\\mu)^2}{N}) $$\r\n",
    "\r\n",
    "### Quartiles\r\n",
    "* Every data point is considered, not aggregated like var, std.\r\n",
    "* Divide data into half, divide the two halves again: We have four quartiles\r\n",
    "\r\n",
    "* IQR: 3rd quartile - 1st quartile \r\n",
    "\r\n",
    "* Outlier: Anything outside 1.5IQR range  "
   ],
   "metadata": {}
  },
  {
   "cell_type": "markdown",
   "source": [
    "## Bivariate Data \r\n",
    "* Dependent y vs independent x.\r\n",
    "* Scatter plots uncover correlation\r\n",
    "* Can't show causality. \r\n",
    "\r\n",
    "<img src=\"helper/3.JPG\" alt=\"Drawing\" style=\"width: 800px;\"/> \r\n",
    "\r\n",
    "### Covariance \r\n",
    "* How far from each's mean do the data fall\r\n",
    "* But if x is heights, y in weights in kg may not be insightful. We need a means to standardize data. \r\n",
    "\r\n",
    "$$ population covariance = \\frac{\\sqrt(\\sum(x_i-\\bar{x})(y_i-\\bar{y})}{N} $$\r\n",
    "\r\n",
    "<img src=\"helper/4.JPG\" alt=\"Drawing\" style=\"width: 800px;\"/> \r\n",
    "<img src=\"helper/5.JPG\" alt=\"Drawing\" style=\"width: 800px;\"/> "
   ],
   "metadata": {}
  },
  {
   "cell_type": "markdown",
   "source": [
    "## Piersson Correlation Coefficient\r\n",
    "\r\n",
    "* Covariance: No limit to it. Better to have values in some bounds. Units squared.\r\n",
    "* -1 to 1\r\n",
    "\r\n",
    "$$ \\rho_{X,Y} = \\frac{cov(X,Y)}{\\sigma_{x}\\sigma_{y} } $$ \r\n",
    "\r\n",
    "<img src=\"helper/6.JPG\" alt=\"Drawing\" style=\"width: 800px;\"/> "
   ],
   "metadata": {}
  },
  {
   "cell_type": "markdown",
   "source": [
    "# Probability\r\n",
    "* Trial: One toss of head\r\n",
    "* Even if we have 5 heads in a row, the probability for next head remains 0.5 \r\n",
    "* Each trial is independent of all others.\r\n",
    "\r\n",
    "* Experiment: Each trial of event eg. one roll of die\r\n",
    "* Simple event: each mutually exclusive outcome. eg: E1 = 1, E2 =2 etc\r\n",
    "* Sample space: sum of every possible simple event. S = {E1, E2, E3, E4, E5, E6}\r\n",
    "\r\n",
    "## Permutations\r\n",
    "* Arrangement of objects in certain order. \r\n",
    "* * n!\r\n",
    "* * $\\frac{n!}{(n-r)!}\r\n",
    "\r\n",
    "## Combinations \r\n",
    "* nCr = n!/(r!(n-r)!)\r\n",
    "* with r repititions n+r-1Cr = (n+r-1)!/(r!(n-1)!)"
   ],
   "metadata": {}
  },
  {
   "cell_type": "markdown",
   "source": [
    "## Probability\r\n",
    "\r\n",
    "* P(AUB) = P(A) + P(B) - P(A and B)\r\n",
    "* Mutually exclusive events  P(AUB) = P(A) + P(B)\r\n",
    "* P(AandB) = P(A)P(B/A)\r\n",
    "* P(AandBandCandD) = P(A)P(B/A)P(C/AB)P(D/ABC)"
   ],
   "metadata": {}
  },
  {
   "cell_type": "markdown",
   "source": [
    "## Discrete Distribution (Probability mass functions)\r\n",
    "* Distribution describes all probable outcomes of a variable.   \r\n",
    "* Discrete distribution: Sum up to 1 \r\n",
    "* Continuous distribution: area under curve sum equals 1.\r\n",
    "\r\n",
    "### Binomial \r\n",
    "### Bernauli: Success or failure\r\n",
    "* Probability of success per *n number of trials* \r\n",
    "* Probability of success is constant\r\n",
    "* Trails are independent of each other.\r\n",
    "* $$ P(x:n, p) = nCx p^x (1-p)^{n-x} $$\r\n",
    "* If we plot all x, it looks like a normal distribution but discrete (as seen in course visualizations, didnt read anywhere)"
   ],
   "metadata": {}
  },
  {
   "cell_type": "markdown",
   "source": [
    "### Poisson\r\n",
    "* Probability of n success *per unit time/continuous unit* over the course of many units. \r\n",
    "* Theoretical rate of events occuring doesnt change. Prob of success during a small interval is proportional to that interval. i.e. $ \\lambda_{minute}$ = $\\lambda_{hour}/60 $  \r\n",
    "* Event occuring randomly and independently\r\n",
    "* For discrete and rare events \r\n",
    "* Mostly an approximation of underlying reality \r\n",
    "\r\n",
    "$$ P(X=x) = \\frac{\\lambda ^x e^{-\\lambda}}{x!}$$\r\n",
    "\r\n",
    "* If $\\lambda$ increases "
   ],
   "metadata": {}
  },
  {
   "cell_type": "markdown",
   "source": [
    "## PDF \r\n",
    "\r\n",
    "### Normal distribution\r\n",
    "* Probability of a specific outcome is zero. \r\n",
    "* We can only find prob over a range of outcomes\r\n",
    "\r\n",
    "#### Standard Normal Distribtuion\r\n",
    "* $\\sigma = 1 $ , $\\mu = 0$\r\n",
    "* 68% falls between 1 $\\sigma$, 95  between 2 $\\sigma$ , 99 between 3 $\\sigma$\r\n",
    "\r\n",
    "$$      $$\r\n",
    "\r\n",
    "### Z score \r\n",
    "* standardize the data. We can find the percentile for a perticular x. \r\n",
    "* A z table of standard normal probabilities gives the area under normal dstn curve to the left of the score. \r\n"
   ],
   "metadata": {}
  },
  {
   "cell_type": "markdown",
   "source": [
    "## Sampling\r\n",
    "### Selection Bias\r\n",
    "* Undercoverage bias: Only sample hospital during day. So missed night shift\r\n",
    "* Self selection bias: Online survey on sports team. Only those who strongly feel about the team responded. \r\n",
    "* Healthy user bias: Healthy diet study using only gym users\r\n",
    "* Survivorship bias \r\n",
    "\r\n",
    "\r\n",
    "Types of sampling:\r\n",
    "* Random\r\n",
    "* Stratified \r\n",
    "* Cluster \r\n",
    "\r\n",
    "\r\n",
    "## Central Limit Theorem \r\n",
    "As we collect multiple samples the mean will be normally distributed even if the original data didnt follow normal distribution. \r\n",
    "![](helper/7.JPG)\r\n"
   ],
   "metadata": {}
  },
  {
   "cell_type": "markdown",
   "source": [
    "## Standard Error \r\n",
    "* Standard error tells how far the sample mean strays from population mean. \r\n",
    "\r\n",
    "\r\n",
    "TODO read again and make notes of \r\n",
    "significance level\r\n",
    "test of mean\r\n",
    "test of proportions \r\n",
    "\r\n",
    "* Type 1 error: (FP) Rejected null hypothesis whe you shouldnt\r\n",
    "* Type 2 error: Failed to reject when you should have\r\n",
    "\r\n",
    "## Student T\r\n",
    "* One sample\r\n",
    "* Two sample\r\n",
    "* dependent \r\n",
    "Independent\r\n",
    " "
   ],
   "metadata": {}
  }
 ],
 "metadata": {
  "orig_nbformat": 4,
  "language_info": {
   "name": "python",
   "version": "3.6.12",
   "mimetype": "text/x-python",
   "codemirror_mode": {
    "name": "ipython",
    "version": 3
   },
   "pygments_lexer": "ipython3",
   "nbconvert_exporter": "python",
   "file_extension": ".py"
  },
  "kernelspec": {
   "name": "python3",
   "display_name": "Python 3.6.12 64-bit (conda)"
  },
  "interpreter": {
   "hash": "6a33784d2e02aee83e49ac6533fd5586adcd80ae4d6db07a7c73263e9bf81256"
  }
 },
 "nbformat": 4,
 "nbformat_minor": 2
}