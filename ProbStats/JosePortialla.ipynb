{
 "cells": [
  {
   "cell_type": "markdown",
   "metadata": {},
   "source": [
    "* Nominal\n",
    "* Ordinal \n",
    "* Interval \n",
    "* Ratio \n",
    "\n",
    "## Population vs Sample \n",
    "* Population: every member of group\n",
    "* Sample: A subset of population \n",
    "\n",
    "## Measure of Central Tendency \n",
    "* location of data\n",
    "* fail to describe shape of the data \n",
    "\n",
    "### mean = calculated average \n",
    "* Heavily affected by outliers \n",
    "\n",
    "\n",
    "### median = middle value\n",
    "* total number odd: middle value \n",
    "* total number even: avg of two middle values \n",
    "* Not affected by outliers that much. \n",
    "\n",
    "\n",
    "### mode = most occuring value \n",
    "\n",
    "\n",
    "\n",
    "\n",
    "## Measure of dispersion\n",
    "\n",
    "### Range \n",
    "max-min\n",
    "\n",
    "### Variance: \n",
    "* * sum of squared distances from each point to the mean. \n",
    "* * There is a difference btw sample and population variance.\n",
    "* * Bessel's correction: Reduce the bias due to reduced sample size. \n",
    "\n",
    "$$ sample variance = \\frac{\\sum(x-\\bar{x})^2}{n-1} $$\n",
    "$$ population variance = \\frac{\\sum(x-\\mu)^2}{N} $$\n",
    "\n",
    "\n",
    "### Standard Deviation\n",
    "* Same unit as data (Variance is squared units)\n",
    "\n",
    "$$ sample std = \\sqrt(\\frac{\\sum(x-\\bar{x})^2}{n-1}) $$\n",
    "$$ population std = \\sqrt(\\frac{\\sum(x-\\mu)^2}{N}) $$\n",
    "\n",
    "### Quartiles\n",
    "* Every data point is considered, not aggregated like var, std.\n",
    "* Divide data into half, divide the two halves again: We have four quartiles\n",
    "\n",
    "* IQR: 3rd quartile - 1st quartile \n",
    "\n",
    "* Outlier: Anything outside 1.5IQR range  "
   ]
  },
  {
   "cell_type": "markdown",
   "metadata": {},
   "source": [
    "## Bivariate Data \n",
    "* Dependent y vs independent x.\n",
    "* Scatter plots uncover correlation\n",
    "* Can't show causality. \n",
    "\n",
    "<img src=\"helper/3.JPG\" alt=\"Drawing\" style=\"width: 800px;\"/> \n",
    "\n",
    "### Covariance \n",
    "* How far from each's mean do the data fall\n",
    "* But if x is heights, y in weights in kg may not be insightful. We need a means to standardize data. \n",
    "\n",
    "$$ population covariance = \\frac{\\sqrt(\\sum(x_i-\\bar{x})(y_i-\\bar{y})}{N} $$\n",
    "\n",
    "<img src=\"helper/4.JPG\" alt=\"Drawing\" style=\"width: 800px;\"/> \n",
    "<img src=\"helper/5.JPG\" alt=\"Drawing\" style=\"width: 800px;\"/> "
   ]
  },
  {
   "cell_type": "markdown",
   "metadata": {},
   "source": [
    "## Piersson Correlation Coefficient\n",
    "\n",
    "* Covariance: No limit to it. Better to have values in some bounds. Units squared.\n",
    "* -1 to 1\n",
    "\n",
    "$$ \\rho_{X,Y} = \\frac{cov(X,Y)}{\\sigma_{x}\\sigma_{y} } $$ \n",
    "\n",
    "<img src=\"helper/6.JPG\" alt=\"Drawing\" style=\"width: 800px;\"/> "
   ]
  },
  {
   "cell_type": "markdown",
   "metadata": {},
   "source": [
    "# Probability\n",
    "* Trial: One toss of head\n",
    "* Even if we have 5 heads in a row, the probability for next head remains 0.5 \n",
    "* Each trial is independent of all others.\n",
    "\n",
    "* Experiment: Each trial of event eg. one roll of die\n",
    "* Simple event: each mutually exclusive outcome. eg: E1 = 1, E2 =2 etc\n",
    "* Sample space: sum of every possible simple event. S = {E1, E2, E3, E4, E5, E6}\n",
    "\n",
    "## Permutations\n",
    "* Arrangement of objects in certain order. \n",
    "* * n!\n",
    "* * $\\frac{n!}{(n-r)!}\n",
    "\n",
    "## Combinations \n",
    "* nCr = n!/(r!(n-r)!)\n",
    "* with r repititions n+r-1Cr = (n+r-1)!/(r!(n-1)!)"
   ]
  },
  {
   "cell_type": "markdown",
   "metadata": {},
   "source": [
    "## Probability\n",
    "\n",
    "* P(AUB) = P(A) + P(B) - P(A and B)\n",
    "* Mutually exclusive events  P(AUB) = P(A) + P(B)\n",
    "* P(AandB) = P(A)P(B/A)\n",
    "* P(AandBandCandD) = P(A)P(B/A)P(C/AB)P(D/ABC)"
   ]
  },
  {
   "cell_type": "markdown",
   "metadata": {},
   "source": [
    "## Discrete Distribution (Probability mass functions)\n",
    "* Distribution describes all probable outcomes of a variable.   \n",
    "* Discrete distribution: Sum up to 1 \n",
    "* Continuous distribution: area under curve sum equals 1.\n",
    "\n",
    "### Binomial \n",
    "### Bernauli: Success or failure\n",
    "* Probability of success per *n number of trials* \n",
    "* Probability of success is constant\n",
    "* Trails are independent of each other.\n",
    "* $$ P(x:n, p) = nCx p^x (1-p)^{n-x} $$\n",
    "* If we plot all x, it looks like a normal distribution but discrete (as seen in course visualizations, didnt read anywhere)"
   ]
  },
  {
   "cell_type": "markdown",
   "metadata": {},
   "source": [
    "### Poisson\n",
    "* Probability of n success *per unit time/continuous unit* over the course of many units. \n",
    "* Theoretical rate of events occuring doesnt change. Prob of success during a small interval is proportional to that interval. i.e. $ \\lambda_{minute}$ = $\\lambda_{hour}/60 $  \n",
    "* Event occuring randomly and independently\n",
    "* For discrete and rare events \n",
    "* Mostly an approximation of underlying reality \n",
    "\n",
    "$$ P(X=x) = \\frac{\\lambda ^x e^{-\\lambda}}{x!}$$\n",
    "\n",
    "* If $\\lambda$ increases "
   ]
  },
  {
   "cell_type": "markdown",
   "metadata": {},
   "source": [
    "## PDF \n",
    "\n",
    "### Normal distribution\n",
    "* Probability of a specific outcome is zero. \n",
    "* We can only find prob over a range of outcomes\n",
    "\n",
    "#### Standard Normal Distribtuion\n",
    "* $\\sigma = 1 $ , $\\mu = 0$\n",
    "* 68% falls between 1 $\\sigma$, 95  between 2 $\\sigma$ , 99 between 3 $\\sigma$\n",
    "\n",
    "$$      $$\n",
    "\n",
    "### Z score \n",
    "* standardize the data. We can find the percentile for a perticular x. \n",
    "* A z table of standard normal probabilities gives the area under normal dstn curve to the left of the score. \n"
   ]
  },
  {
   "cell_type": "markdown",
   "metadata": {},
   "source": [
    "## Sampling\n",
    "### Selection Bias\n",
    "* Undercoverage bias: Only sample hospital during day. So missed night shift\n",
    "* Self selection bias: Online survey on sports team. Only those who strongly feel about the team responded. \n",
    "* Healthy user bias: Healthy diet study using only gym users\n",
    "* Survivorship bias \n",
    "\n",
    "\n",
    "Types of sampling:\n",
    "* Random\n",
    "* Stratified \n",
    "* Cluster \n",
    "\n",
    "\n",
    "## Central Limit Theorem \n",
    "As we collect multiple samples the mean will be normally distributed even if the original data didnt follow normal distribution. \n",
    "![](helper/7.JPG)\n"
   ]
  },
  {
   "cell_type": "markdown",
   "metadata": {},
   "source": [
    "## Standard Error \n",
    "* Standard error tells how far the sample mean strays from population mean. \n",
    "\n",
    "\n",
    "TODO read again and make notes of \n",
    "significance level\n",
    "test of mean\n",
    "test of proportions \n",
    "\n",
    "* Type 1 error: (FP) Rejected null hypothesis whe you shouldnt\n",
    "* Type 2 error: Failed to reject when you should have\n",
    "\n",
    "## Student T\n",
    "* One sample\n",
    "* Two sample\n",
    "* dependent \n",
    "Independent\n",
    " "
   ]
  }
 ],
 "metadata": {
  "interpreter": {
   "hash": "6a33784d2e02aee83e49ac6533fd5586adcd80ae4d6db07a7c73263e9bf81256"
  },
  "kernelspec": {
   "display_name": "Python 3.6.12 64-bit (conda)",
   "name": "python3"
  },
  "language_info": {
   "codemirror_mode": {
    "name": "ipython",
    "version": 3
   },
   "file_extension": ".py",
   "mimetype": "text/x-python",
   "name": "python",
   "nbconvert_exporter": "python",
   "pygments_lexer": "ipython3",
   "version": "3.6.12"
  },
  "orig_nbformat": 4
 },
 "nbformat": 4,
 "nbformat_minor": 2
}
