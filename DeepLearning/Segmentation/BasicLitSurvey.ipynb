{
 "cells": [
  {
   "cell_type": "markdown",
   "source": [
    "### Different Techniques\r\n",
    "\r\n",
    "Fully convolutional network \r\n",
    "Encoder Decoder based (U net, V net) \r\n",
    "Attention based \r\n",
    "Dilated Convolutions (DeepLab)\r\n",
    "\r\n",
    "with active contour models \r\n",
    "### Datasets \r\n",
    "PASCAL VOC, KITII, COCO, BSD, Youtube objects, cityscapes, MIT scene parsing\r\n",
    "### Metrics \r\n",
    "PixelAccuracy\r\n",
    "Mean Pixel Accuracy\r\n",
    "IoU  \r\n",
    "\r\n",
    "\r\n",
    "Ref: https://arxiv.org/pdf/2001.05566.pdf"
   ],
   "metadata": {}
  },
  {
   "cell_type": "markdown",
   "source": [],
   "metadata": {}
  }
 ],
 "metadata": {
  "orig_nbformat": 4,
  "language_info": {
   "name": "python"
  }
 },
 "nbformat": 4,
 "nbformat_minor": 2
}