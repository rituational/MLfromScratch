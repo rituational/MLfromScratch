{
 "metadata": {
  "language_info": {
   "codemirror_mode": {
    "name": "ipython",
    "version": 3
   },
   "file_extension": ".py",
   "mimetype": "text/x-python",
   "name": "python",
   "nbconvert_exporter": "python",
   "pygments_lexer": "ipython3",
   "version": 3
  },
  "orig_nbformat": 2
 },
 "nbformat": 4,
 "nbformat_minor": 2,
 "cells": [
  {
   "cell_type": "code",
   "execution_count": null,
   "metadata": {},
   "outputs": [],
   "source": [
    "def Convolution:\n",
    "\n",
    "    self.weights = np.random.random(3,3,8) #since input is 2D else we would have had (3,3,3,8)\n",
    "    out = np.zeros((h-2, w-2, f))\n",
    "    def iterate_regions(self, image):\n",
    "        w, h = image.shape          #for simplicity input is a 2D array.\n",
    "\n",
    "        for i in range (w-2):\n",
    "            for j in range (h-2):\n",
    "                img_region = image[j:j+3, i:i+3]\n",
    "        yield i, j, img_region\n",
    "\n",
    "\n",
    "    def forward(self, input):\n",
    "\n",
    "        self.last_input = input \n",
    "\n",
    "        for i, j, img_region in self.iterate_regions(input):\n",
    "            out[i,j,:] = np.sum(np.multiply(img_region, self.weights), axis = (0,1)) #elementwise multiplication \n",
    "            #should also include bias according to other docs  +self.bias\n",
    "\n",
    "    def backprop(self, dL_d_out, learning_rate):\n",
    "\n",
    "        d_L_d_filters = np.zeros(self.filters.shape)\n",
    "        # for i, j, img_region in self.iterate_regions(self.last_input):\n",
    "        #     dL_dw = np.sum(img_region*dL_d_out[i,j], axis = (0,1))\n",
    "\n",
    "        for im_region, i, j in self.iterate_regions(self.last_input):\n",
    "            for f in range(self.num_filters):\n",
    "                d_L_d_filters[f] += d_L_d_out[i, j, f] * im_region\n",
    "\n",
    "        return None #since this is our first layer "
   ]
  }
 ]
}