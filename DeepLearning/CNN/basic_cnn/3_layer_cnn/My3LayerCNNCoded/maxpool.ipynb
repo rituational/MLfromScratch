{
 "metadata": {
  "language_info": {
   "codemirror_mode": {
    "name": "ipython",
    "version": 3
   },
   "file_extension": ".py",
   "mimetype": "text/x-python",
   "name": "python",
   "nbconvert_exporter": "python",
   "pygments_lexer": "ipython3",
   "version": "3.6.12-final"
  },
  "orig_nbformat": 2,
  "kernelspec": {
   "name": "python3",
   "display_name": "Python 3",
   "language": "python"
  }
 },
 "nbformat": 4,
 "nbformat_minor": 2,
 "cells": [
  {
   "cell_type": "code",
   "execution_count": 1,
   "metadata": {},
   "outputs": [],
   "source": [
    "import numpy as np"
   ]
  },
  {
   "cell_type": "code",
   "execution_count": null,
   "metadata": {},
   "outputs": [],
   "source": [
    "class MaxPool2:\n",
    "\n",
    "    def iterate_regions(self, image):\n",
    "\n",
    "        h,w,_ = image.shape\n",
    "\n",
    "        for i in range(h//2): #since stride is 2, ideally (h-f)/s+1\n",
    "            for j in range(w//2): #since stride is 2\n",
    "                im_region = image[(i * 2):(i * 2 + 2), (j * 2):(j * 2 + 2)]\n",
    "\n",
    "        yield im_region, i ,j \n",
    "\n",
    "    def backward(self, d_L_d_out):\n",
    "        \n",
    "        d_L_d_input = np.zeros(self.last_input.shape)\n",
    "\n",
    "        # for i,j in self.iterate_regions(self.last_input):\n",
    "        #     mi,mj = np.argmax(im_regions)\n",
    "        #     d_L_d_input[2*i+mi,2*j+mj] = d_L_d_out[i,j]\n",
    "\n",
    "        #the way i imagined earlier, we find the index for max value and update dL_dprev only for that. But i forgot out dL_d_out isnt just a 13*13 map, but there are 8 such filters. So we need to repeat this operation for each of those filters. Rather, we need to aggregate d_L_d_input with the 3d block consisting all filters\n",
    "\n",
    "\n",
    "        for i,j, im_region in self.iterate_regions(self.last_input):\n",
    "            h, w, f = iterate_regions.shape\n",
    "\n",
    "            amax = np.amax(iterate_regions, axis = (0,1))\n",
    "\n",
    "           for i2 in range(h):\n",
    "               for j2 in range(w):\n",
    "                   for f2 in range(f):\n",
    "                       if im_region[i2, j2, f2] == amax[f2]:\n",
    "                           d_L_d_input[2*i+i2, 2*j+j2, f2] = d_L_d_out[i,j,f2]\n",
    "\n",
    "\n"
   ]
  },
  {
   "cell_type": "code",
   "execution_count": 22,
   "metadata": {},
   "outputs": [
    {
     "output_type": "execute_result",
     "data": {
      "text/plain": [
       "array([10000, 10000])"
      ]
     },
     "metadata": {},
     "execution_count": 22
    }
   ],
   "source": [
    "a = np.array([[[1,10,1],[4,100,10000],[1,1000,2]],[[1,10,1],[4,100,10000],[1,1000,2]]])\n",
    "np.amax(a, axis=(1, 2))"
   ]
  },
  {
   "cell_type": "code",
   "execution_count": 23,
   "metadata": {},
   "outputs": [
    {
     "output_type": "execute_result",
     "data": {
      "text/plain": [
       "(2, 3, 3)"
      ]
     },
     "metadata": {},
     "execution_count": 23
    }
   ],
   "source": [
    "a.shape"
   ]
  },
  {
   "cell_type": "code",
   "execution_count": null,
   "metadata": {},
   "outputs": [],
   "source": []
  }
 ]
}