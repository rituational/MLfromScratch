{
 "cells": [
  {
   "cell_type": "markdown",
   "source": [
    "![](helper/5.JPG)"
   ],
   "metadata": {}
  },
  {
   "cell_type": "markdown",
   "source": [
    "![](helper/6.JPG)"
   ],
   "metadata": {}
  },
  {
   "cell_type": "markdown",
   "source": [
    "### Implementation "
   ],
   "metadata": {}
  },
  {
   "cell_type": "code",
   "execution_count": null,
   "source": [
    "### Stride 1 \r\n",
    "\r\n",
    "def trans_conv(X, K):\r\n",
    "    h, w = K.shape\r\n",
    "    Y = np.zeros((X.shape[0] + h - 1, X.shape[1] + w - 1))\r\n",
    "    for i in range(X.shape[0]):\r\n",
    "        for j in range(X.shape[1]):\r\n",
    "            Y[i:i + h, j:j + w] += X[i, j] * K\r\n",
    "    return Y\r\n",
    "\r\n",
    "## Stride 2 \r\n"
   ],
   "outputs": [],
   "metadata": {}
  },
  {
   "cell_type": "markdown",
   "source": [
    "Ref: https://d2l.ai/chapter_computer-vision/transposed-conv.html"
   ],
   "metadata": {}
  },
  {
   "cell_type": "markdown",
   "source": [],
   "metadata": {}
  }
 ],
 "metadata": {
  "orig_nbformat": 4,
  "language_info": {
   "name": "python"
  }
 },
 "nbformat": 4,
 "nbformat_minor": 2
}