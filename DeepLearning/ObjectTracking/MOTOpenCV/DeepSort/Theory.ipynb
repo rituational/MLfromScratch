{
 "cells": [
  {
   "cell_type": "markdown",
   "source": [
    "# DeepSort\r\n",
    "\r\n",
    "## SORT\r\n",
    "### Kalman Filter: \r\n",
    "* We assume a simple constant velocity model. So we have eight states (u, v, a, h, u', v', a', h') u,v,a,h are centres and aspect ratios.\r\n",
    "* We also model process noise, measurement noise\r\n",
    "* Recursively we precidt the states and update them based on measurements, thus we infer new distribution from previous state distribution and measurement distribution.\r\n",
    "* Works best when Gaussian process is involved. \r\n",
    "\r\n",
    "\r\n",
    "* We create new track \r\n",
    "* Delete track if not found for consequent frames\r\n",
    "* To prevent duplicate tracks, minimum number of detections in initial frames.\r\n",
    "\r\n",
    "#### Assignment Problem:\r\n",
    "To associate new predictions (from object detector) with new detections (a.k.a measurement)\r\n",
    "* Distance metric: Squared Mahonobis distance, To associate a new BB with a track \r\n",
    "* Efficient Algorithm: Hungarian Algorithm, Associate data \r\n",
    "\r\n",
    "#### Limitations \r\n",
    "Can't handle occlusion well.\r\n",
    "\r\n",
    "\r\n",
    "## Deep in SORT\r\n",
    "### Appearence Feature Vector\r\n",
    "Appearance Descriptor: The last dense layer of a trained classifier acts as the feature vector.\r\n",
    "\r\n",
    "### Distance Metric\r\n",
    "$$ D = \\lambda D_k + (1-\\lambda)D_a $$\r\n",
    "where D_k is mahanobis distance\r\n",
    "D_a is cosine similarity (D_a more influencer than D_k)\r\n",
    "\r\n",
    "\r\n",
    "## Deep SORT working\r\n",
    "* Object Recognition \r\n",
    "* Motion prediction and feature generation\r\n",
    "* * KF predicts motion \r\n",
    "* * Feature generation using pretrained CNN. \r\n",
    "* Tracking \r\n",
    "* * Cosine distance, IOU distance and kalman state distance calculated to match updates. "
   ],
   "metadata": {}
  },
  {
   "cell_type": "markdown",
   "source": [
    "Ref: \r\n",
    "Implementation: https://www.youtube.com/watch?v=zi-62z-3c4U"
   ],
   "metadata": {}
  },
  {
   "cell_type": "markdown",
   "source": [],
   "metadata": {}
  }
 ],
 "metadata": {
  "orig_nbformat": 4,
  "language_info": {
   "name": "python"
  }
 },
 "nbformat": 4,
 "nbformat_minor": 2
}