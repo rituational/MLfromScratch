{
 "cells": [
  {
   "cell_type": "code",
   "execution_count": 1,
   "source": [
    "import cv2 as cv\r\n",
    "import numpy as np"
   ],
   "outputs": [],
   "metadata": {}
  },
  {
   "cell_type": "code",
   "execution_count": 3,
   "source": [
    "# The video feed is read in as a VideoCapture object\r\n",
    "cap = cv.VideoCapture(0)\r\n",
    "# ret = a boolean return value from getting the frame, first_frame = the first frame in the entire video sequence\r\n",
    "ret, first_frame = cap.read()\r\n",
    "# Converts frame to grayscale because we only need the luminance channel for detecting edges - less computationally expensive\r\n",
    "prev_gray = cv.cvtColor(first_frame, cv.COLOR_BGR2GRAY)\r\n",
    "# Creates an image filled with zero intensities with the same dimensions as the frame\r\n",
    "mask = np.zeros_like(first_frame)\r\n",
    "# Sets image saturation to maximum\r\n",
    "mask[..., 1] = 255\r\n",
    "\r\n",
    "while(cap.isOpened()):\r\n",
    "    # ret = a boolean return value from getting the frame, frame = the current frame being projected in the video\r\n",
    "    ret, frame = cap.read()\r\n",
    "    # Opens a new window and displays the input frame\r\n",
    "    cv.imshow(\"input\", frame)\r\n",
    "    # Converts each frame to grayscale - we previously only converted the first frame to grayscale\r\n",
    "    gray = cv.cvtColor(frame, cv.COLOR_BGR2GRAY)\r\n",
    "    # Calculates dense optical flow by Farneback method\r\n",
    "    # https://docs.opencv.org/3.0-beta/modules/video/doc/motion_analysis_and_object_tracking.html#calcopticalflowfarneback\r\n",
    "    flow = cv.calcOpticalFlowFarneback(prev_gray, gray, None, 0.5, 3, 15, 3, 5, 1.2, 0)\r\n",
    "    # Computes the magnitude and angle of the 2D vectors\r\n",
    "    magnitude, angle = cv.cartToPolar(flow[..., 0], flow[..., 1])\r\n",
    "    # Sets image hue according to the optical flow direction\r\n",
    "    mask[..., 0] = angle * 180 / np.pi / 2\r\n",
    "    # Sets image value according to the optical flow magnitude (normalized)\r\n",
    "    mask[..., 2] = cv.normalize(magnitude, None, 0, 255, cv.NORM_MINMAX)\r\n",
    "    # Converts HSV to RGB (BGR) color representation\r\n",
    "    rgb = cv.cvtColor(mask, cv.COLOR_HSV2BGR)\r\n",
    "    # Opens a new window and displays the output frame\r\n",
    "    cv.imshow(\"dense optical flow\", rgb)\r\n",
    "    # Updates previous frame\r\n",
    "    prev_gray = gray\r\n",
    "    # Frames are read by intervals of 1 millisecond. The programs breaks out of the while loop when the user presses the 'q' key\r\n",
    "    if cv.waitKey(1) & 0xFF == ord('q'):\r\n",
    "        break\r\n",
    "# The following frees up resources and closes all windows\r\n",
    "cap.release()\r\n",
    "cv.destroyAllWindows()"
   ],
   "outputs": [
    {
     "output_type": "error",
     "ename": "KeyboardInterrupt",
     "evalue": "",
     "traceback": [
      "\u001b[1;31m---------------------------------------------------------------------------\u001b[0m",
      "\u001b[1;31mKeyboardInterrupt\u001b[0m                         Traceback (most recent call last)",
      "\u001b[1;32m<ipython-input-3-003aa4302acd>\u001b[0m in \u001b[0;36m<module>\u001b[1;34m\u001b[0m\n\u001b[0;32m     19\u001b[0m     \u001b[1;31m# Calculates dense optical flow by Farneback method\u001b[0m\u001b[1;33m\u001b[0m\u001b[1;33m\u001b[0m\u001b[1;33m\u001b[0m\u001b[0m\n\u001b[0;32m     20\u001b[0m     \u001b[1;31m# https://docs.opencv.org/3.0-beta/modules/video/doc/motion_analysis_and_object_tracking.html#calcopticalflowfarneback\u001b[0m\u001b[1;33m\u001b[0m\u001b[1;33m\u001b[0m\u001b[1;33m\u001b[0m\u001b[0m\n\u001b[1;32m---> 21\u001b[1;33m     \u001b[0mflow\u001b[0m \u001b[1;33m=\u001b[0m \u001b[0mcv\u001b[0m\u001b[1;33m.\u001b[0m\u001b[0mcalcOpticalFlowFarneback\u001b[0m\u001b[1;33m(\u001b[0m\u001b[0mprev_gray\u001b[0m\u001b[1;33m,\u001b[0m \u001b[0mgray\u001b[0m\u001b[1;33m,\u001b[0m \u001b[1;32mNone\u001b[0m\u001b[1;33m,\u001b[0m \u001b[1;36m0.5\u001b[0m\u001b[1;33m,\u001b[0m \u001b[1;36m3\u001b[0m\u001b[1;33m,\u001b[0m \u001b[1;36m15\u001b[0m\u001b[1;33m,\u001b[0m \u001b[1;36m3\u001b[0m\u001b[1;33m,\u001b[0m \u001b[1;36m5\u001b[0m\u001b[1;33m,\u001b[0m \u001b[1;36m1.2\u001b[0m\u001b[1;33m,\u001b[0m \u001b[1;36m0\u001b[0m\u001b[1;33m)\u001b[0m\u001b[1;33m\u001b[0m\u001b[1;33m\u001b[0m\u001b[0m\n\u001b[0m\u001b[0;32m     22\u001b[0m     \u001b[1;31m# Computes the magnitude and angle of the 2D vectors\u001b[0m\u001b[1;33m\u001b[0m\u001b[1;33m\u001b[0m\u001b[1;33m\u001b[0m\u001b[0m\n\u001b[0;32m     23\u001b[0m     \u001b[0mmagnitude\u001b[0m\u001b[1;33m,\u001b[0m \u001b[0mangle\u001b[0m \u001b[1;33m=\u001b[0m \u001b[0mcv\u001b[0m\u001b[1;33m.\u001b[0m\u001b[0mcartToPolar\u001b[0m\u001b[1;33m(\u001b[0m\u001b[0mflow\u001b[0m\u001b[1;33m[\u001b[0m\u001b[1;33m...\u001b[0m\u001b[1;33m,\u001b[0m \u001b[1;36m0\u001b[0m\u001b[1;33m]\u001b[0m\u001b[1;33m,\u001b[0m \u001b[0mflow\u001b[0m\u001b[1;33m[\u001b[0m\u001b[1;33m...\u001b[0m\u001b[1;33m,\u001b[0m \u001b[1;36m1\u001b[0m\u001b[1;33m]\u001b[0m\u001b[1;33m)\u001b[0m\u001b[1;33m\u001b[0m\u001b[1;33m\u001b[0m\u001b[0m\n",
      "\u001b[1;31mKeyboardInterrupt\u001b[0m: "
     ]
    }
   ],
   "metadata": {}
  },
  {
   "cell_type": "markdown",
   "source": [
    "Code Ref: https://github.com/chuanenlin/optical-flow/blob/master/dense-solution.py (nanonets)"
   ],
   "metadata": {}
  },
  {
   "cell_type": "markdown",
   "source": [],
   "metadata": {}
  }
 ],
 "metadata": {
  "orig_nbformat": 4,
  "language_info": {
   "name": "python",
   "version": "3.6.12",
   "mimetype": "text/x-python",
   "codemirror_mode": {
    "name": "ipython",
    "version": 3
   },
   "pygments_lexer": "ipython3",
   "nbconvert_exporter": "python",
   "file_extension": ".py"
  },
  "kernelspec": {
   "name": "python3",
   "display_name": "Python 3.6.12 64-bit (conda)"
  },
  "interpreter": {
   "hash": "6a33784d2e02aee83e49ac6533fd5586adcd80ae4d6db07a7c73263e9bf81256"
  }
 },
 "nbformat": 4,
 "nbformat_minor": 2
}