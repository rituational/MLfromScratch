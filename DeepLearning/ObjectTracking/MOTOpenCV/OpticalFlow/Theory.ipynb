{
 "cells": [
  {
   "cell_type": "markdown",
   "source": [
    "# Optical Flow\r\n",
    "\r\n",
    "* We assume that pixel densities of object remains same between consecutive frames. \r\n",
    "\r\n",
    "![](./../helper/1.JPG)\r\n",
    "![](./../helper/2.JPG)\r\n",
    "\r\n",
    "\r\n",
    "* To obtain intensity change w.r.t time, we need to find u, v (velocities about x, y)\r\n",
    "* Since we only have one equation and two unknown, we use methods like Lucas Kanade. \r\n",
    "\r\n",
    "### Types \r\n",
    "* Sparse: We track some salient pixels.\r\n",
    "* Dense: We track all pixels.\r\n",
    "\r\n",
    "### Lucas Kanade (Sparse)\r\n",
    "* Assumptions of LK \r\n",
    "* * Brightness consistency (A frame portrays 'natural' scene, shades of gray change smoothly.)\r\n",
    "* * Spatial Coherence: Neraby pixels belong to the same object. \r\n",
    "* * Temporal Persistance: Motion of the patch has gradual change. (For small dt, there is no significant displacement in object)\r\n",
    "* * Limited Motion: Points do not move in a haphazard way.\r\n",
    "\r\n",
    "* We assume a window (say 3*3, all have same motion). So now we have 9 equations (one per pixel) to solve for 2 unknowns. * To make this over deterministic problem we apply least square fitting. \r\n",
    "\r\n",
    "* Pyramids: Since only small motion gets detected, we use image pyramids.\r\n",
    "* * As we go up the pyramid, small motion are neglected.  \r\n"
   ],
   "metadata": {}
  },
  {
   "cell_type": "markdown",
   "source": [],
   "metadata": {}
  },
  {
   "cell_type": "markdown",
   "source": [
    "### Dense Optical Flow\r\n",
    "\r\n",
    "* Learning structure from motion\r\n",
    "* Video segmentation\r\n",
    "* implementation algorithm eg: Farback\r\n",
    "\r\n"
   ],
   "metadata": {}
  },
  {
   "cell_type": "markdown",
   "source": [],
   "metadata": {}
  }
 ],
 "metadata": {
  "orig_nbformat": 4,
  "language_info": {
   "name": "python"
  }
 },
 "nbformat": 4,
 "nbformat_minor": 2
}