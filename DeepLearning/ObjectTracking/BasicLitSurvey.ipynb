{
 "cells": [
  {
   "cell_type": "markdown",
   "source": [
    "#### Meanshift (mode seeking algorithm)\r\n",
    "(similar to k means, weighted average that gives importance to point near mean. )\r\n",
    "* Given a set of datapoints, meanshift will assign points iteratively to the closest cluster centroid\r\n",
    "* The direction to the closest centroid is determined by where most nearby points are at. \r\n",
    "* No need to specify k unlike k means.\r\n",
    "Ref: http://www.chioka.in/meanshift-algorithm-for-the-rest-of-us-python/ \r\n",
    "\r\n",
    "#### Optical Flow \r\n",
    "* Use spatio temporal brightness variations for tracking\r\n",
    "* Assumptions: \r\n",
    "* * Brightness consistency\r\n",
    "* * Spatial coherence: Neighbouring pixels belong to same surface hence similar motion \r\n",
    "* * Temporal persistance: motion of a patch has gradual change \r\n",
    "* * Limited motion, nothing haphazard. \r\n",
    "\r\n",
    "#### Kalman Filter \r\n",
    "Constant vlocity model + process noise + measurement noise \r\n",
    "* Works best for linear system with gaussian process\r\n",
    "\r\n",
    "### CNN based \r\n",
    "\r\n",
    "#### Deep Regression Networks \r\n",
    "#### RYOLO recurrent yolo\r\n",
    "YOLO's output feature encoding passed to LSTM\r\n",
    "\r\n",
    "#### DeepSort \r\n",
    "\r\n",
    "Use any object detector track it with SORT Simple realtime tracking. \r\n",
    "* Create tracks using kalman filter based on predictions in frame t. \r\n",
    "* In t+1, check the new pred which is closest to the tracks we already have. They use mahanobis distnace + Hungarian algorithm\r\n",
    "\r\n",
    "But even this fails in occlusion etc. \r\n",
    "\r\n",
    "So in deepsort: appearance feature vector \r\n",
    "* Take YOLO, take the last FCN, which gives us feature representation. (wrong??)\r\n",
    "* to find nearest preds with prev frame preds/tracks, we calculate this distance: \r\n",
    "$$ \\lambda D_k +(1-\\lambda) D_a $$\r\n",
    "* D_k is mahanobis distance \r\n",
    "* D_a cosine similarity (D_a more influencer than D_k)\r\n",
    "\r\n",
    "\r\n",
    "Ref: https://nanonets.com/blog/object-tracking-deepsort/ (Also has implementation)\r\n",
    "(https://www.youtube.com/watch?v=LbyqsoLJu5Q) high level "
   ],
   "metadata": {}
  },
  {
   "cell_type": "markdown",
   "source": [],
   "metadata": {}
  }
 ],
 "metadata": {
  "orig_nbformat": 4,
  "language_info": {
   "name": "python"
  }
 },
 "nbformat": 4,
 "nbformat_minor": 2
}