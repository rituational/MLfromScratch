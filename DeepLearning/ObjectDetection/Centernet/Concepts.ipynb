{
 "cells": [
  {
   "cell_type": "markdown",
   "source": [
    "![](helper/1.JPG)"
   ],
   "metadata": {}
  },
  {
   "cell_type": "markdown",
   "source": [
    "* Eliminate computation heavy NMS, make object detection flow like other CNN+dense architectures. \r\n",
    "* Building up on cornernet, which had difficulty referring to the global information of the object. \r\n",
    "* We now have triplets (centerdness + corners)\r\n",
    "* During inference, given center points, we verify if a center key point of same class is falling within its central region. \r\n",
    "* Center Pooling: Find the ceter pixel, take max in vertical and horizontal direction. \r\n",
    "![](helper/2.JPG)"
   ],
   "metadata": {}
  },
  {
   "cell_type": "markdown",
   "source": [],
   "metadata": {}
  }
 ],
 "metadata": {
  "orig_nbformat": 4,
  "language_info": {
   "name": "python"
  }
 },
 "nbformat": 4,
 "nbformat_minor": 2
}