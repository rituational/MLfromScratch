{
 "metadata": {
  "language_info": {
   "codemirror_mode": {
    "name": "ipython",
    "version": 3
   },
   "file_extension": ".py",
   "mimetype": "text/x-python",
   "name": "python",
   "nbconvert_exporter": "python",
   "pygments_lexer": "ipython3",
   "version": 3
  },
  "orig_nbformat": 4
 },
 "nbformat": 4,
 "nbformat_minor": 2,
 "cells": [
  {
   "source": [
    "Notes: \n",
    "* The output is an S*S*30 matrix. S is the number of grids we split the image \n",
    "* There are two boxes per grid cell. But we only predict one class per grid. \n",
    "* At every iteration, we check which box prediction matches the GT the best (higher IOU). We only train that box. \n",
    "\n",
    "GT is "
   ],
   "cell_type": "markdown",
   "metadata": {}
  },
  {
   "source": [
    "Split image into S* S grid \n",
    "The cell which contains mid point of object is responsible to predict the bb. \n",
    "xmid,ymid,w,h are w.r.t. the grid. So if the object is bigger than cell, the w,h can be >0 \n",
    "\n",
    "Ground Truth: \n",
    "\n",
    "$$ GT : [C_{1}, C_{2},...C_{20}, p_{c}, x, y, w, h] $$ \n",
    "$C_{i}$ is score for each class\n",
    "$p_{c}$ is objectness score (there is an object or not) {0,1} \n",
    "* Target shape: (S,S,25)\n",
    "\n",
    "Predictions: \n",
    "\n",
    "* We have two box predictions. \n",
    "* Pred shape (S,S,30)\n",
    "* But one cell can only detect ONE Object.\n",
    "* \n",
    "\n",
    "$$ GT : [C_{1}, C_{2},...C_{20}, p_{c1}, x, y, w, h, p_{c2}, x, y, w, h] $$ \n"
   ],
   "cell_type": "markdown",
   "metadata": {}
  },
  {
   "cell_type": "code",
   "execution_count": null,
   "metadata": {},
   "outputs": [],
   "source": []
  }
 ]
}