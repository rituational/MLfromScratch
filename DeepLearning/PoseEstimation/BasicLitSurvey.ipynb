{
 "cells": [
  {
   "cell_type": "markdown",
   "source": [
    "### Metrics \r\n",
    "* Percentage of correct parts: Considered detected if detected and predicted \\<half limb length\r\n",
    "* Percentage of detected joints: If predicted and truth is within certain fraction of torso diameter.  \r\n",
    "* Object Keypoint based Symmetry: \r\n",
    "![](helper/1.JPG)\r\n",
    "\r\n",
    "### Deep Pose \r\n",
    "DNN based regressor \r\n",
    "Alexnet inspired, output xi,yi for joints\r\n",
    "Cascaded Regressors: Once we find the predictions of joints, we crop region around it and it is fed as input to further improve the predictions \r\n",
    "Loss: L2 norm of regression\r\n",
    "\r\n",
    "\r\n"
   ],
   "metadata": {}
  },
  {
   "cell_type": "markdown",
   "source": [],
   "metadata": {}
  },
  {
   "cell_type": "markdown",
   "source": [
    "### Object pose Detection\r\n",
    "\r\n",
    "![](./helper/electronics-10-00517-v2.pdf)"
   ],
   "metadata": {}
  },
  {
   "cell_type": "markdown",
   "source": [],
   "metadata": {}
  }
 ],
 "metadata": {
  "orig_nbformat": 4,
  "language_info": {
   "name": "python"
  }
 },
 "nbformat": 4,
 "nbformat_minor": 2
}