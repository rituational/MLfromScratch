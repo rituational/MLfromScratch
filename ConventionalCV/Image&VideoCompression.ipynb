{
 "cells": [
  {
   "cell_type": "markdown",
   "source": [
    "# JPEG \r\n",
    " \r\n",
    "* JPEG is a lossy  compression. \r\n",
    "* We see more green than b,r \r\n",
    "* Not very sensitive to high frequecy, fast change image can be blurred out. \r\n",
    "* We convert RGB: YCbCr (default used, others also can be), when we specify the quality we tell how much reduction we want in Cb, Cr. So for every 4Y you can have 1 Cb, Cr and so on.\r\n",
    "\r\n",
    "## Image -> YCrCb -> Discrete Cosine Transform -> Quantization -> Encoding (Huffman) \r\n",
    "\r\n",
    "\r\n",
    "\r\n",
    "* DCT: Think of it as a fourier transform (only cosines)\r\n",
    "* For 8 bit 1D we can represent a signal as a combination of 8 cosine waves \r\n",
    "* For 8 bit 2D, we can have 64 different waves. \r\n",
    "![](helper/8.JPG)\r\n",
    "* We center the image \r\n",
    "* We divide the image into 8*8 non overlapping blocks.\r\n",
    "* calculate coefficients for each of these waves (64 coefficients) \r\n",
    "\r\n",
    "* We have a quantization chart (high frequency components (towards bottom right) are scaled more)\r\n",
    "* This results in a sparse matrix with only the top left corner having non zero elements\r\n",
    "* Then we encode this sparse matrix using huffman coding. \r\n",
    "\r\n",
    "JPEG 2000: Uses 2D wavelet transform \r\n",
    "\r\n",
    "### Problems \r\n",
    "* Artifacts for texts. (As texts have high frequency changes)\r\n"
   ],
   "metadata": {}
  },
  {
   "cell_type": "markdown",
   "source": [
    "# Video Compression \r\n",
    "\r\n",
    "* Temporal redundancy \r\n",
    "\r\n",
    "\r\n",
    "Intra frame (jpeg)\r\n",
    "Inter Frame Spatial encoding): \r\n",
    "* If consecutive frames are stationary: Store frame_1* repeat 4\r\n",
    "* If parts of frame change, only store that \r\n",
    "* Block motion estimation, and just store these vectors and the base frame\r\n",
    "* We can calculate residuals between frames, add residual and block vectors to get better predictions. \r\n",
    "![](helper/9.JPG)"
   ],
   "metadata": {}
  },
  {
   "cell_type": "markdown",
   "source": [
    "# Deep Learning Methods \r\n",
    "\r\n",
    "* Image Compression \r\n",
    "![](helper/12.JPG)\r\n",
    "\r\n",
    "* Video Compression \r\n",
    "Ref: https://arxiv.org/pdf/1904.03567.pdf"
   ],
   "metadata": {}
  },
  {
   "cell_type": "markdown",
   "source": [],
   "metadata": {}
  }
 ],
 "metadata": {
  "orig_nbformat": 4,
  "language_info": {
   "name": "python"
  }
 },
 "nbformat": 4,
 "nbformat_minor": 2
}