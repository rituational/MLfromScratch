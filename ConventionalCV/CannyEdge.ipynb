{
 "cells": [
  {
   "cell_type": "markdown",
   "source": [
    "# Canny Edge \r\n",
    "\r\n",
    "* Create \r\n",
    "* Non max supression: \r\n",
    "* * Thinning the thick edges \r\n",
    "* * You look across in the direction of gradient and take the point that has peak\r\n",
    "<img src=\"helper/13.JPG\" alt=\"Drawing\" style=\"width: 600px;\"/> \r\n",
    "\r\n"
   ],
   "metadata": {}
  },
  {
   "cell_type": "markdown",
   "source": [],
   "metadata": {}
  }
 ],
 "metadata": {
  "orig_nbformat": 4,
  "language_info": {
   "name": "python"
  }
 },
 "nbformat": 4,
 "nbformat_minor": 2
}