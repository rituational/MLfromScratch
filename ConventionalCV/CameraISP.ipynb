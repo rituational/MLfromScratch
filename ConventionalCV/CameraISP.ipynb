{
 "cells": [
  {
   "cell_type": "markdown",
   "source": [
    "# How Color loses information vs Grayscale (Bayer Filter) \r\n",
    "\r\n",
    "* When light hits CMOS sensor, it creates response proportional to luminance (we call brightness). This gives us th e grayscale image \r\n",
    "* Color filter arrays: For color, we put color filter and restrict the light entering the sensor. So we divide all pixels into group of 4 *Bayer pattern* (RGBG, GRBG... some combination of R, B 2G )\r\n",
    "\r\n",
    "* (There can be RCCC (red clear clear clear) used for automative where red is imp, CYYM (cyan yelloe yellow magenta) etc as well)\r\n",
    "![](helper/5.JPG)\r\n",
    "\r\n",
    "## Demosaicing\r\n",
    "\r\n",
    "Nearest neighbour interpolation. Not the best: \r\n",
    "* Chromatic aberrations (blur edges) \r\n",
    "* Moire effect: Overlapping patterns, fails for computer screens\r\n",
    "* False coloration \r\n",
    "![](helper/6.JPG)\r\n",
    "\r\n",
    "\r\n",
    "Other demosaicing methods, didnt read them yet (https://rawpedia.rawtherapee.com/Demosaicing)\r\n",
    "\r\n",
    "Ref: https://opencv.org/in-living-color-or-not/\r\n",
    "\r\n",
    "\r\n",
    "# Remove lens shading \r\n",
    "Vigetting is a pheonmenon that the brightness is decreasing from image center to corner\r\n",
    "![](helper/7.JPG)"
   ],
   "metadata": {}
  },
  {
   "cell_type": "markdown",
   "source": [
    "# Defective pixel correction \r\n",
    "# Gamma Correction  \r\n",
    "# Local tone mapping \r\n",
    "# Auto exposure \r\n",
    "* Adjust aperture size and shutter speed to control the amount of light \r\n",
    "* Built in light meter evaluates total amount of light reflected from subject\r\n",
    "* *Averaging meter system*:\r\n",
    "* * based on the assumption that there are a few highlights, a few shadows and a full range of mid-tones\r\n",
    "* * most often centre weighted result\r\n",
    "* * If a lot of white in background, we end up with dark image (the algorithm over predicted avg light)\r\n",
    "* * With black background we get too bright image "
   ],
   "metadata": {}
  },
  {
   "cell_type": "markdown",
   "source": [
    "# Auto Focus \r\n",
    "\r\n",
    "We move the lens to find the position where we get maximum focus \r\n",
    "\r\n",
    "## Contrast focus\r\n",
    "In focus, the object will have sharp edge and brighter colour: more contrast \r\n",
    "\r\n",
    "Pros: \r\n",
    "* Easy, no additional hardware\r\n",
    "\r\n",
    "Cons: \r\n",
    "* doesnt work in low light \r\n",
    "* You need to go both the sides to find the middle which has high contrast: Slow \r\n",
    "* Cant track moving objects\r\n",
    "\r\n",
    "![](helper/1.JPG)"
   ],
   "metadata": {}
  },
  {
   "cell_type": "markdown",
   "source": [
    "## Phase Detection Auto Focus \r\n",
    "\r\n",
    "Two apertures on two ends of camera, if in focus the image on sensor will overlap\r\n",
    "\r\n",
    "Pros: \r\n",
    "* Fast \r\n",
    "* can continuous auto focus \r\n",
    "\r\n",
    "Cons: \r\n",
    "* Doesnt work in low light\r\n",
    "\r\n",
    "![](helper/2.JPG)"
   ],
   "metadata": {}
  },
  {
   "cell_type": "markdown",
   "source": [
    "## Laser Auto focus \r\n",
    "Active auto focus \r\n",
    "\r\n",
    "Pros: \r\n",
    "* Very fast\r\n",
    "* works in low light\r\n",
    "\r\n",
    "Cons: \r\n",
    "* Wont work for far away objects\r\n",
    "* confused by reflections"
   ],
   "metadata": {}
  },
  {
   "cell_type": "markdown",
   "source": [
    "Ref: https://www.giffgaff.com/blog/how-does-auto-focus-work-on-your-smartphone/#:~:text=A%20convex%20lens%20is%20used,the%20sensor%20in%20the%20camera."
   ],
   "metadata": {}
  }
 ],
 "metadata": {
  "orig_nbformat": 4,
  "language_info": {
   "name": "python"
  }
 },
 "nbformat": 4,
 "nbformat_minor": 2
}