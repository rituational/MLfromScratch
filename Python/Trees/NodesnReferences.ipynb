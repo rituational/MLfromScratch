{
 "cells": [
  {
   "cell_type": "code",
   "execution_count": 3,
   "source": [
    "class BinaryTree(object):\r\n",
    "\r\n",
    "    def __init__(self, rootObj): \r\n",
    "       self.key = rootObj\r\n",
    "       self.leftChild = None\r\n",
    "       self.rightChild = None\r\n",
    "\r\n",
    "    def insertLeft(self, newNode): \r\n",
    "        \r\n",
    "        if self.leftChild == None: \r\n",
    "           self.leftChild = BinaryTree(newNode)\r\n",
    "        \r\n",
    "        else:\r\n",
    "            # push existing node down and insert newNode \r\n",
    "            t = BinaryTree(newNode)\r\n",
    "            t.leftChild = self.leftChild\r\n",
    "            self.leftChild = t \r\n",
    "\r\n",
    "    def insertRight(self, newNode): \r\n",
    "        \r\n",
    "        if self.rightChild == None: \r\n",
    "           self.rightChild = BinaryTree(newNode)\r\n",
    "        \r\n",
    "        else:\r\n",
    "            # push existing node down and insert newNode \r\n",
    "            t = BinaryTree(newNode)\r\n",
    "            t.rightChild = self.rightChild\r\n",
    "            self.rightChild = t \r\n",
    "\r\n",
    "    def getLeftChild(self):\r\n",
    "        return self.leftChild\r\n",
    "\r\n",
    "    def getRightChild(self):\r\n",
    "        return self.rightChild\r\n",
    "\r\n",
    "    def setRootVal(self, obj):\r\n",
    "        self.key = obj\r\n",
    "\r\n",
    "    def getRootVal(self):\r\n",
    "        return self.key \r\n"
   ],
   "outputs": [],
   "metadata": {}
  },
  {
   "cell_type": "code",
   "execution_count": 4,
   "source": [
    "r = BinaryTree('a')"
   ],
   "outputs": [],
   "metadata": {}
  },
  {
   "cell_type": "code",
   "execution_count": 7,
   "source": [
    "r.getLeftChild()"
   ],
   "outputs": [],
   "metadata": {}
  },
  {
   "cell_type": "code",
   "execution_count": 8,
   "source": [
    "r.insertLeft('b')"
   ],
   "outputs": [],
   "metadata": {}
  },
  {
   "cell_type": "code",
   "execution_count": 12,
   "source": [
    "r.getLeftChild().getRootVal()"
   ],
   "outputs": [
    {
     "output_type": "execute_result",
     "data": {
      "text/plain": [
       "'b'"
      ]
     },
     "metadata": {},
     "execution_count": 12
    }
   ],
   "metadata": {}
  },
  {
   "cell_type": "code",
   "execution_count": 11,
   "source": [],
   "outputs": [
    {
     "output_type": "execute_result",
     "data": {
      "text/plain": [
       "'a'"
      ]
     },
     "metadata": {},
     "execution_count": 11
    }
   ],
   "metadata": {}
  }
 ],
 "metadata": {
  "orig_nbformat": 4,
  "language_info": {
   "name": "python",
   "version": "3.6.12",
   "mimetype": "text/x-python",
   "codemirror_mode": {
    "name": "ipython",
    "version": 3
   },
   "pygments_lexer": "ipython3",
   "nbconvert_exporter": "python",
   "file_extension": ".py"
  },
  "kernelspec": {
   "name": "python3",
   "display_name": "Python 3.6.12 64-bit (conda)"
  },
  "interpreter": {
   "hash": "6a33784d2e02aee83e49ac6533fd5586adcd80ae4d6db07a7c73263e9bf81256"
  }
 },
 "nbformat": 4,
 "nbformat_minor": 2
}