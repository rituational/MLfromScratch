{
 "cells": [
  {
   "cell_type": "markdown",
   "source": [
    "## Horizontal Scanning \r\n",
    "LCP(LCP(S1,S2),S3)...Sn)\r\n",
    "\r\n",
    "time O(sum of all string elements)\r\n",
    "memory O(1)"
   ],
   "metadata": {}
  },
  {
   "cell_type": "code",
   "execution_count": null,
   "source": [
    "class Solution(object):\r\n",
    "    def longestCommonPrefix(self, strs):\r\n",
    "        \"\"\"\r\n",
    "        :type strs: List[str]\r\n",
    "        :rtype: str\r\n",
    "        \"\"\"\r\n",
    "        \r\n",
    "        check_index = 0\r\n",
    "        local_best = []\r\n",
    "        \r\n",
    "        if len(strs) == 0:\r\n",
    "            return \"\"\r\n",
    "        \r\n",
    "        prefix = strs[0]\r\n",
    "        \r\n",
    "        for i in range(1, len(strs)):\r\n",
    "            \r\n",
    "            while prefix != strs[i][0:len(prefix)]:\r\n",
    "                prefix = prefix[0:-1]\r\n",
    "                \r\n",
    "                if len(prefix) == 0: \r\n",
    "                    return \"\"\r\n",
    "        \r\n",
    "        return prefix"
   ],
   "outputs": [],
   "metadata": {}
  },
  {
   "cell_type": "code",
   "execution_count": null,
   "source": [],
   "outputs": [],
   "metadata": {}
  }
 ],
 "metadata": {
  "orig_nbformat": 4,
  "language_info": {
   "name": "python",
   "version": "3.6.12",
   "mimetype": "text/x-python",
   "codemirror_mode": {
    "name": "ipython",
    "version": 3
   },
   "pygments_lexer": "ipython3",
   "nbconvert_exporter": "python",
   "file_extension": ".py"
  },
  "kernelspec": {
   "name": "python3",
   "display_name": "Python 3.6.12 64-bit (conda)"
  },
  "interpreter": {
   "hash": "6a33784d2e02aee83e49ac6533fd5586adcd80ae4d6db07a7c73263e9bf81256"
  }
 },
 "nbformat": 4,
 "nbformat_minor": 2
}