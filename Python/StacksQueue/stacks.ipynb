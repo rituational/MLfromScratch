{
 "cells": [
  {
   "cell_type": "markdown",
   "source": [
    "## Stacks \r\n",
    "\r\n",
    "* ordered collection of items \r\n",
    "* items near base are the one which have been stored the longest\r\n",
    "* LIFO\r\n",
    "* can be used to reverse order of items Eg: Back button in browser\r\n",
    "\r\n",
    "\r\n",
    "\r\n",
    "TODO: \r\n",
    "Implement using :\r\n",
    "* Queue \r\n",
    "* Dequeue \r\n",
    "* linked lists "
   ],
   "metadata": {}
  },
  {
   "cell_type": "code",
   "execution_count": 2,
   "source": [
    "class Stack(object):\r\n",
    "    \r\n",
    "    def __init__(self):\r\n",
    "        self.stack = []\r\n",
    "\r\n",
    "    def isEmpty(self):\r\n",
    "        if self.stack == None:\r\n",
    "            print(\"empty stack\")\r\n",
    "    \r\n",
    "    def push(self, item):\r\n",
    "        self.stack.append(item)\r\n",
    "    \r\n",
    "    def pop(self):\r\n",
    "        return self.stack.pop()\r\n",
    "\r\n",
    "    def peek(self):\r\n",
    "        return self.stack[len(self.stack) - 1]  # We need to show the last item\r\n"
   ],
   "outputs": [],
   "metadata": {}
  },
  {
   "cell_type": "code",
   "execution_count": null,
   "source": [],
   "outputs": [],
   "metadata": {}
  }
 ],
 "metadata": {
  "orig_nbformat": 4,
  "language_info": {
   "name": "python",
   "version": "3.6.12",
   "mimetype": "text/x-python",
   "codemirror_mode": {
    "name": "ipython",
    "version": 3
   },
   "pygments_lexer": "ipython3",
   "nbconvert_exporter": "python",
   "file_extension": ".py"
  },
  "kernelspec": {
   "name": "python3",
   "display_name": "Python 3.6.12 64-bit (conda)"
  },
  "interpreter": {
   "hash": "6a33784d2e02aee83e49ac6533fd5586adcd80ae4d6db07a7c73263e9bf81256"
  }
 },
 "nbformat": 4,
 "nbformat_minor": 2
}