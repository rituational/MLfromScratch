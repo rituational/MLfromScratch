{
 "metadata": {
  "language_info": {
   "codemirror_mode": {
    "name": "ipython",
    "version": 3
   },
   "file_extension": ".py",
   "mimetype": "text/x-python",
   "name": "python",
   "nbconvert_exporter": "python",
   "pygments_lexer": "ipython3",
   "version": "3.8.3"
  },
  "orig_nbformat": 4,
  "kernelspec": {
   "name": "python3",
   "display_name": "Python 3.8.3 64-bit ('base': conda)"
  },
  "interpreter": {
   "hash": "5290d49bf49c861d1e1b9142ef1e6b5b192d9fd7271105af6336aae767748867"
  }
 },
 "nbformat": 4,
 "nbformat_minor": 2,
 "cells": [
  {
   "source": [
    "Dynamically typed\n",
    "A = 1 \n",
    "A = 'bla' \n",
    "Wont through in error . \n",
    "\n",
    "In C, we specify type of variable at the start itself\n",
    "\n",
    "String\n",
    "Slicing [start,stop,step]\n",
    "\n",
    "Eg. A = 'abcdef'\n",
    "A[: : 2] prints ace\n",
    "A[: : -1] prints backwards i.e. 'fedcba'\n",
    "\n",
    "Strings are immutable \n",
    "A[2] = 's' throws error"
   ],
   "cell_type": "markdown",
   "metadata": {}
  },
  {
   "source": [
    "While something: \n",
    "\tDo something \n",
    "\n",
    "\n",
    "Else: \n",
    "Do other thing"
   ],
   "cell_type": "markdown",
   "metadata": {}
  },
  {
   "source": [
    "## Args and Kwargs in function\n",
    "\n",
    "args used when we need to take variable number of inputs. It converts all the inputs into a tuple\n",
    "\n",
    "kwargs converts the key value pairs into a dictionary"
   ],
   "cell_type": "markdown",
   "metadata": {}
  },
  {
   "cell_type": "code",
   "execution_count": 31,
   "metadata": {},
   "outputs": [],
   "source": [
    "## we can give any number of arguments and they are converted into a tuple\n",
    "\n",
    "def myfunc(*args):\n",
    "    print(args)\n",
    "\n",
    "def perform_sum(*args):\n",
    "    print(sum(args))\n",
    "    if 1 in args: \n",
    "        print('I found 1')\n",
    "    \n",
    "    return sum(args)\n",
    "\n",
    "def perform_selected_sum(*args, **kwargs):\n",
    "    print(args)\n",
    "    print(kwargs)\n",
    "\n",
    "    start_index = 0     #set default in case kwargs not there\n",
    "    end_index = None # if we put -1, the last element is ignored\n",
    "\n",
    "    if 'start_index' in kwargs.keys():\n",
    "        start_index = kwargs['start_index']\n",
    "    \n",
    "    if 'end_index' in kwargs.keys():\n",
    "        end_index = kwargs['end_index']\n",
    "\n",
    "    perform_sum(*args[start_index:end_index])\n",
    "    "
   ]
  },
  {
   "cell_type": "code",
   "execution_count": 2,
   "metadata": {},
   "outputs": [
    {
     "output_type": "stream",
     "name": "stdout",
     "text": [
      "(1, 2, 3)\n"
     ]
    }
   ],
   "source": [
    "myfunc(1,2,3)"
   ]
  },
  {
   "cell_type": "code",
   "execution_count": 7,
   "metadata": {},
   "outputs": [
    {
     "output_type": "stream",
     "name": "stdout",
     "text": [
      "6\nI found 1\n"
     ]
    }
   ],
   "source": [
    "perform_sum(1,2,3)"
   ]
  },
  {
   "cell_type": "code",
   "execution_count": 33,
   "metadata": {},
   "outputs": [
    {
     "output_type": "stream",
     "name": "stdout",
     "text": [
      "(1, 2, 3, 4, 5)\n{'start_index': 1, 'end_index': 3}\n5\n"
     ]
    }
   ],
   "source": [
    "perform_selected_sum(1,2,3,4,5, start_index = 1, end_index = 3)"
   ]
  },
  {
   "cell_type": "code",
   "execution_count": 32,
   "metadata": {},
   "outputs": [
    {
     "output_type": "stream",
     "name": "stdout",
     "text": [
      "(1, 2, 3, 4, 5)\n{}\n15\nI found 1\n"
     ]
    }
   ],
   "source": [
    "perform_selected_sum(1,2,3,4,5)"
   ]
  },
  {
   "source": [
    "## Map, Filter, lambda\n",
    "\n",
    "*Map*: maps the inputs and outputs the *result* \n",
    "*Filter*: Returns the *actual values* "
   ],
   "cell_type": "markdown",
   "metadata": {}
  },
  {
   "cell_type": "code",
   "execution_count": 46,
   "metadata": {},
   "outputs": [
    {
     "output_type": "stream",
     "name": "stdout",
     "text": [
      "1\n4\n9\n"
     ]
    }
   ],
   "source": [
    "for num in map(lambda x:x**2, (1,2,3)):\n",
    "    print(num)"
   ]
  },
  {
   "cell_type": "code",
   "execution_count": 49,
   "metadata": {},
   "outputs": [
    {
     "output_type": "stream",
     "name": "stdout",
     "text": [
      "1\n2\n3\n"
     ]
    }
   ],
   "source": [
    "for num in filter(lambda x:x**2, (1,2,3)):\n",
    "    print(num)"
   ]
  },
  {
   "cell_type": "code",
   "execution_count": 45,
   "metadata": {},
   "outputs": [
    {
     "output_type": "execute_result",
     "data": {
      "text/plain": [
       "6"
      ]
     },
     "metadata": {},
     "execution_count": 45
    }
   ],
   "source": [
    "a((1,2,3))"
   ]
  },
  {
   "source": [
    "## Variable Scope \n",
    "\n",
    "LEGB \n",
    "* Local (inside lambda or func)\n",
    "* Enclosing function \n",
    "* Global\n",
    "* In built \n",
    "\n",
    "Enclosing function: The function needs to be written inside a function, not just called from inside a function where variable defined"
   ],
   "cell_type": "markdown",
   "metadata": {}
  },
  {
   "cell_type": "code",
   "execution_count": 58,
   "metadata": {},
   "outputs": [
    {
     "output_type": "stream",
     "name": "stdout",
     "text": [
      "Hi this is global variable\n"
     ]
    }
   ],
   "source": [
    "name = \"this is global variable\"\n",
    "\n",
    "def hello():\n",
    "        print(\"Hi \"+name)\n",
    "        \n",
    "def greet():\n",
    "    name = \"Ritika\"\n",
    "    hello()\n",
    "    \n",
    "greet()"
   ]
  },
  {
   "cell_type": "code",
   "execution_count": 53,
   "metadata": {},
   "outputs": [
    {
     "output_type": "stream",
     "name": "stdout",
     "text": [
      "Hithis is global\n"
     ]
    }
   ],
   "source": []
  },
  {
   "cell_type": "code",
   "execution_count": 61,
   "metadata": {},
   "outputs": [
    {
     "output_type": "stream",
     "name": "stdout",
     "text": [
      "Hi Ritika\n"
     ]
    }
   ],
   "source": [
    "name = \"this is global\"\n",
    "   \n",
    "def greet():\n",
    "    name = \"Ritika\"\n",
    "    \n",
    "    def hello():\n",
    "        print(\"Hi \"+name)\n",
    "\n",
    "    hello()\n",
    "\n",
    "greet()"
   ]
  },
  {
   "source": [
    "### Global"
   ],
   "cell_type": "markdown",
   "metadata": {}
  },
  {
   "cell_type": "code",
   "execution_count": 64,
   "metadata": {},
   "outputs": [
    {
     "output_type": "stream",
     "name": "stdout",
     "text": [
      "Hi this is global\nname changed to \nGlobal variable from inside a function\n"
     ]
    }
   ],
   "source": [
    "name = \"this is global\"\n",
    "   \n",
    "def greet():\n",
    "    name = \"Ritika\"\n",
    "    \n",
    "    def hello():\n",
    "        global name\n",
    "        print(\"Hi \"+name)\n",
    "\n",
    "        name = \"Global variable from inside a function\"\n",
    "    hello()\n",
    "\n",
    "greet()\n",
    "print('name changed to \\n'+name)"
   ]
  },
  {
   "cell_type": "code",
   "execution_count": null,
   "metadata": {},
   "outputs": [],
   "source": []
  }
 ]
}