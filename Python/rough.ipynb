{
 "cells": [
  {
   "cell_type": "code",
   "execution_count": null,
   "source": [
    "def bfs():\r\n",
    "    #start at a node\r\n",
    "    # find all vertices connected to this node and add to a queue \r\n",
    "    # maintain visited vertices, if queued node in visited: ignore \r\n",
    "    \r\n"
   ],
   "outputs": [],
   "metadata": {}
  }
 ],
 "metadata": {
  "orig_nbformat": 4,
  "language_info": {
   "name": "python"
  }
 },
 "nbformat": 4,
 "nbformat_minor": 2
}