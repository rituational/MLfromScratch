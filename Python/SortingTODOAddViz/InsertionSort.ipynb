{
 "cells": [
  {
   "cell_type": "markdown",
   "source": [
    "* Start with one element on the left.\r\n",
    "* Second element gets compared and shifted if need be. \r\n",
    "* Third element now has to be inserted into this sorted array of two and so on.  \r\n",
    "* Better than selection sort, because shifting requires 1/3 operations than exchanging. "
   ],
   "metadata": {}
  },
  {
   "cell_type": "code",
   "execution_count": 19,
   "source": [
    "def insertion_sort(arr):\r\n",
    "\r\n",
    "    for i in range(1, len(arr)):\r\n",
    "\r\n",
    "        position = i \r\n",
    "        current_value = arr[i]\r\n",
    "\r\n",
    "        while position>0 and arr[position -1]> arr[position]:\r\n",
    "\r\n",
    "            arr[position] = arr[position-1]\r\n",
    "            position -= 1\r\n",
    "\r\n",
    "        arr[position] = current_value\r\n",
    "        \r\n",
    "    return arr "
   ],
   "outputs": [],
   "metadata": {}
  },
  {
   "cell_type": "code",
   "execution_count": 20,
   "source": [
    "arr = [100, 4, 10, 6 , 1, 35, 65]\r\n",
    "\r\n",
    "insertion_sort(arr)"
   ],
   "outputs": [
    {
     "output_type": "execute_result",
     "data": {
      "text/plain": [
       "[1, 4, 6, 10, 35, 65, 100]"
      ]
     },
     "metadata": {},
     "execution_count": 20
    }
   ],
   "metadata": {}
  },
  {
   "cell_type": "code",
   "execution_count": null,
   "source": [],
   "outputs": [],
   "metadata": {}
  }
 ],
 "metadata": {
  "orig_nbformat": 4,
  "language_info": {
   "name": "python",
   "version": "3.6.12",
   "mimetype": "text/x-python",
   "codemirror_mode": {
    "name": "ipython",
    "version": 3
   },
   "pygments_lexer": "ipython3",
   "nbconvert_exporter": "python",
   "file_extension": ".py"
  },
  "kernelspec": {
   "name": "python3",
   "display_name": "Python 3.6.12 64-bit (conda)"
  },
  "interpreter": {
   "hash": "6a33784d2e02aee83e49ac6533fd5586adcd80ae4d6db07a7c73263e9bf81256"
  }
 },
 "nbformat": 4,
 "nbformat_minor": 2
}