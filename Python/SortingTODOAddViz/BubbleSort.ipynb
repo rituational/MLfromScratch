{
 "cells": [
  {
   "cell_type": "code",
   "execution_count": 9,
   "source": [
    "def bubble_sort(arr):\r\n",
    "    '''\r\n",
    "    descending order \r\n",
    "    '''\r\n",
    "    \r\n",
    "    for i in range(len(arr)):\r\n",
    "        for j in range(i, len(arr)-1):\r\n",
    "\r\n",
    "            if arr[j+1]>arr[j]:\r\n",
    "                temp = arr[j+1]\r\n",
    "                arr[j+1] = arr[j]\r\n",
    "                arr[j] = temp\r\n",
    "    return arr \r\n",
    "            "
   ],
   "outputs": [],
   "metadata": {}
  },
  {
   "cell_type": "code",
   "execution_count": 10,
   "source": [
    "arr = [100, 4, 10, 6 , 1, 35, 65]\r\n",
    "\r\n",
    "bubble_sort(arr)"
   ],
   "outputs": [
    {
     "output_type": "execute_result",
     "data": {
      "text/plain": [
       "[100, 10, 35, 65, 6, 4, 1]"
      ]
     },
     "metadata": {},
     "execution_count": 10
    }
   ],
   "metadata": {}
  },
  {
   "cell_type": "code",
   "execution_count": null,
   "source": [],
   "outputs": [],
   "metadata": {}
  }
 ],
 "metadata": {
  "orig_nbformat": 4,
  "language_info": {
   "name": "python",
   "version": "3.6.12",
   "mimetype": "text/x-python",
   "codemirror_mode": {
    "name": "ipython",
    "version": 3
   },
   "pygments_lexer": "ipython3",
   "nbconvert_exporter": "python",
   "file_extension": ".py"
  },
  "kernelspec": {
   "name": "python3",
   "display_name": "Python 3.6.12 64-bit (conda)"
  },
  "interpreter": {
   "hash": "6a33784d2e02aee83e49ac6533fd5586adcd80ae4d6db07a7c73263e9bf81256"
  }
 },
 "nbformat": 4,
 "nbformat_minor": 2
}