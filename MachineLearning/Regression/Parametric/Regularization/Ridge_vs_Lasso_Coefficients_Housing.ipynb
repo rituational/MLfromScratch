{
 "cells": [
  {
   "cell_type": "markdown",
   "metadata": {},
   "source": [
    "## Coefficients of Ridge vs Lasso "
   ]
  },
  {
   "cell_type": "code",
   "execution_count": 2,
   "metadata": {},
   "outputs": [],
   "source": [
    "import pandas as pd\n",
    "import numpy as np\n",
    "import matplotlib.pyplot as plt\n",
    "\n",
    "from sklearn.model_selection import train_test_split \n",
    "from sklearn.preprocessing import PolynomialFeatures\n",
    "from sklearn.linear_model import LinearRegression\n",
    "from sklearn.linear_model import Ridge, Lasso\n",
    "from sklearn.preprocessing import StandardScaler\n",
    "from sklearn.metrics import mean_squared_error"
   ]
  },
  {
   "cell_type": "code",
   "execution_count": 3,
   "metadata": {},
   "outputs": [
    {
     "name": "stdout",
     "output_type": "stream",
     "text": [
      "Index(['id', 'date', 'price', 'bedrooms', 'bathrooms', 'sqft_living',\n",
      "       'sqft_lot', 'floors', 'waterfront', 'view', 'condition', 'grade',\n",
      "       'sqft_above', 'sqft_basement', 'yr_built', 'yr_renovated', 'zipcode',\n",
      "       'lat', 'long', 'sqft_living15', 'sqft_lot15'],\n",
      "      dtype='object')\n"
     ]
    }
   ],
   "source": [
    "housing = pd.read_csv(r'./helper/kc_house_data.csv')\n",
    "\n",
    "print(housing.columns)\n",
    "\n",
    "housing.drop('id', inplace = True, axis = 1)\n",
    "housing.drop('date', inplace = True, axis = 1)"
   ]
  },
  {
   "cell_type": "code",
   "execution_count": 4,
   "metadata": {},
   "outputs": [],
   "source": [
    "y = housing['price']\n",
    "X = housing.drop('price', axis = 1)\n",
    "Xtrain, Xtest, ytrain, ytest = train_test_split(X, y)"
   ]
  },
  {
   "cell_type": "code",
   "execution_count": 5,
   "metadata": {},
   "outputs": [],
   "source": [
    "sc = StandardScaler()\n",
    "X_train_norm = sc.fit_transform(Xtrain)\n",
    "X_test_norm = sc.fit_transform(Xtest)"
   ]
  },
  {
   "cell_type": "code",
   "execution_count": 6,
   "metadata": {},
   "outputs": [
    {
     "name": "stdout",
     "output_type": "stream",
     "text": [
      " With Ridge \n",
      "[-29708.68247857  28169.64725976  79418.69121854   3087.36978562\n",
      "   3187.89137218  48090.52872528  37663.05723192  18596.7932058\n",
      " 109826.39386247  74451.3474929   25506.74973838 -73222.27925882\n",
      "   9440.15503498 -29435.584629    83713.34109843 -30478.07397079\n",
      "  17819.77986351  -7732.06959438]\n"
     ]
    }
   ],
   "source": [
    "ridge = Ridge(alpha= 100)\n",
    "\n",
    "ridge.fit(X_train_norm,ytrain)\n",
    "\n",
    "print(' With Ridge ')\n",
    "print(ridge.coef_)"
   ]
  },
  {
   "cell_type": "code",
   "execution_count": 6,
   "metadata": {},
   "outputs": [
    {
     "name": "stdout",
     "output_type": "stream",
     "text": [
      " With Lasso \n",
      "[-30745.43823176  29172.81626032 145420.60106743      0.\n",
      "   1281.47843428  48722.75750238  40598.17992346  16293.27331442\n",
      " 115420.65133632  26554.47379487      0.         -76172.39604719\n",
      "   6915.56823333 -30026.53984328  83016.50435801 -29542.91950608\n",
      "  10136.84899751  -6965.18757647]\n"
     ]
    }
   ],
   "source": [
    "lasso = Lasso(alpha= 1000)\n",
    "\n",
    "lasso.fit(X_train_norm,ytrain)\n",
    "\n",
    "print(' With Lasso ')\n",
    "print(lasso.coef_)"
   ]
  },
  {
   "cell_type": "markdown",
   "metadata": {},
   "source": [
    "## Observation\n",
    "\n",
    "Even with a very large value of ridge, the coefficients arent close to zero. With smaller alpha, lasso has already regularized and knocked off lot many features. "
   ]
  }
 ],
 "metadata": {
  "kernelspec": {
   "display_name": "Python 3",
   "language": "python",
   "name": "python3"
  },
  "language_info": {
   "codemirror_mode": {
    "name": "ipython",
    "version": 3
   },
   "file_extension": ".py",
   "mimetype": "text/x-python",
   "name": "python",
   "nbconvert_exporter": "python",
   "pygments_lexer": "ipython3",
   "version": "3.6.12"
  }
 },
 "nbformat": 4,
 "nbformat_minor": 4
}
