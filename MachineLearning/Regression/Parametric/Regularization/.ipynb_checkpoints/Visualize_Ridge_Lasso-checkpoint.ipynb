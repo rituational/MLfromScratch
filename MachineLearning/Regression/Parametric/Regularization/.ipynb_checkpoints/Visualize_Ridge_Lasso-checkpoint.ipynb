{
 "cells": [
  {
   "cell_type": "markdown",
   "metadata": {},
   "source": [
    "## Visualize Ridge\n",
    "Consider two features and the cost can be written as\n",
    "$$ Cost = RSS(w) + \\lambda ||w||^2_2 $$\n",
    "$$ Cost = \\sum (y_i - w_0h_0 - w_1h_1)^2  +  \\lambda (w^2_0 + w^2_1) $$ \n",
    "\n",
    "#### Part 1 : Visualize RSS \n",
    "$$ RSS(w) = \\sum (y_i - w_0h_0 - w_1h_1)^2 $$ \n",
    "where h = X in matrix form\n",
    "If we expand the RSS term further\n",
    "$$ RSS(w) = \\sum y^2 + w_0^2 \\sum h_0^2 + w_1^2 \\sum h_1^2 + cross terms = constant $$\n",
    "This is an ellipse. Every elliptical contour gives combinations of weights that have equal cost        \n",
    "\n",
    "#### Part 2 : Visualize Ridge Penalty \n",
    "$$ Ridge cost = \\lambda ||w||^2_2  = \\lambda (w_0^2 + w_1^2)$$\n",
    "This is equation of circle, with cost being zero at origin, and cost increases as circle increases. For diff combinations of w's in a particular circular contour, the cost remains same(radius).\n",
    "\n",
    "#### Visualize it all (complete ridge solution):\n",
    "![title](helper/Ridge_Contour.PNG)\n",
    "\n",
    "\n",
    "* The mid point of ellipse (b) is the optimal point w.r.t. RSS. Origin (a) is optimal w.r.t L2 reg. \n",
    "* We need to find the intersection of these two curves, since both terms present in our cost function.\n",
    "* As $\\lambda$ increases, circle dimishes to zero, RSS term increases, as it will correspond to cost for zero weights (non optimal solution (??) \n",
    "* If $\\lambda$ very low weights can grow (hence large circle) and we can chose the mid point of ellipse itself. \n",
    "* Curve R2 has lower RSS, but higher L2 penalty. R1 has higher RSS but less L2 penalty.   \n",
    "* Why do we choose point x rather than the points marked green (for dark blue RSS contour?) L2 penalty is lower for x as compared to green\n",
    "\n"
   ]
  },
  {
   "cell_type": "markdown",
   "metadata": {},
   "source": [
    "## Visualize Lasso\n",
    "\n",
    "$$ Cost = \\sum (y_i - w_0h_0 - w_1h_1)^2  +  \\lambda (w_0 + w_1) $$ \n",
    "\n",
    "RSS contours are same \n",
    "\n",
    "Lasso Penalty:\n",
    "The $(|w_0| + |w_1| )$ equalling to a constant is diamond shaped plot. \n",
    "![title](helper/Lasso_Contour.PNG)          \n",
    "Adding the two cost and vizualising this with increasing $\\lambda$ the solution looks different than ridge in that the point hits w_0 to zero and finally reaches origin. In ridge, it never reached zero in both coeff.            \n",
    "Because of diamond shape, there is some prob of hitting that optimal and at that point the coeff are zero. in other terms, Lasso quickly approaches to sparse solution (features coef going to zero)."
   ]
  },
  {
   "cell_type": "code",
   "execution_count": 3,
   "metadata": {},
   "outputs": [
    {
     "data": {
      "text/html": [
       "<video src=\"helper/ridge_intiution_video.mp4\" controls  >\n",
       "      Your browser does not support the <code>video</code> element.\n",
       "    </video>"
      ],
      "text/plain": [
       "<IPython.core.display.Video object>"
      ]
     },
     "execution_count": 3,
     "metadata": {},
     "output_type": "execute_result"
    }
   ],
   "source": [
    "from IPython.display import Video\n",
    "\n",
    "Video(\"helper/ridge_intiution_video.mp4\")"
   ]
  },
  {
   "cell_type": "code",
   "execution_count": 5,
   "metadata": {},
   "outputs": [
    {
     "data": {
      "text/html": [
       "<video src=\"helper/lasso_intiution_video.mp4\" controls  >\n",
       "      Your browser does not support the <code>video</code> element.\n",
       "    </video>"
      ],
      "text/plain": [
       "<IPython.core.display.Video object>"
      ]
     },
     "execution_count": 5,
     "metadata": {},
     "output_type": "execute_result"
    }
   ],
   "source": [
    "Video(\"helper/lasso_intiution_video.mp4\")"
   ]
  },
  {
   "cell_type": "code",
   "execution_count": null,
   "metadata": {},
   "outputs": [],
   "source": []
  }
 ],
 "metadata": {
  "kernelspec": {
   "display_name": "Python 3",
   "language": "python",
   "name": "python3"
  },
  "language_info": {
   "codemirror_mode": {
    "name": "ipython",
    "version": 3
   },
   "file_extension": ".py",
   "mimetype": "text/x-python",
   "name": "python",
   "nbconvert_exporter": "python",
   "pygments_lexer": "ipython3",
   "version": "3.6.12"
  }
 },
 "nbformat": 4,
 "nbformat_minor": 4
}
