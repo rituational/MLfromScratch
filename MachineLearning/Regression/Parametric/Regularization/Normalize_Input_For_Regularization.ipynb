{
 "cells": [
  {
   "cell_type": "markdown",
   "metadata": {},
   "source": [
    "### How to handle Intercept?\n",
    "#### Option 1: Change I matrix in GD\n",
    "If we use the generic regularizer equation, it penalizes the intercept as well (ie, shrinks the intercept!). Which need not be correct always. So we can remove/exclude the intercept during gradient descent algorithm only from regularizer perspective. Implying the normal OLS GD will manage the intercept generation. Rest coefficients will be generated through ridge calculation as per above equations. How do we do that!\n",
    "\n",
    "$$ w = (X^T X + \\lambda I_{mod})^{-1} X^Ty $$\n",
    "In above eq, $ I_{mod}$ has the first column as zero instead of 1, which means the updates through ridge will be nullified but update thro OLS will remain. Hence, the intercept wont diminish or go to zero.\n",
    "\n",
    "The GD equation becomes,\n",
    "$$ W_0 = W_0 - \\alpha \\nabla cost $$\n",
    "$$ W_j = (1 - 2\\alpha \\lambda)W_j - \\alpha \\nabla cost $$\n",
    "j > 0 (remaining features)\n",
    "\n",
    "#### Option 2: With Centering       \n",
    "When you center about 0, then small intercept doesnt matter. You can proceed  as normal. \n",
    "Steps:          \n",
    "1. Transform y to have 0 means          \n",
    "2. Run ridge as normal (closed form/ GD)"
   ]
  },
  {
   "cell_type": "code",
   "execution_count": null,
   "metadata": {},
   "outputs": [],
   "source": []
  }
 ],
 "metadata": {
  "kernelspec": {
   "display_name": "Python 3",
   "language": "python",
   "name": "python3"
  },
  "language_info": {
   "codemirror_mode": {
    "name": "ipython",
    "version": 3
   },
   "file_extension": ".py",
   "mimetype": "text/x-python",
   "name": "python",
   "nbconvert_exporter": "python",
   "pygments_lexer": "ipython3",
   "version": "3.6.12"
  }
 },
 "nbformat": 4,
 "nbformat_minor": 4
}
