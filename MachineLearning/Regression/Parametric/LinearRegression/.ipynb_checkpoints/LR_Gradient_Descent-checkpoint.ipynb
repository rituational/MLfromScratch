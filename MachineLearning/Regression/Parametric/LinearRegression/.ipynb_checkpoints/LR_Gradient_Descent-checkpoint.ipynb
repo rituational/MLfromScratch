{
 "cells": [
  {
   "cell_type": "code",
   "execution_count": 2,
   "metadata": {},
   "outputs": [],
   "source": [
    "import numpy as np\n",
    "import matplotlib.pyplot as plt "
   ]
  },
  {
   "cell_type": "markdown",
   "metadata": {},
   "source": [
    "## Non matrix form derivation \n",
    "\n",
    "y = mx+c \n",
    "\n",
    "$$ \\mathcal{L} = \\frac{(y- y)^{2}}{2N} $$\n",
    "$$ \\mathcal{L} = \\frac{(y- (mx+c))^{2} }{2N} $$\n",
    "\n",
    "    \n",
    "$ \\frac{\\delta \\mathcal{L}}{\\delta m} = \\sum{2(y- (mx+c))x} $\n",
    "\n",
    "$ \\frac{\\delta \\mathcal{L}}{\\delta c} = \\sum{2(y- (mx+c))} $\n",
    "\n"
   ]
  },
  {
   "cell_type": "markdown",
   "metadata": {},
   "source": [
    "## Matrix Derivation \n",
    "\n",
    "$ y = \\theta^{T}X $\n",
    "\n",
    "\n",
    "$$ \\mathcal{L} = \\frac{1}{2m}(y-\\hat y)^{T}(y-\\hat y) $$\n",
    "$$ \\mathcal{L} = \\frac{1}{2m}(X{\\theta}-y)^{T}(X{\\theta}-y) $$\n",
    "$$ \\mathcal{L} = \\frac{1}{2m}((X\\theta )^{T}-y^{T})(X{\\theta}-y) $$\n",
    "$$ \\mathcal{L} = \\frac{1}{2m}( \\theta^{T}X^{T}X{\\theta}-2\\theta^{T}X^{T}y+y^{T}y) $$\n",
    "\n",
    "$$ \\frac{\\delta \\mathcal{L}}{\\delta \\theta} = \\frac{2}{2m}(\\theta^{T}𝑋𝑇X-X^{T}y ) $$\n",
    "$$ \\frac{\\delta \\mathcal{L}}{\\delta \\theta} = \\frac{2}{2m}(\\hat y - y )X^{T} $$\n",
    "\n",
    "\n",
    "For the weight update \n",
    "\n",
    "$$  \\theta = \\theta - \\frac{\\delta \\mathcal{L}}{\\delta \\theta} $$\n",
    "$$  \\theta = \\theta - \\alpha(\\frac{1}{m}(\\hat y - y )X^{T})  $$\n",
    "\n",
    "$$ \\boxed{ \\theta = \\theta + \\frac{\\alpha}{m}(y - \\hat y)X^{T} } $$"
   ]
  },
  {
   "cell_type": "code",
   "execution_count": null,
   "metadata": {},
   "outputs": [],
   "source": []
  }
 ],
 "metadata": {
  "kernelspec": {
   "display_name": "Python 3",
   "language": "python",
   "name": "python3"
  },
  "language_info": {
   "codemirror_mode": {
    "name": "ipython",
    "version": 3
   },
   "file_extension": ".py",
   "mimetype": "text/x-python",
   "name": "python",
   "nbconvert_exporter": "python",
   "pygments_lexer": "ipython3",
   "version": "3.6.12"
  }
 },
 "nbformat": 4,
 "nbformat_minor": 4
}
