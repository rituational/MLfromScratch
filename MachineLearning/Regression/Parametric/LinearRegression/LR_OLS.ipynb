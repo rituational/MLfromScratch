{
 "cells": [
  {
   "cell_type": "code",
   "execution_count": 1,
   "metadata": {},
   "outputs": [],
   "source": [
    "import pandas as pd\n",
    "import numpy as np\n",
    "import matplotlib.pyplot as plt"
   ]
  },
  {
   "cell_type": "markdown",
   "metadata": {},
   "source": [
    "## Closed Form Derivation\n",
    "\n",
    "$$ \\hat y = h(\\theta.x) = {\\theta}^{T}.X $$\n",
    "\n",
    "\n",
    "$ \\hat y $= prediction\n",
    "h is hypothesis function\n",
    "\\theta are feature weights\n",
    "and X is array of features\n",
    "\n",
    "\n",
    "To train we need to reduce y-$ \\hat y $ (our cost function). We go for RMSE as the metric for evaluation, but while training since our regression formulation is convex, what minimizes RMSE will minimise MSE.\n",
    "\n",
    "MSE = \n",
    "\n",
    "$$ MSE = \\frac{1}{2m}(y-\\hat y)^{T}(y-\\hat y) $$\n",
    "$$ MSE = \\frac{1}{2m}(X{\\theta}-y)^{T}(X{\\theta}-y) $$\n",
    "$$ MSE = \\frac{1}{2m}((X\\theta )^{T}-y^{T})(X{\\theta}-y) $$\n",
    "\n",
    "\n",
    "$$ MSE = \\frac{1}{2m}( \\theta^{T}X^{T}-y^{T})(X{\\theta}-y) $$\n",
    "$$ MSE = \\frac{1}{2m}( \\theta^{T}X^{T}X{\\theta}-\\theta^{T}X^{T}y-y^{T}X{\\theta}+y^{T}y) $$\n",
    "$$ MSE = \\frac{1}{2m}( \\theta^{T}X^{T}X{\\theta}-\\theta^{T}X^{T}y-\\theta^{T}X^{T}y+y^{T}y) $$\n",
    "$$ MSE = \\frac{1}{2m}( \\theta^{T}X^{T}X{\\theta}-2\\theta^{T}X^{T}y+y^{T}y) $$\n",
    "\n",
    "We need to minimize MSE. Our variable is $\\theta$. Visualize the above equation as simple multiplication of \\theta rather than matrix multiplication. $\\theta^{T}\\theta$ is basically $\\sum {\\theta}^2$. Thus, deriving MSE w.r.t. $\\theta$ gives:\n",
    "$$ \\frac{\\delta MSE}{\\delta \\theta} = 0 $$\n",
    " $$ \\frac{1}{2m}(2X^{T}X{\\theta}-2X^{T}y)=0$$ \n",
    "\n",
    " $$ {\\theta} = (X^{T}X)^{-1}X^{T}y$$ "
   ]
  },
  {
   "cell_type": "code",
   "execution_count": 18,
   "metadata": {},
   "outputs": [],
   "source": [
    "# Implementation of normal equation\n",
    "def theta_using_normal_equation(X,y):\n",
    "    theta = np.linalg.inv(X.T@X)@(X.T)@y\n",
    "    return theta"
   ]
  },
  {
   "cell_type": "code",
   "execution_count": 15,
   "metadata": {},
   "outputs": [
    {
     "data": {
      "image/png": "[encoded data removed]",
      "text/plain": [
       "<Figure size 432x288 with 1 Axes>"
      ]
     },
     "metadata": {
      "needs_background": "light"
     },
     "output_type": "display_data"
    },
    {
     "data": {
      "text/plain": [
       "Text(0.5, 1.0, 'data superimposed with the regressed line')"
      ]
     },
     "execution_count": 15,
     "metadata": {},
     "output_type": "execute_result"
    },
    {
     "data": {
      "image/png": "[encoded data removed]",
      "text/plain": [
       "<Figure size 432x288 with 1 Axes>"
      ]
     },
     "metadata": {
      "needs_background": "light"
     },
     "output_type": "display_data"
    }
   ],
   "source": [
    "# Generate some noisy data\n",
    "\n",
    "X1 = 2*np.random.rand(100,1)\n",
    "y = 10+4*X1+np.random.randn(100,1)\n",
    "\n",
    "# visualize\n",
    "plt.scatter(X1,y);\n",
    "plt.title('training distribution')\n",
    "plt.show() \n",
    "\n",
    "\n",
    "# Add intercept to X\n",
    "X = np.c_[np.ones((100,1)),X1]\n",
    "theta = theta_using_normal_equation(X,y)\n",
    "\n",
    "Xtest = np.array([[0],[2]])\n",
    "Xtestt = np.c_[np.ones((2,1)),Xtest]\n",
    "ytest = Xtestt@theta\n",
    "\n",
    "plt.plot(Xtest,ytest)\n",
    "plt.scatter(X1,y)\n",
    "plt.title('data superimposed with the regressed line')"
   ]
  },
  {
   "cell_type": "markdown",
   "metadata": {},
   "source": [
    "We created data for $y = 10+4x+Noise$ The presence of Gaussian noise made it impossible for normal equation to get the exact coefficients. This noise leads to irreducible error."
   ]
  },
  {
   "cell_type": "markdown",
   "metadata": {},
   "source": [
    "## Singularity \n",
    "\n",
    "Normal equation calculates inverse of X, which may be singular if number of features > number of independent observations or we have redundant features. Let test this. \n",
    "\n",
    "(NOTE: If we use ridge regularization, it makes sure the matrix is always non singular by adding $ \\lambda $ ( l2 regularization coefficient) at every diagonal element in the matrix \n",
    "\n",
    "### TODO: Add reference\n",
    "\n"
   ]
  },
  {
   "cell_type": "markdown",
   "metadata": {},
   "source": [
    "### Case 1: Dependent Features "
   ]
  },
  {
   "cell_type": "code",
   "execution_count": 23,
   "metadata": {
    "scrolled": false
   },
   "outputs": [],
   "source": [
    "## We add a new feature which is 2X \n",
    "X2 = 2*X1 #+np.random.randn(100,1)\n",
    "\n",
    "X3 = np.c_[np.ones((100,1)),X1,X2]\n",
    "theta = theta_using_normal_equation(X3,y)\n",
    "\n",
    "### This should give error singular matrix! Dont know why it isnt, it gave earlier. "
   ]
  },
  {
   "cell_type": "markdown",
   "metadata": {},
   "source": [
    "Indeed we get a singular matrix (ref. https://stats.stackexchange.com/questions/70899/what-correlation-makes-a-matrix-singular-and-what-are-implications-of-singularit#:~:text=A%20square%20matrix%20is%20singular,being%20without%20a%20constant%20term. for description on what all can cause this)\n",
    "If columns are linearly dependent the matrix goes singular. (Multicollinearity?)\n",
    "To circumvent this, we can use pseudo inverse (which used SVD) as shown below. Pinverse will give a solution. For a proof ref. https://orinanobworld.blogspot.com/2015/10/ols-oddities.html"
   ]
  },
  {
   "cell_type": "code",
   "execution_count": 13,
   "metadata": {
    "scrolled": true
   },
   "outputs": [
    {
     "ename": "SyntaxError",
     "evalue": "invalid syntax (<ipython-input-13-643a2046fe13>, line 12)",
     "output_type": "error",
     "traceback": [
      "\u001b[1;36m  File \u001b[1;32m\"<ipython-input-13-643a2046fe13>\"\u001b[1;36m, line \u001b[1;32m12\u001b[0m\n\u001b[1;33m    ytest = Xtestt@thetaa\u001b[0m\n\u001b[1;37m        ^\u001b[0m\n\u001b[1;31mSyntaxError\u001b[0m\u001b[1;31m:\u001b[0m invalid syntax\n"
     ]
    }
   ],
   "source": [
    "## TODO: Code isnt right post this \n",
    "\n",
    "def p_inverse(X, y):\n",
    "    thetaa = np.linalg.pinv(X.T@X)@(X.T)@y\n",
    "    return thetaa\n",
    "\n",
    "#test prediction\n",
    "Xtest = np.array([[0],[2]])\n",
    "Xtest = np.c_[Xtest,2*np.array([[0],[2]])]\n",
    "Xtestt = np.c_[np.ones((2,1)),Xtest]\n",
    "thetaa = p_inverse(Xtestt\n",
    "ytest = Xtestt@thetaa\n",
    "\n",
    "plt.plot(Xtest,ytest)\n",
    "plt.scatter(X1,y)"
   ]
  },
  {
   "cell_type": "code",
   "execution_count": 5,
   "metadata": {},
   "outputs": [
    {
     "ename": "NameError",
     "evalue": "name 'Xtest' is not defined",
     "output_type": "error",
     "traceback": [
      "\u001b[1;31m---------------------------------------------------------------------------\u001b[0m",
      "\u001b[1;31mNameError\u001b[0m                                 Traceback (most recent call last)",
      "\u001b[1;32m<ipython-input-5-38894f26d44f>\u001b[0m in \u001b[0;36m<module>\u001b[1;34m\u001b[0m\n\u001b[1;32m----> 1\u001b[1;33m \u001b[0mXtest\u001b[0m\u001b[1;33m.\u001b[0m\u001b[0mshape\u001b[0m\u001b[1;33m\u001b[0m\u001b[1;33m\u001b[0m\u001b[0m\n\u001b[0m",
      "\u001b[1;31mNameError\u001b[0m: name 'Xtest' is not defined"
     ]
    }
   ],
   "source": [
    "Xtest.shape"
   ]
  },
  {
   "cell_type": "markdown",
   "metadata": {},
   "source": [
    "What if the features arent redundant. There is some random noise in the second feature"
   ]
  },
  {
   "cell_type": "code",
   "execution_count": 17,
   "metadata": {},
   "outputs": [
    {
     "data": {
      "text/plain": [
       "array([[10.23806886],\n",
       "       [ 3.68466937],\n",
       "       [ 0.09941189]])"
      ]
     },
     "execution_count": 17,
     "metadata": {},
     "output_type": "execute_result"
    }
   ],
   "source": [
    "X2 = 2*X1+np.random.randn(100,1)\n",
    "X3 = np.c_[np.ones((100,1)),X1,X2]\n",
    "theta = normal_equation(X3,y)\n",
    "theta"
   ]
  },
  {
   "cell_type": "markdown",
   "metadata": {},
   "source": [
    "Normal equation gave no weightage to that. "
   ]
  },
  {
   "cell_type": "code",
   "execution_count": 18,
   "metadata": {},
   "outputs": [
    {
     "data": {
      "text/plain": [
       "array([[ 3.93878813],\n",
       "       [-1.9153472 ],\n",
       "       [ 3.0408183 ]])"
      ]
     },
     "execution_count": 18,
     "metadata": {},
     "output_type": "execute_result"
    }
   ],
   "source": [
    "X2 = 2*X1+1\n",
    "X3 = np.c_[np.ones((100,1)),X1,X2]\n",
    "theta = normal_equation(X3,y)\n",
    "theta"
   ]
  },
  {
   "cell_type": "markdown",
   "metadata": {},
   "source": []
  }
 ],
 "metadata": {
  "kernelspec": {
   "display_name": "Python 3",
   "language": "python",
   "name": "python3"
  },
  "language_info": {
   "codemirror_mode": {
    "name": "ipython",
    "version": 3
   },
   "file_extension": ".py",
   "mimetype": "text/x-python",
   "name": "python",
   "nbconvert_exporter": "python",
   "pygments_lexer": "ipython3",
   "version": "3.6.12"
  }
 },
 "nbformat": 4,
 "nbformat_minor": 2
}
