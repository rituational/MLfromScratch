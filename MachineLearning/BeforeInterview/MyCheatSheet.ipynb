{
 "cells": [
  {
   "cell_type": "markdown",
   "source": [
    "### Covariance \r\n",
    "\r\n",
    "### Correlation \r\n",
    "\r\n",
    "\r\n",
    "### R square \r\n",
    "* Correlation (R) gives the linear relation between two variables (-1 to 1), but the numbers dont signify anything \r\n",
    "* Ra = 0.5 vs Rb = 0.7: Rb isnt a 20% better. \r\n",
    "\r\n",
    "* R2 is a measure of how much of variance in data is explained by the model. \r\n",
    "* Variance from mean is the baseline. If model didnt reduce the variance, Var(model) = Var(mean)\r\n",
    "* A good model will have the variane \r\n",
    "![](helper/1.JPG) "
   ],
   "metadata": {}
  },
  {
   "cell_type": "markdown",
   "source": [],
   "metadata": {}
  }
 ],
 "metadata": {
  "orig_nbformat": 4,
  "language_info": {
   "name": "python"
  }
 },
 "nbformat": 4,
 "nbformat_minor": 2
}