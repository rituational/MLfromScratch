{
 "cells": [
  {
   "cell_type": "markdown",
   "source": [
    "![](helper/3.JPG)"
   ],
   "metadata": {}
  },
  {
   "cell_type": "markdown",
   "source": [
    "# Isolation Forest \r\n",
    "\r\n",
    "* We build a binary tree splitting the data randomly until each data point becomes a leaf.\r\n",
    "* We build 100 such trees. \r\n",
    "* We look at the average depth for isolation. \r\n",
    "* Will need lots of splits (high d), if a data point is part of dense cluster: output 1 ($2^{0})\r\n",
    "* If anomaly, we may isolate it very early: output 0 ($~ 2^{-1})\r\n",
    "\r\n",
    "![](helper/1.JPG)"
   ],
   "metadata": {}
  },
  {
   "cell_type": "markdown",
   "source": [
    "![](helper/2.JPG)"
   ],
   "metadata": {}
  },
  {
   "cell_type": "markdown",
   "source": [],
   "metadata": {}
  },
  {
   "cell_type": "markdown",
   "source": [
    "# One class SVM \r\n",
    "\r\n",
    "* We build SVM whole data vs origin, $\\gamma$ decides the slackness we give \r\n",
    "* We use RBF (radial bias function) as this kernel fits a non linear envelope.  "
   ],
   "metadata": {}
  },
  {
   "cell_type": "markdown",
   "source": [
    "![](helper/3.JPG)"
   ],
   "metadata": {}
  },
  {
   "cell_type": "code",
   "execution_count": null,
   "source": [],
   "outputs": [],
   "metadata": {}
  }
 ],
 "metadata": {
  "orig_nbformat": 4,
  "language_info": {
   "name": "python"
  }
 },
 "nbformat": 4,
 "nbformat_minor": 2
}