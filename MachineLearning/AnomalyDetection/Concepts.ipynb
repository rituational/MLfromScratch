{
 "cells": [
  {
   "cell_type": "markdown",
   "metadata": {},
   "source": [
    "![](helper/3.JPG)"
   ]
  },
  {
   "cell_type": "markdown",
   "metadata": {},
   "source": [
    "# Isolation Forest \n",
    "\n",
    "* We build a binary tree splitting the data randomly until each data point becomes a leaf.\n",
    "* We build 100 such trees. \n",
    "* We look at the average depth for isolation. \n",
    "* Will need lots of splits (high d), if a data point is part of dense cluster: output 1 ($2^{0})\n",
    "* If anomaly, we may isolate it very early: output 0 ($~ 2^{-1})\n",
    "\n",
    "![](helper/1.JPG)"
   ]
  },
  {
   "cell_type": "markdown",
   "metadata": {},
   "source": [
    "![](helper/2.JPG)"
   ]
  },
  {
   "cell_type": "markdown",
   "metadata": {},
   "source": []
  },
  {
   "cell_type": "markdown",
   "metadata": {},
   "source": [
    "# One class SVM \n",
    "\n",
    "* We build SVM whole data vs origin, $\\gamma$ decides the slackness we give \n",
    "* We use RBF (radial bias function) as this kernel fits a non linear envelope.  "
   ]
  },
  {
   "cell_type": "markdown",
   "metadata": {},
   "source": [
    "![](helper/3.JPG)"
   ]
  },
  {
   "cell_type": "code",
   "execution_count": null,
   "metadata": {},
   "outputs": [],
   "source": []
  }
 ],
 "metadata": {
  "language_info": {
   "name": "python"
  },
  "orig_nbformat": 4
 },
 "nbformat": 4,
 "nbformat_minor": 2
}
