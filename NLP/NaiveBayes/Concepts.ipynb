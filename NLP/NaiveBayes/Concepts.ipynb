{
 "cells": [
  {
   "cell_type": "markdown",
   "source": [
    "## Naive Bayes\r\n",
    "* Its naive because it treats all word orders the same, high bias, low variance.\r\n",
    "* We take a prior probability and update it to get a posterior. \r\n",
    "eg. spam classification, we calculate conditional probability for each word|spam or not. \r\n",
    "* For any new word, we find prior for being normal, which is just the percentage of normal in training set. \r\n",
    "* We predict the class that has the higher posterior. \r\n",
    "![](helper/1.JPG)"
   ],
   "metadata": {}
  },
  {
   "cell_type": "markdown",
   "source": [],
   "metadata": {}
  }
 ],
 "metadata": {
  "orig_nbformat": 4,
  "language_info": {
   "name": "python"
  }
 },
 "nbformat": 4,
 "nbformat_minor": 2
}