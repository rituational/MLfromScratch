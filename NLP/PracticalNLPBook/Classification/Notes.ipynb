{
 "cells": [
  {
   "cell_type": "markdown",
   "metadata": {},
   "source": [
    "## Use Cases \n",
    "* Content classification and organisation: tagging content, routing customer service request ot right team, organising e mail.\n",
    "* Customer support: Check which tweet a brand needs to respond out of all it was tagged in.\n",
    "* Sentiment analysis: Go beyond positive, negative, neutral: aspect based sentiment analysis\n",
    "* Detect language used\n",
    "* Identify unknown authors of text\n",
    "* segregate real from fake news"
   ]
  },
  {
   "cell_type": "markdown",
   "metadata": {},
   "source": [
    "## Start with simple classifier without ML\n",
    "* Lexicon based sentiment analysis\n",
    "* * For sentiment analysis, we may just compare the text with the positive, negative words \n",
    "* * Improve it by making a dictionary of positive, negative and neutral degree.\n",
    "* * Good as a baseline and deploying something quick. \n",
    "\n",
    "* Use off the shelf APIs: Cloud providers have classification, sentiment analysis APIs. Can check if it works for our use case \n",
    "\n",
    "## Training a Classifier \n",
    "* WE take Economic times dataset which is tagged ir/relevant to US economy. \n",
    "\n",
    "### Naive Bayes \n"
   ]
  }
 ],
 "metadata": {
  "language_info": {
   "name": "python"
  },
  "orig_nbformat": 4
 },
 "nbformat": 4,
 "nbformat_minor": 2
}
